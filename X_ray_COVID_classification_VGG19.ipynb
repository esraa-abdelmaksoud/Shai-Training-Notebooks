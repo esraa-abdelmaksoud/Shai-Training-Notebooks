{
  "cells": [
    {
      "cell_type": "markdown",
      "metadata": {
        "id": "view-in-github",
        "colab_type": "text"
      },
      "source": [
        "<a href=\"https://colab.research.google.com/github/esraa-abdelmaksoud/Shai-Training-Notebooks/blob/main/X_ray_COVID_classification_VGG19.ipynb\" target=\"_parent\"><img src=\"https://colab.research.google.com/assets/colab-badge.svg\" alt=\"Open In Colab\"/></a>"
      ]
    },
    {
      "cell_type": "code",
      "source": [
        "from google.colab import drive\n",
        "drive.mount('/content/drive')"
      ],
      "metadata": {
        "colab": {
          "base_uri": "https://localhost:8080/"
        },
        "id": "avWiPLZO3dP1",
        "outputId": "731f4ebe-f8a9-43df-b9f0-832fd261240f"
      },
      "execution_count": 1,
      "outputs": [
        {
          "output_type": "stream",
          "name": "stdout",
          "text": [
            "Drive already mounted at /content/drive; to attempt to forcibly remount, call drive.mount(\"/content/drive\", force_remount=True).\n"
          ]
        }
      ]
    },
    {
      "cell_type": "code",
      "source": [
        "import os\n",
        "import shutil\n",
        "import random\n",
        "import cv2\n",
        "import pandas as pd\n",
        "import matplotlib.pyplot as plt\n",
        "import numpy as np\n",
        "from scipy import ndimage\n",
        "import tensorflow as tf\n",
        "from tensorflow import keras\n",
        "from tensorflow.keras import layers\n",
        "from tensorflow.keras.preprocessing import image\n",
        "from tensorflow.keras.preprocessing.image import ImageDataGenerator\n",
        "from tensorflow.keras.callbacks import EarlyStopping, ModelCheckpoint\n",
        "from tensorflow.keras.models import Sequential\n",
        "from tensorflow.keras.layers import Dense, Dropout, Flatten\n",
        "from tensorflow.keras.applications import InceptionV3\n",
        "tf.__version__\n",
        "tf.random.set_seed(123)\n",
        "os.environ['TF_CPP_MIN_LOG_LEVEL'] = '3'"
      ],
      "metadata": {
        "id": "z076by7sLEsE"
      },
      "execution_count": 2,
      "outputs": []
    },
    {
      "cell_type": "code",
      "source": [
        "# Create folders\n",
        "parent_dir = r'/content/drive/MyDrive/SHAI/covid dataset'\n",
        "if not os.path.isdir('/content/drive/MyDrive/SHAI/covid dataset/data'):\n",
        "  folders = ['data','data/train','data/test','data/val','data/train/covid',\n",
        "            'data/train/normal', 'data/train/virus', 'data/test/covid',\n",
        "            'data/test/normal', 'data/test/virus', 'data/val/covid',\n",
        "            'data/val/normal', 'data/val/virus']\n",
        "  for folder in folders:\n",
        "    path = os.path.join(parent_dir, folder)\n",
        "    os.mkdir(path)"
      ],
      "metadata": {
        "id": "ek99cwftLjN7"
      },
      "execution_count": 3,
      "outputs": []
    },
    {
      "cell_type": "code",
      "source": [
        "# Check original images count\n",
        "org_covid = r'/content/drive/MyDrive/SHAI/covid dataset/train/covid'\n",
        "org_normal = r'/content/drive/MyDrive/SHAI/covid dataset/train/normal'\n",
        "org_virus = r'/content/drive/MyDrive/SHAI/covid dataset/train/virus'\n",
        "print('COVID: ',len(os.listdir(org_covid)))\n",
        "print('NORMAL: ',len(os.listdir(org_normal)))\n",
        "print('VIRUS: ',len(os.listdir(org_virus)))"
      ],
      "metadata": {
        "colab": {
          "base_uri": "https://localhost:8080/"
        },
        "id": "-flqamnjN18c",
        "outputId": "928942cb-f949-449e-c525-0197cb293e95"
      },
      "execution_count": 4,
      "outputs": [
        {
          "output_type": "stream",
          "name": "stdout",
          "text": [
            "COVID:  295\n",
            "NORMAL:  468\n",
            "VIRUS:  433\n"
          ]
        }
      ]
    },
    {
      "cell_type": "code",
      "source": [
        "# Class directories\n",
        "covid_dir = os.path.join(parent_dir, 'data/train/covid')\n",
        "normal_dir = os.path.join(parent_dir, 'data/train/normal')\n",
        "virus_dir = os.path.join(parent_dir, 'data/train/virus')"
      ],
      "metadata": {
        "id": "9Ygv_2k6bfQE"
      },
      "execution_count": 5,
      "outputs": []
    },
    {
      "cell_type": "code",
      "source": [
        "# Copy all data to train if not copied\n",
        "if len(os.listdir(covid_dir)) == 0:\n",
        "  shutil.copytree(org_covid, covid_dir, dirs_exist_ok=True)\n",
        "  shutil.copytree(org_normal, normal_dir, dirs_exist_ok=True)\n",
        "  shutil.copytree(org_virus, virus_dir, dirs_exist_ok=True)"
      ],
      "metadata": {
        "id": "O2xt0wC9RgHJ"
      },
      "execution_count": 6,
      "outputs": []
    },
    {
      "cell_type": "code",
      "source": [
        "# Get number of required files per class\n",
        "target = 500\n",
        "to_move = target //10\n",
        "covid_diff = target - len(os.listdir(covid_dir))\n",
        "normal_diff = target - len(os.listdir(normal_dir))\n",
        "virus_diff = target - len(os.listdir(virus_dir))\n",
        "print(f'COVID: {covid_diff}, NORMAL: {normal_diff}, VIRUS: {virus_diff}')"
      ],
      "metadata": {
        "colab": {
          "base_uri": "https://localhost:8080/"
        },
        "id": "Y93oT3FXcCnJ",
        "outputId": "e1cb7a8a-25fc-42f2-bb22-0ec2afd181d6"
      },
      "execution_count": 7,
      "outputs": [
        {
          "output_type": "stream",
          "name": "stdout",
          "text": [
            "COVID: 100, NORMAL: 100, VIRUS: 100\n"
          ]
        }
      ]
    },
    {
      "cell_type": "code",
      "execution_count": 8,
      "metadata": {
        "id": "-RGITBry3MZE"
      },
      "outputs": [],
      "source": [
        "# Use counter to stop when the difference between classes is zero\n",
        "def augment_data(diff: int, dir: str) -> None:\n",
        "  files = os.listdir(dir)\n",
        "  for i in range(diff):\n",
        "    # rotate by 5 degrees\n",
        "    img_path = os.path.join(dir, files[i])\n",
        "    img = cv2.imread(img_path)\n",
        "    rotated = ndimage.rotate(img, 5)\n",
        "    cv2.imwrite(f'{img_path[:-5]}-aug.jpg', rotated)\n",
        "if covid_diff > 0 and covid_diff != (to_move*2):\n",
        "  augment_data(covid_diff, covid_dir)\n",
        "if normal_diff > 0 and normal_diff != (to_move*2):\n",
        "  augment_data(normal_diff, normal_dir)\n",
        "if virus_diff > 0 and virus_diff != (to_move*2):\n",
        "  augment_data(virus_diff, virus_dir)"
      ]
    },
    {
      "cell_type": "code",
      "source": [
        "# Move 10% to test folder and validation folder\n",
        "def split_files(parent_dir: str, class_name: str, to_move: int, target: int) -> None:\n",
        "  train_class_dir = os.path.join(parent_dir,'data/train', class_name)\n",
        "  test_class_dir = os.path.join(parent_dir,'data/test', class_name)\n",
        "  val_class_dir = os.path.join(parent_dir,'data/val', class_name)\n",
        "  files = os.listdir(train_class_dir)\n",
        "  for i in range(to_move):\n",
        "    # Move to text\n",
        "    rand_file = files[random.randint(0,target-(to_move*2)-1)]\n",
        "    file_path = os.path.join(train_class_dir, rand_file)\n",
        "    new_path = os.path.join(test_class_dir, rand_file)\n",
        "    shutil.move(file_path, new_path)\n",
        "    files.remove(rand_file)\n",
        "\n",
        "    # Move to validation\n",
        "    rand_file = files[random.randint(0,target-(to_move*2)-1)]\n",
        "    file_path = os.path.join(train_class_dir, rand_file)\n",
        "    new_path = os.path.join(val_class_dir, rand_file)\n",
        "    shutil.move(file_path, new_path)\n",
        "    files.remove(rand_file)\n",
        "\n",
        "if len(os.listdir(os.path.join(parent_dir,'data/train/covid'))) > int(target*0.8):\n",
        "  split_files(parent_dir, 'covid', to_move, target)\n",
        "  split_files(parent_dir, 'normal', to_move, target)\n",
        "  split_files(parent_dir, 'virus', to_move, target)"
      ],
      "metadata": {
        "id": "r3lIvrhgoTSl"
      },
      "execution_count": 9,
      "outputs": []
    },
    {
      "cell_type": "code",
      "source": [
        "# Directories\n",
        "train_dir = os.path.join(parent_dir, 'data/train')\n",
        "test_dir = os.path.join(parent_dir, 'data/test')\n",
        "val_dir = os.path.join(parent_dir, 'data/val')"
      ],
      "metadata": {
        "id": "wGz-lVr61J7y"
      },
      "execution_count": 10,
      "outputs": []
    },
    {
      "cell_type": "markdown",
      "source": [
        "### The data is now balanced!"
      ],
      "metadata": {
        "id": "kH3UdvPc06Tf"
      }
    },
    {
      "cell_type": "code",
      "source": [
        "# Set the input image size\n",
        "img_width, img_height = 300, 300\n",
        "\n",
        "# Define the batch size for training and validation sets\n",
        "batch_size = 32\n",
        "\n",
        "# Create data generators for the train, validation, and test sets with data augmentation\n",
        "train_datagen = ImageDataGenerator(rescale=1./255)\n",
        "val_datagen = ImageDataGenerator(rescale=1./255)\n",
        "test_datagen = ImageDataGenerator(rescale=1./255)"
      ],
      "metadata": {
        "id": "AHCcf_Bn332E"
      },
      "execution_count": 11,
      "outputs": []
    },
    {
      "cell_type": "code",
      "source": [
        "\n",
        "train_generator = train_datagen.flow_from_directory(\n",
        "    train_dir,\n",
        "    target_size=(img_width, img_height),\n",
        "    batch_size=batch_size,\n",
        "    class_mode='categorical'\n",
        ")\n",
        "\n",
        "val_generator = val_datagen.flow_from_directory(\n",
        "    val_dir,\n",
        "    target_size=(img_width, img_height),\n",
        "    batch_size=batch_size,\n",
        "    class_mode='categorical'\n",
        ")\n",
        "\n",
        "test_generator = test_datagen.flow_from_directory(\n",
        "    test_dir,\n",
        "    target_size=(img_width, img_height),\n",
        "    batch_size=batch_size,\n",
        "    class_mode='categorical'\n",
        ")"
      ],
      "metadata": {
        "colab": {
          "base_uri": "https://localhost:8080/"
        },
        "id": "S4Qgiols4PwO",
        "outputId": "b3e8ba00-b0ad-47c7-8401-d1b47ab7a093"
      },
      "execution_count": 12,
      "outputs": [
        {
          "output_type": "stream",
          "name": "stdout",
          "text": [
            "Found 1200 images belonging to 3 classes.\n",
            "Found 150 images belonging to 3 classes.\n",
            "Found 150 images belonging to 3 classes.\n"
          ]
        }
      ]
    },
    {
      "cell_type": "code",
      "source": [
        "# Load model\n",
        "from tensorflow.keras.applications.vgg19 import VGG19\n",
        "\n",
        "base_model = VGG19(weights='imagenet', include_top=False, input_shape=(img_width, img_height, 3))"
      ],
      "metadata": {
        "id": "0BEocxLv4TsC"
      },
      "execution_count": 13,
      "outputs": []
    },
    {
      "cell_type": "code",
      "source": [
        "\n",
        "# Load the pre-trained InceptionV3 model\n",
        "# base_model = InceptionV3(weights='imagenet', include_top=False, input_shape=(img_width, img_height, 3))"
      ],
      "metadata": {
        "id": "6e9LSxcz7eVU"
      },
      "execution_count": 14,
      "outputs": []
    },
    {
      "cell_type": "code",
      "source": [
        "# Freeze the base model layers\n",
        "for layer in base_model.layers:\n",
        "    layer.trainable = False"
      ],
      "metadata": {
        "id": "Bhgc9tF84YY8"
      },
      "execution_count": 15,
      "outputs": []
    },
    {
      "cell_type": "code",
      "source": [
        "# Add new fully connected layers on top of the base model\n",
        "\n",
        "model = Sequential([\n",
        "    base_model,\n",
        "    Flatten(),\n",
        "    Dense(256, activation='relu'),\n",
        "    Dropout(0.1),\n",
        "    Dense(3, activation='softmax')\n",
        "])"
      ],
      "metadata": {
        "id": "NrtkDgiF4gH4"
      },
      "execution_count": 16,
      "outputs": []
    },
    {
      "cell_type": "code",
      "source": [
        "# Compile the model\n",
        "model.compile(optimizer='adam', loss='categorical_crossentropy', metrics=['Precision'])\n",
        "\n",
        "# Define early stopping and model checkpoint callbacks\n",
        "early_stop = EarlyStopping(monitor='val_precision', patience=5, verbose=1, mode='max', \n",
        "                           min_delta=.01)\n",
        "model_checkpoint = ModelCheckpoint('/content/drive/MyDrive/SHAI/covid dataset/covid_imgnet_VGG19_prec.h5', monitor='val_precision', save_best_only=True, verbose=1, mode='max')\n",
        "\n",
        "# Train the model\n",
        "epochs = 20\n",
        "history = model.fit(\n",
        "    train_generator,\n",
        "    steps_per_epoch=train_generator.samples // batch_size,\n",
        "    epochs=epochs,\n",
        "    validation_data=val_generator,\n",
        "    validation_steps=val_generator.samples // batch_size,\n",
        "    callbacks=[early_stop, model_checkpoint]\n",
        ")"
      ],
      "metadata": {
        "colab": {
          "base_uri": "https://localhost:8080/"
        },
        "id": "Nmc3mQo64jNC",
        "outputId": "53d8a4af-9caf-4cd2-eb81-b81ef512e562"
      },
      "execution_count": 17,
      "outputs": [
        {
          "output_type": "stream",
          "name": "stdout",
          "text": [
            "Epoch 1/20\n",
            "37/37 [==============================] - ETA: 0s - loss: 2.7077 - precision: 0.7115 \n",
            "Epoch 1: val_precision improved from -inf to 0.90625, saving model to /content/drive/MyDrive/SHAI/covid dataset/covid_imgnet_VGG19_prec.h5\n",
            "37/37 [==============================] - 1303s 35s/step - loss: 2.7077 - precision: 0.7115 - val_loss: 0.3723 - val_precision: 0.9062\n",
            "Epoch 2/20\n",
            "37/37 [==============================] - ETA: 0s - loss: 0.2156 - precision: 0.9382 \n",
            "Epoch 2: val_precision improved from 0.90625 to 0.92188, saving model to /content/drive/MyDrive/SHAI/covid dataset/covid_imgnet_VGG19_prec.h5\n",
            "37/37 [==============================] - 1302s 35s/step - loss: 0.2156 - precision: 0.9382 - val_loss: 0.2327 - val_precision: 0.9219\n",
            "Epoch 3/20\n",
            "37/37 [==============================] - ETA: 0s - loss: 0.1117 - precision: 0.9665 \n",
            "Epoch 3: val_precision improved from 0.92188 to 0.95312, saving model to /content/drive/MyDrive/SHAI/covid dataset/covid_imgnet_VGG19_prec.h5\n",
            "37/37 [==============================] - 1305s 35s/step - loss: 0.1117 - precision: 0.9665 - val_loss: 0.1241 - val_precision: 0.9531\n",
            "Epoch 4/20\n",
            "37/37 [==============================] - ETA: 0s - loss: 0.0689 - precision: 0.9794 \n",
            "Epoch 4: val_precision did not improve from 0.95312\n",
            "37/37 [==============================] - 1295s 35s/step - loss: 0.0689 - precision: 0.9794 - val_loss: 0.2023 - val_precision: 0.9375\n",
            "Epoch 5/20\n",
            "37/37 [==============================] - ETA: 0s - loss: 0.0479 - precision: 0.9854 \n",
            "Epoch 5: val_precision did not improve from 0.95312\n",
            "37/37 [==============================] - 1296s 35s/step - loss: 0.0479 - precision: 0.9854 - val_loss: 0.2872 - val_precision: 0.9375\n",
            "Epoch 6/20\n",
            "37/37 [==============================] - ETA: 0s - loss: 0.0378 - precision: 0.9906 \n",
            "Epoch 6: val_precision did not improve from 0.95312\n",
            "37/37 [==============================] - 1286s 35s/step - loss: 0.0378 - precision: 0.9906 - val_loss: 0.1417 - val_precision: 0.9531\n",
            "Epoch 7/20\n",
            "37/37 [==============================] - ETA: 0s - loss: 0.0350 - precision: 0.9914 \n",
            "Epoch 7: val_precision did not improve from 0.95312\n",
            "37/37 [==============================] - 1289s 35s/step - loss: 0.0350 - precision: 0.9914 - val_loss: 0.1628 - val_precision: 0.9219\n",
            "Epoch 8/20\n",
            "37/37 [==============================] - ETA: 0s - loss: 0.0240 - precision: 0.9957 \n",
            "Epoch 8: val_precision did not improve from 0.95312\n",
            "37/37 [==============================] - 1288s 35s/step - loss: 0.0240 - precision: 0.9957 - val_loss: 0.1929 - val_precision: 0.9531\n",
            "Epoch 8: early stopping\n"
          ]
        }
      ]
    },
    {
      "cell_type": "code",
      "source": [
        "# Load the model\n",
        "# model = keras.models.load_model(\"/content/drive/MyDrive/SHAI/covid dataset/covid_imgnet_VGG19_prec.h5\")"
      ],
      "metadata": {
        "id": "jP82hSz4d82a"
      },
      "execution_count": 18,
      "outputs": []
    },
    {
      "cell_type": "code",
      "source": [
        "# Evaluate the model on the test set\n",
        "test_loss, test_prec = model.evaluate(test_generator,\n",
        "                                     steps=test_generator.samples // batch_size)\n",
        "print(f'Test accuracy: {test_prec:.2f}')"
      ],
      "metadata": {
        "id": "N7SjI1u24mGG",
        "colab": {
          "base_uri": "https://localhost:8080/"
        },
        "outputId": "05505ec1-d6cd-46d6-9b41-d632f9ed3675"
      },
      "execution_count": 19,
      "outputs": [
        {
          "output_type": "stream",
          "name": "stdout",
          "text": [
            "4/4 [==============================] - 125s 31s/step - loss: 0.1046 - precision: 0.9531\n",
            "Test accuracy: 0.95\n"
          ]
        }
      ]
    },
    {
      "cell_type": "code",
      "source": [
        "# Load competition test data\n",
        "pred_path = '/content/drive/MyDrive/SHAI/covid dataset/test'\n",
        "files = os.listdir(pred_path)"
      ],
      "metadata": {
        "id": "qdWi479tOUwh"
      },
      "execution_count": 20,
      "outputs": []
    },
    {
      "cell_type": "code",
      "source": [
        "# Create data frame to write data\n",
        "df = pd.DataFrame(columns=['Image','Label'])"
      ],
      "metadata": {
        "id": "G2vFqm7EO9sU"
      },
      "execution_count": 21,
      "outputs": []
    },
    {
      "cell_type": "code",
      "source": [
        "# Get classes\n",
        "class_names = train_generator.class_indices\n",
        "class_names = {v: k for k, v in class_names.items()}"
      ],
      "metadata": {
        "id": "cadNSfpeSNIg"
      },
      "execution_count": 22,
      "outputs": []
    },
    {
      "cell_type": "code",
      "source": [
        "# Load an image to predict\n",
        "for i, file_name in enumerate(files):\n",
        "  try:\n",
        "    img_path = os.path.join(pred_path,file_name)\n",
        "    img = image.load_img(img_path, target_size=(img_width, img_height))\n",
        "    x = image.img_to_array(img)\n",
        "    x = np.expand_dims(x, axis=0)\n",
        "    x = x / 255.0\n",
        "    predictions = model.predict(x)\n",
        "    pred_idx = np.argmax(predictions[0])\n",
        "    pred_class = class_names[pred_idx]\n",
        "    df.loc[i,'Image'] = file_name\n",
        "    df.loc[i,'Label'] = pred_class\n",
        "  except:\n",
        "    pass"
      ],
      "metadata": {
        "id": "Oulms1pwTZY3",
        "colab": {
          "base_uri": "https://localhost:8080/"
        },
        "outputId": "30006316-c525-463e-a0a0-10482229e2dd"
      },
      "execution_count": null,
      "outputs": [
        {
          "output_type": "stream",
          "name": "stdout",
          "text": [
            "1/1 [==============================] - 1s 1s/step\n",
            "1/1 [==============================] - 1s 921ms/step\n",
            "1/1 [==============================] - 1s 1s/step\n",
            "1/1 [==============================] - 1s 895ms/step\n",
            "1/1 [==============================] - 1s 884ms/step\n",
            "1/1 [==============================] - 1s 917ms/step\n",
            "1/1 [==============================] - 1s 903ms/step\n",
            "1/1 [==============================] - 1s 883ms/step\n",
            "1/1 [==============================] - 1s 1s/step\n",
            "1/1 [==============================] - 2s 2s/step\n",
            "1/1 [==============================] - 1s 1s/step\n",
            "1/1 [==============================] - 1s 901ms/step\n",
            "1/1 [==============================] - 1s 878ms/step\n",
            "1/1 [==============================] - 1s 904ms/step\n",
            "1/1 [==============================] - 1s 896ms/step\n",
            "1/1 [==============================] - 1s 882ms/step\n",
            "1/1 [==============================] - 1s 882ms/step\n",
            "1/1 [==============================] - 1s 878ms/step\n",
            "1/1 [==============================] - 1s 890ms/step\n",
            "1/1 [==============================] - 1s 894ms/step\n",
            "1/1 [==============================] - 1s 893ms/step\n",
            "1/1 [==============================] - 1s 1s/step\n",
            "1/1 [==============================] - 2s 2s/step\n",
            "1/1 [==============================] - 1s 945ms/step\n",
            "1/1 [==============================] - 1s 891ms/step\n",
            "1/1 [==============================] - 1s 883ms/step\n",
            "1/1 [==============================] - 1s 892ms/step\n",
            "1/1 [==============================] - 1s 872ms/step\n",
            "1/1 [==============================] - 1s 889ms/step\n",
            "1/1 [==============================] - 1s 890ms/step\n",
            "1/1 [==============================] - 1s 893ms/step\n",
            "1/1 [==============================] - 1s 883ms/step\n",
            "1/1 [==============================] - 1s 878ms/step\n",
            "1/1 [==============================] - 1s 947ms/step\n",
            "1/1 [==============================] - 2s 2s/step\n",
            "1/1 [==============================] - 1s 1s/step\n",
            "1/1 [==============================] - 1s 896ms/step\n",
            "1/1 [==============================] - 1s 875ms/step\n",
            "1/1 [==============================] - 1s 890ms/step\n",
            "1/1 [==============================] - 1s 874ms/step\n",
            "1/1 [==============================] - 1s 906ms/step\n",
            "1/1 [==============================] - 1s 880ms/step\n",
            "1/1 [==============================] - 1s 872ms/step\n",
            "1/1 [==============================] - 1s 865ms/step\n",
            "1/1 [==============================] - 1s 889ms/step\n",
            "1/1 [==============================] - 1s 880ms/step\n",
            "1/1 [==============================] - 1s 1s/step\n",
            "1/1 [==============================] - 2s 2s/step\n",
            "1/1 [==============================] - 1s 1s/step\n",
            "1/1 [==============================] - 1s 882ms/step\n",
            "1/1 [==============================] - 1s 868ms/step\n",
            "1/1 [==============================] - 1s 892ms/step\n",
            "1/1 [==============================] - 1s 884ms/step\n",
            "1/1 [==============================] - 1s 878ms/step\n",
            "1/1 [==============================] - 1s 911ms/step\n",
            "1/1 [==============================] - 1s 884ms/step\n",
            "1/1 [==============================] - 1s 884ms/step\n",
            "1/1 [==============================] - 1s 880ms/step\n",
            "1/1 [==============================] - 1s 882ms/step\n",
            "1/1 [==============================] - 1s 1s/step\n",
            "1/1 [==============================] - 1s 1s/step\n",
            "1/1 [==============================] - 1s 1s/step\n",
            "1/1 [==============================] - 1s 872ms/step\n",
            "1/1 [==============================] - 1s 876ms/step\n",
            "1/1 [==============================] - 1s 880ms/step\n",
            "1/1 [==============================] - 1s 884ms/step\n",
            "1/1 [==============================] - 1s 881ms/step\n",
            "1/1 [==============================] - 1s 895ms/step\n",
            "1/1 [==============================] - 1s 899ms/step\n",
            "1/1 [==============================] - 1s 894ms/step\n",
            "1/1 [==============================] - 1s 876ms/step\n",
            "1/1 [==============================] - 1s 887ms/step\n",
            "1/1 [==============================] - 1s 1s/step\n",
            "1/1 [==============================] - 2s 2s/step\n",
            "1/1 [==============================] - 1s 985ms/step\n",
            "1/1 [==============================] - 1s 866ms/step\n",
            "1/1 [==============================] - 1s 891ms/step\n",
            "1/1 [==============================] - 1s 871ms/step\n",
            "1/1 [==============================] - 1s 874ms/step\n",
            "1/1 [==============================] - 1s 874ms/step\n",
            "1/1 [==============================] - 1s 877ms/step\n",
            "1/1 [==============================] - 1s 890ms/step\n",
            "1/1 [==============================] - 1s 871ms/step\n",
            "1/1 [==============================] - 1s 864ms/step\n",
            "1/1 [==============================] - 1s 1s/step\n",
            "1/1 [==============================] - 1s 1s/step\n",
            "1/1 [==============================] - 1s 1s/step\n",
            "1/1 [==============================] - 1s 899ms/step\n",
            "1/1 [==============================] - 1s 870ms/step\n",
            "1/1 [==============================] - 1s 866ms/step\n",
            "1/1 [==============================] - 1s 874ms/step\n",
            "1/1 [==============================] - 1s 874ms/step\n",
            "1/1 [==============================] - 1s 902ms/step\n",
            "1/1 [==============================] - 1s 881ms/step\n",
            "1/1 [==============================] - 1s 885ms/step\n",
            "1/1 [==============================] - 1s 878ms/step\n",
            "1/1 [==============================] - 1s 883ms/step\n",
            "1/1 [==============================] - 1s 1s/step\n",
            "1/1 [==============================] - 2s 2s/step\n",
            "1/1 [==============================] - 1s 1s/step\n",
            "1/1 [==============================] - 1s 881ms/step\n",
            "1/1 [==============================] - 1s 893ms/step\n",
            "1/1 [==============================] - 1s 872ms/step\n",
            "1/1 [==============================] - 1s 889ms/step\n",
            "1/1 [==============================] - 1s 878ms/step\n",
            "1/1 [==============================] - 1s 866ms/step\n",
            "1/1 [==============================] - 1s 873ms/step\n",
            "1/1 [==============================] - 1s 859ms/step\n",
            "1/1 [==============================] - 1s 883ms/step\n",
            "1/1 [==============================] - 1s 1s/step\n",
            "1/1 [==============================] - 2s 2s/step\n",
            "1/1 [==============================] - 1s 1s/step\n",
            "1/1 [==============================] - 1s 918ms/step\n",
            "1/1 [==============================] - 1s 884ms/step\n",
            "1/1 [==============================] - 1s 896ms/step\n",
            "1/1 [==============================] - 1s 891ms/step\n",
            "1/1 [==============================] - 1s 899ms/step\n",
            "1/1 [==============================] - 1s 902ms/step\n",
            "1/1 [==============================] - 1s 876ms/step\n",
            "1/1 [==============================] - 1s 876ms/step\n",
            "1/1 [==============================] - 1s 877ms/step\n",
            "1/1 [==============================] - 1s 889ms/step\n",
            "1/1 [==============================] - 1s 1s/step\n",
            "1/1 [==============================] - 2s 2s/step\n",
            "1/1 [==============================] - 1s 1s/step\n",
            "1/1 [==============================] - 1s 884ms/step\n",
            "1/1 [==============================] - 1s 891ms/step\n",
            "1/1 [==============================] - 1s 873ms/step\n",
            "1/1 [==============================] - 1s 886ms/step\n",
            "1/1 [==============================] - 1s 875ms/step\n",
            "1/1 [==============================] - 1s 879ms/step\n",
            "1/1 [==============================] - 1s 895ms/step\n",
            "1/1 [==============================] - 1s 874ms/step\n",
            "1/1 [==============================] - 1s 898ms/step\n",
            "1/1 [==============================] - 1s 889ms/step\n",
            "1/1 [==============================] - 2s 2s/step\n",
            "1/1 [==============================] - 1s 1s/step\n",
            "1/1 [==============================] - 1s 1s/step\n",
            "1/1 [==============================] - 1s 902ms/step\n",
            "1/1 [==============================] - 1s 883ms/step\n",
            "1/1 [==============================] - 1s 880ms/step\n",
            "1/1 [==============================] - 1s 854ms/step\n",
            "1/1 [==============================] - 1s 885ms/step\n",
            "1/1 [==============================] - 1s 881ms/step\n",
            "1/1 [==============================] - 1s 916ms/step\n",
            "1/1 [==============================] - 1s 888ms/step\n",
            "1/1 [==============================] - 1s 903ms/step\n",
            "1/1 [==============================] - 1s 937ms/step\n",
            "1/1 [==============================] - 2s 2s/step\n",
            "1/1 [==============================] - 1s 1s/step\n",
            "1/1 [==============================] - 1s 874ms/step\n",
            "1/1 [==============================] - 1s 887ms/step\n",
            "1/1 [==============================] - 1s 887ms/step\n",
            "1/1 [==============================] - 1s 884ms/step\n",
            "1/1 [==============================] - 1s 894ms/step\n",
            "1/1 [==============================] - 1s 903ms/step\n",
            "1/1 [==============================] - 1s 881ms/step\n",
            "1/1 [==============================] - 1s 878ms/step\n",
            "1/1 [==============================] - 1s 880ms/step\n",
            "1/1 [==============================] - 1s 885ms/step\n",
            "1/1 [==============================] - 1s 1s/step\n",
            "1/1 [==============================] - 1s 1s/step\n",
            "1/1 [==============================] - 1s 1s/step\n",
            "1/1 [==============================] - 1s 898ms/step\n",
            "1/1 [==============================] - 1s 890ms/step\n",
            "1/1 [==============================] - 1s 888ms/step\n",
            "1/1 [==============================] - 1s 895ms/step\n",
            "1/1 [==============================] - 1s 887ms/step\n",
            "1/1 [==============================] - 1s 879ms/step\n",
            "1/1 [==============================] - 1s 889ms/step\n",
            "1/1 [==============================] - 1s 898ms/step\n",
            "1/1 [==============================] - 1s 889ms/step\n",
            "1/1 [==============================] - 1s 884ms/step\n",
            "1/1 [==============================] - 1s 1s/step\n",
            "1/1 [==============================] - 2s 2s/step\n",
            "1/1 [==============================] - 1s 924ms/step\n",
            "1/1 [==============================] - 1s 889ms/step\n",
            "1/1 [==============================] - 1s 885ms/step\n",
            "1/1 [==============================] - 1s 862ms/step\n",
            "1/1 [==============================] - 1s 881ms/step\n",
            "1/1 [==============================] - 1s 887ms/step\n",
            "1/1 [==============================] - 1s 877ms/step\n",
            "1/1 [==============================] - 1s 883ms/step\n",
            "1/1 [==============================] - 1s 896ms/step\n",
            "1/1 [==============================] - 1s 1s/step\n",
            "1/1 [==============================] - 1s 1s/step\n",
            "1/1 [==============================] - 1s 1s/step\n",
            "1/1 [==============================] - 1s 893ms/step\n",
            "1/1 [==============================] - 1s 875ms/step\n",
            "1/1 [==============================] - 1s 876ms/step\n",
            "1/1 [==============================] - 1s 880ms/step\n",
            "1/1 [==============================] - 1s 889ms/step\n",
            "1/1 [==============================] - 1s 883ms/step\n",
            "1/1 [==============================] - 1s 892ms/step\n",
            "1/1 [==============================] - 1s 888ms/step\n",
            "1/1 [==============================] - 1s 904ms/step\n",
            "1/1 [==============================] - 1s 883ms/step\n",
            "1/1 [==============================] - 1s 1s/step\n",
            "1/1 [==============================] - 2s 2s/step\n",
            "1/1 [==============================] - 1s 901ms/step\n",
            "1/1 [==============================] - 1s 880ms/step\n",
            "1/1 [==============================] - 1s 885ms/step\n",
            "1/1 [==============================] - 1s 882ms/step\n",
            "1/1 [==============================] - 1s 866ms/step\n",
            "1/1 [==============================] - 1s 878ms/step\n",
            "1/1 [==============================] - 1s 897ms/step\n",
            "1/1 [==============================] - 1s 872ms/step\n",
            "1/1 [==============================] - 1s 882ms/step\n",
            "1/1 [==============================] - 1s 888ms/step\n",
            "1/1 [==============================] - 1s 1s/step\n",
            "1/1 [==============================] - 1s 1s/step\n",
            "1/1 [==============================] - 1s 1s/step\n",
            "1/1 [==============================] - 1s 884ms/step\n",
            "1/1 [==============================] - 1s 896ms/step\n",
            "1/1 [==============================] - 1s 876ms/step\n",
            "1/1 [==============================] - 1s 883ms/step\n",
            "1/1 [==============================] - 1s 885ms/step\n",
            "1/1 [==============================] - 1s 894ms/step\n",
            "1/1 [==============================] - 1s 879ms/step\n",
            "1/1 [==============================] - 1s 896ms/step\n",
            "1/1 [==============================] - 1s 888ms/step\n",
            "1/1 [==============================] - 1s 869ms/step\n",
            "1/1 [==============================] - 1s 1s/step\n",
            "1/1 [==============================] - 2s 2s/step\n",
            "1/1 [==============================] - 1s 1s/step\n",
            "1/1 [==============================] - 1s 881ms/step\n",
            "1/1 [==============================] - 1s 896ms/step\n",
            "1/1 [==============================] - 1s 889ms/step\n",
            "1/1 [==============================] - 1s 887ms/step\n",
            "1/1 [==============================] - 1s 871ms/step\n",
            "1/1 [==============================] - 1s 889ms/step\n",
            "1/1 [==============================] - 1s 883ms/step\n",
            "1/1 [==============================] - 1s 896ms/step\n",
            "1/1 [==============================] - 1s 896ms/step\n",
            "1/1 [==============================] - 1s 881ms/step\n",
            "1/1 [==============================] - 1s 1s/step\n",
            "1/1 [==============================] - 2s 2s/step\n",
            "1/1 [==============================] - 1s 1s/step\n",
            "1/1 [==============================] - 1s 883ms/step\n",
            "1/1 [==============================] - 1s 880ms/step\n",
            "1/1 [==============================] - 1s 916ms/step\n",
            "1/1 [==============================] - 1s 891ms/step\n",
            "1/1 [==============================] - 1s 892ms/step\n",
            "1/1 [==============================] - 1s 900ms/step\n",
            "1/1 [==============================] - 1s 900ms/step\n",
            "1/1 [==============================] - 1s 899ms/step\n",
            "1/1 [==============================] - 1s 905ms/step\n",
            "1/1 [==============================] - 1s 876ms/step\n",
            "1/1 [==============================] - 1s 1s/step\n",
            "1/1 [==============================] - 2s 2s/step\n",
            "1/1 [==============================] - 1s 904ms/step\n",
            "1/1 [==============================] - 1s 886ms/step\n",
            "1/1 [==============================] - 1s 871ms/step\n",
            "1/1 [==============================] - 1s 899ms/step\n",
            "1/1 [==============================] - 1s 894ms/step\n",
            "1/1 [==============================] - 1s 899ms/step\n",
            "1/1 [==============================] - 1s 902ms/step\n",
            "1/1 [==============================] - 1s 880ms/step\n",
            "1/1 [==============================] - 1s 881ms/step\n",
            "1/1 [==============================] - 1s 1s/step\n",
            "1/1 [==============================] - 1s 1s/step\n",
            "1/1 [==============================] - 1s 1s/step\n",
            "1/1 [==============================] - 1s 1s/step\n",
            "1/1 [==============================] - 1s 872ms/step\n",
            "1/1 [==============================] - 1s 885ms/step\n",
            "1/1 [==============================] - 1s 868ms/step\n",
            "1/1 [==============================] - 1s 889ms/step\n",
            "1/1 [==============================] - 1s 877ms/step\n",
            "1/1 [==============================] - 1s 909ms/step\n",
            "1/1 [==============================] - 1s 874ms/step\n",
            "1/1 [==============================] - 1s 873ms/step\n",
            "1/1 [==============================] - 1s 895ms/step\n",
            "1/1 [==============================] - 1s 1s/step\n",
            "1/1 [==============================] - 2s 2s/step\n",
            "1/1 [==============================] - 1s 938ms/step\n",
            "1/1 [==============================] - 1s 886ms/step\n",
            "1/1 [==============================] - 1s 898ms/step\n",
            "1/1 [==============================] - 1s 885ms/step\n",
            "1/1 [==============================] - 1s 905ms/step\n",
            "1/1 [==============================] - 1s 891ms/step\n",
            "1/1 [==============================] - 1s 869ms/step\n",
            "1/1 [==============================] - 1s 884ms/step\n",
            "1/1 [==============================] - 1s 890ms/step\n",
            "1/1 [==============================] - 1s 897ms/step\n",
            "1/1 [==============================] - 1s 1s/step\n",
            "1/1 [==============================] - 1s 1s/step\n",
            "1/1 [==============================] - 1s 1s/step\n",
            "1/1 [==============================] - 1s 881ms/step\n",
            "1/1 [==============================] - 1s 887ms/step\n",
            "1/1 [==============================] - 1s 881ms/step\n",
            "1/1 [==============================] - 1s 887ms/step\n",
            "1/1 [==============================] - 1s 881ms/step\n",
            "1/1 [==============================] - 1s 894ms/step\n",
            "1/1 [==============================] - 1s 879ms/step\n",
            "1/1 [==============================] - 1s 882ms/step\n",
            "1/1 [==============================] - 1s 876ms/step\n",
            "1/1 [==============================] - 1s 904ms/step\n",
            "1/1 [==============================] - 1s 1s/step\n",
            "1/1 [==============================] - 2s 2s/step\n",
            "1/1 [==============================] - 1s 1s/step\n",
            "1/1 [==============================] - 1s 896ms/step\n",
            "1/1 [==============================] - 1s 889ms/step\n",
            "1/1 [==============================] - 1s 886ms/step\n",
            "1/1 [==============================] - 1s 876ms/step\n",
            "1/1 [==============================] - 1s 882ms/step\n",
            "1/1 [==============================] - 1s 882ms/step\n",
            "1/1 [==============================] - 1s 878ms/step\n",
            "1/1 [==============================] - 1s 885ms/step\n",
            "1/1 [==============================] - 1s 891ms/step\n",
            "1/1 [==============================] - 1s 887ms/step\n",
            "1/1 [==============================] - 2s 2s/step\n",
            "1/1 [==============================] - 1s 1s/step\n",
            "1/1 [==============================] - 1s 973ms/step\n",
            "1/1 [==============================] - 1s 894ms/step\n",
            "1/1 [==============================] - 1s 878ms/step\n",
            "1/1 [==============================] - 1s 891ms/step\n",
            "1/1 [==============================] - 1s 887ms/step\n",
            "1/1 [==============================] - 1s 894ms/step\n",
            "1/1 [==============================] - 1s 894ms/step\n",
            "1/1 [==============================] - 1s 872ms/step\n",
            "1/1 [==============================] - 1s 882ms/step\n",
            "1/1 [==============================] - 1s 880ms/step\n",
            "1/1 [==============================] - 1s 940ms/step\n",
            "1/1 [==============================] - 2s 2s/step\n",
            "1/1 [==============================] - 1s 1s/step\n",
            "1/1 [==============================] - 1s 875ms/step\n",
            "1/1 [==============================] - 1s 889ms/step\n",
            "1/1 [==============================] - 1s 904ms/step\n",
            "1/1 [==============================] - 1s 900ms/step\n",
            "1/1 [==============================] - 1s 887ms/step\n",
            "1/1 [==============================] - 1s 878ms/step\n",
            "1/1 [==============================] - 1s 878ms/step\n",
            "1/1 [==============================] - 1s 884ms/step\n",
            "1/1 [==============================] - 1s 885ms/step\n",
            "1/1 [==============================] - 1s 888ms/step\n",
            "1/1 [==============================] - 1s 1s/step\n",
            "1/1 [==============================] - 2s 2s/step\n",
            "1/1 [==============================] - 1s 1s/step\n",
            "1/1 [==============================] - 1s 888ms/step\n",
            "1/1 [==============================] - 1s 898ms/step\n",
            "1/1 [==============================] - 1s 909ms/step\n",
            "1/1 [==============================] - 1s 886ms/step\n",
            "1/1 [==============================] - 1s 890ms/step\n",
            "1/1 [==============================] - 1s 901ms/step\n",
            "1/1 [==============================] - 1s 901ms/step\n",
            "1/1 [==============================] - 1s 909ms/step\n",
            "1/1 [==============================] - 1s 886ms/step\n",
            "1/1 [==============================] - 1s 881ms/step\n",
            "1/1 [==============================] - 1s 1s/step\n",
            "1/1 [==============================] - 1s 1s/step\n",
            "1/1 [==============================] - 1s 1s/step\n",
            "1/1 [==============================] - 1s 884ms/step\n",
            "1/1 [==============================] - 1s 896ms/step\n",
            "1/1 [==============================] - 1s 906ms/step\n",
            "1/1 [==============================] - 1s 885ms/step\n",
            "1/1 [==============================] - 1s 884ms/step\n",
            "1/1 [==============================] - 1s 872ms/step\n",
            "1/1 [==============================] - 1s 908ms/step\n",
            "1/1 [==============================] - 1s 887ms/step\n",
            "1/1 [==============================] - 1s 890ms/step\n",
            "1/1 [==============================] - 1s 860ms/step\n",
            "1/1 [==============================] - 1s 1s/step\n",
            "1/1 [==============================] - 2s 2s/step\n",
            "1/1 [==============================] - 1s 885ms/step\n",
            "1/1 [==============================] - 1s 882ms/step\n",
            "1/1 [==============================] - 1s 880ms/step\n",
            "1/1 [==============================] - 1s 899ms/step\n",
            "1/1 [==============================] - 1s 888ms/step\n",
            "1/1 [==============================] - 1s 893ms/step\n",
            "1/1 [==============================] - 1s 888ms/step\n",
            "1/1 [==============================] - 1s 879ms/step\n",
            "1/1 [==============================] - 1s 891ms/step\n",
            "1/1 [==============================] - 1s 883ms/step\n",
            "1/1 [==============================] - 1s 1s/step\n",
            "1/1 [==============================] - 2s 2s/step\n",
            "1/1 [==============================] - 1s 1s/step\n",
            "1/1 [==============================] - 1s 876ms/step\n",
            "1/1 [==============================] - 1s 894ms/step\n",
            "1/1 [==============================] - 1s 889ms/step\n",
            "1/1 [==============================] - 1s 889ms/step\n",
            "1/1 [==============================] - 1s 882ms/step\n",
            "1/1 [==============================] - 1s 906ms/step\n",
            "1/1 [==============================] - 1s 883ms/step\n",
            "1/1 [==============================] - 1s 893ms/step\n",
            "1/1 [==============================] - 1s 885ms/step\n",
            "1/1 [==============================] - 1s 1s/step\n",
            "1/1 [==============================] - 2s 2s/step\n",
            "1/1 [==============================] - 1s 1s/step\n",
            "1/1 [==============================] - 1s 897ms/step\n",
            "1/1 [==============================] - 1s 882ms/step\n",
            "1/1 [==============================] - 1s 876ms/step\n",
            "1/1 [==============================] - 1s 880ms/step\n",
            "1/1 [==============================] - 1s 880ms/step\n",
            "1/1 [==============================] - 1s 885ms/step\n",
            "1/1 [==============================] - 1s 898ms/step\n",
            "1/1 [==============================] - 1s 882ms/step\n",
            "1/1 [==============================] - 1s 875ms/step\n",
            "1/1 [==============================] - 1s 897ms/step\n",
            "1/1 [==============================] - 1s 1s/step\n",
            "1/1 [==============================] - 2s 2s/step\n",
            "1/1 [==============================] - 1s 1s/step\n",
            "1/1 [==============================] - 1s 888ms/step\n",
            "1/1 [==============================] - 1s 905ms/step\n",
            "1/1 [==============================] - 1s 912ms/step\n",
            "1/1 [==============================] - 1s 892ms/step\n",
            "1/1 [==============================] - 1s 880ms/step\n",
            "1/1 [==============================] - 1s 883ms/step\n",
            "1/1 [==============================] - 1s 890ms/step\n",
            "1/1 [==============================] - 1s 882ms/step\n",
            "1/1 [==============================] - 1s 910ms/step\n",
            "1/1 [==============================] - 1s 1s/step\n",
            "1/1 [==============================] - 2s 2s/step\n",
            "1/1 [==============================] - 1s 1s/step\n",
            "1/1 [==============================] - 1s 887ms/step\n",
            "1/1 [==============================] - 1s 882ms/step\n",
            "1/1 [==============================] - 1s 884ms/step\n",
            "1/1 [==============================] - 1s 878ms/step\n",
            "1/1 [==============================] - 1s 879ms/step\n",
            "1/1 [==============================] - 1s 880ms/step\n",
            "1/1 [==============================] - 1s 887ms/step\n",
            "1/1 [==============================] - 1s 886ms/step\n",
            "1/1 [==============================] - 1s 889ms/step\n",
            "1/1 [==============================] - 1s 1s/step\n",
            "1/1 [==============================] - 1s 1s/step\n",
            "1/1 [==============================] - 1s 1s/step\n",
            "1/1 [==============================] - 1s 886ms/step\n",
            "1/1 [==============================] - 1s 878ms/step\n",
            "1/1 [==============================] - 1s 948ms/step\n",
            "1/1 [==============================] - 1s 1s/step\n",
            "1/1 [==============================] - 1s 1s/step\n",
            "1/1 [==============================] - 2s 2s/step\n",
            "1/1 [==============================] - 1s 880ms/step\n",
            "1/1 [==============================] - 1s 887ms/step\n",
            "1/1 [==============================] - 1s 1s/step\n",
            "1/1 [==============================] - 2s 2s/step\n",
            "1/1 [==============================] - 1s 1s/step\n",
            "1/1 [==============================] - 1s 875ms/step\n",
            "1/1 [==============================] - 1s 870ms/step\n",
            "1/1 [==============================] - 1s 870ms/step\n",
            "1/1 [==============================] - 1s 900ms/step\n",
            "1/1 [==============================] - 1s 875ms/step\n",
            "1/1 [==============================] - 1s 892ms/step\n",
            "1/1 [==============================] - 1s 879ms/step\n",
            "1/1 [==============================] - 1s 898ms/step\n",
            "1/1 [==============================] - 1s 886ms/step\n",
            "1/1 [==============================] - 1s 875ms/step\n",
            "1/1 [==============================] - 1s 1s/step\n",
            "1/1 [==============================] - 1s 1s/step\n",
            "1/1 [==============================] - 1s 920ms/step\n",
            "1/1 [==============================] - 1s 880ms/step\n",
            "1/1 [==============================] - 1s 887ms/step\n",
            "1/1 [==============================] - 1s 896ms/step\n",
            "1/1 [==============================] - 1s 894ms/step\n",
            "1/1 [==============================] - 1s 884ms/step\n",
            "1/1 [==============================] - 1s 902ms/step\n",
            "1/1 [==============================] - 1s 903ms/step\n",
            "1/1 [==============================] - 1s 886ms/step\n",
            "1/1 [==============================] - 1s 889ms/step\n",
            "1/1 [==============================] - 1s 1s/step\n",
            "1/1 [==============================] - 2s 2s/step\n",
            "1/1 [==============================] - 1s 1s/step\n",
            "1/1 [==============================] - 1s 877ms/step\n",
            "1/1 [==============================] - 1s 878ms/step\n",
            "1/1 [==============================] - 1s 878ms/step\n",
            "1/1 [==============================] - 1s 890ms/step\n",
            "1/1 [==============================] - 1s 873ms/step\n",
            "1/1 [==============================] - 1s 897ms/step\n",
            "1/1 [==============================] - 1s 889ms/step\n",
            "1/1 [==============================] - 1s 897ms/step\n",
            "1/1 [==============================] - 1s 895ms/step\n",
            "1/1 [==============================] - 1s 1s/step\n",
            "1/1 [==============================] - 2s 2s/step\n",
            "1/1 [==============================] - 1s 1s/step\n",
            "1/1 [==============================] - 1s 878ms/step\n",
            "1/1 [==============================] - 1s 889ms/step\n",
            "1/1 [==============================] - 1s 894ms/step\n",
            "1/1 [==============================] - 1s 887ms/step\n",
            "1/1 [==============================] - 1s 874ms/step\n",
            "1/1 [==============================] - 1s 882ms/step\n",
            "1/1 [==============================] - 1s 888ms/step\n",
            "1/1 [==============================] - 1s 881ms/step\n",
            "1/1 [==============================] - 1s 874ms/step\n",
            "1/1 [==============================] - 1s 882ms/step\n",
            "1/1 [==============================] - 1s 1s/step\n",
            "1/1 [==============================] - ETA: 0s"
          ]
        }
      ]
    },
    {
      "cell_type": "code",
      "source": [
        "# Write data frame\n",
        "df_path = os.path.join('/content/drive/MyDrive/SHAI/covid dataset/', 'incept_imgnet_VGG19_prec.csv')\n",
        "df.to_csv(df_path, index=False)"
      ],
      "metadata": {
        "id": "9u7IzZaNTdip"
      },
      "execution_count": null,
      "outputs": []
    },
    {
      "cell_type": "code",
      "source": [
        "# Save model\n",
        "# model.save(f\"{parent_dir}/covid_{epochs}e_imgnet_inception.h5\")"
      ],
      "metadata": {
        "id": "kV7kVQV_TMBu"
      },
      "execution_count": null,
      "outputs": []
    }
  ],
  "metadata": {
    "kernelspec": {
      "display_name": "Python 3.10.6 64-bit",
      "language": "python",
      "name": "python3"
    },
    "language_info": {
      "codemirror_mode": {
        "name": "ipython",
        "version": 3
      },
      "file_extension": ".py",
      "mimetype": "text/x-python",
      "name": "python",
      "nbconvert_exporter": "python",
      "pygments_lexer": "ipython3",
      "version": "3.10.6"
    },
    "orig_nbformat": 4,
    "vscode": {
      "interpreter": {
        "hash": "916dbcbb3f70747c44a77c7bcd40155683ae19c65e1c03b4aa3499c5328201f1"
      }
    },
    "colab": {
      "provenance": [],
      "include_colab_link": true
    }
  },
  "nbformat": 4,
  "nbformat_minor": 0
}