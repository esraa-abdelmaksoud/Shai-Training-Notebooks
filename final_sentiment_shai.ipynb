{
  "nbformat": 4,
  "nbformat_minor": 0,
  "metadata": {
    "colab": {
      "private_outputs": true,
      "provenance": [],
      "gpuType": "T4"
    },
    "kernelspec": {
      "name": "python3",
      "display_name": "Python 3"
    },
    "language_info": {
      "name": "python"
    },
    "gpuClass": "standard",
    "accelerator": "GPU"
  },
  "cells": [
    {
      "cell_type": "code",
      "execution_count": null,
      "metadata": {
        "id": "5jwJ7rfNNXHH"
      },
      "outputs": [],
      "source": [
        "import numpy as np\n",
        "import pandas as pd\n",
        "import tensorflow as tf\n",
        "import re\n",
        "import seaborn as sns\n",
        "import matplotlib.pyplot as plt\n",
        "from collections import Counter"
      ]
    },
    {
      "cell_type": "code",
      "execution_count": null,
      "metadata": {
        "id": "TbmX7YErnfxM"
      },
      "outputs": [],
      "source": [
        "from google.colab import drive\n",
        "drive.mount('/content/drive')"
      ]
    },
    {
      "cell_type": "code",
      "source": [
        "!unzip /content/drive/MyDrive/shai-training-2023-a-level-2.zip"
      ],
      "metadata": {
        "id": "3T-m9jcT_rTk"
      },
      "execution_count": null,
      "outputs": []
    },
    {
      "cell_type": "code",
      "execution_count": null,
      "metadata": {
        "id": "5FF0wBEjISvt"
      },
      "outputs": [],
      "source": [
        "train=pd.read_csv('/content/Train.csv')"
      ]
    },
    {
      "cell_type": "code",
      "source": [
        "valid=pd.read_csv('/content/Valid.csv')"
      ],
      "metadata": {
        "id": "zWiTxeOosztW"
      },
      "execution_count": null,
      "outputs": []
    },
    {
      "cell_type": "code",
      "source": [
        "test=pd.read_csv('/content/Test.csv')"
      ],
      "metadata": {
        "id": "eBS9hAh0uJ44"
      },
      "execution_count": null,
      "outputs": []
    },
    {
      "cell_type": "code",
      "source": [
        "test.shape"
      ],
      "metadata": {
        "id": "XHkaI3KEN4UI"
      },
      "execution_count": null,
      "outputs": []
    },
    {
      "cell_type": "code",
      "source": [
        "train.head()"
      ],
      "metadata": {
        "id": "ItaS7ivJN4ZI"
      },
      "execution_count": null,
      "outputs": []
    },
    {
      "cell_type": "markdown",
      "source": [
        "#EDA"
      ],
      "metadata": {
        "id": "ly17-B21eQBL"
      }
    },
    {
      "cell_type": "code",
      "source": [
        "from matplotlib import pyplot as plt\n",
        "fig=plt.figure(figsize=(10,7))\n",
        "plt.barh(train['label'].unique(),\n",
        "         train['label'].value_counts(),\n",
        "         color=['red','blue'])\n",
        "plt.title('count label')"
      ],
      "metadata": {
        "id": "cLpj5H4UthZs"
      },
      "execution_count": null,
      "outputs": []
    },
    {
      "cell_type": "code",
      "source": [
        "def movie_count(data):\n",
        "  count=data.groupby('label').count()\n",
        "  return count"
      ],
      "metadata": {
        "id": "sZdDrS7AcLZV"
      },
      "execution_count": null,
      "outputs": []
    },
    {
      "cell_type": "code",
      "source": [
        "train_count=movie_count(train)\n",
        "train_count"
      ],
      "metadata": {
        "id": "ilhd-seacg0R"
      },
      "execution_count": null,
      "outputs": []
    },
    {
      "cell_type": "code",
      "source": [
        "train_count.plot.barh()\n",
        "plt.title('train count')"
      ],
      "metadata": {
        "id": "TcyRWPWwc6Th"
      },
      "execution_count": null,
      "outputs": []
    },
    {
      "cell_type": "markdown",
      "source": [
        "#count of valid "
      ],
      "metadata": {
        "id": "1xZE7NcpdfDR"
      }
    },
    {
      "cell_type": "code",
      "source": [
        "valid_count=movie_count(valid)\n",
        "valid_count"
      ],
      "metadata": {
        "id": "vUNcC6gidhXU"
      },
      "execution_count": null,
      "outputs": []
    },
    {
      "cell_type": "code",
      "source": [
        "valid_count.plot.barh()"
      ],
      "metadata": {
        "id": "MkhMv798deka"
      },
      "execution_count": null,
      "outputs": []
    },
    {
      "cell_type": "markdown",
      "source": [
        "#word_count"
      ],
      "metadata": {
        "id": "PUbTQPkwecIG"
      }
    },
    {
      "cell_type": "code",
      "source": [
        "train['word_count']=train['text'].apply(lambda x:len(x.split(\" \")))\n",
        "train['word_count']"
      ],
      "metadata": {
        "id": "N160CLKvebhZ"
      },
      "execution_count": null,
      "outputs": []
    },
    {
      "cell_type": "code",
      "source": [
        "train['word_count'].describe()"
      ],
      "metadata": {
        "id": "COCdwXn_gKfF"
      },
      "execution_count": null,
      "outputs": []
    },
    {
      "cell_type": "markdown",
      "source": [
        "#char_count"
      ],
      "metadata": {
        "id": "EEuD3l4dgWpr"
      }
    },
    {
      "cell_type": "code",
      "source": [
        "train['char_count']=train['text'].apply(len)\n",
        "train['char_count']"
      ],
      "metadata": {
        "id": "DEYgHl9DgWMf"
      },
      "execution_count": null,
      "outputs": []
    },
    {
      "cell_type": "code",
      "source": [
        "train['char_count'].describe()"
      ],
      "metadata": {
        "id": "s-DivH5_gk2u"
      },
      "execution_count": null,
      "outputs": []
    },
    {
      "cell_type": "markdown",
      "source": [
        "#vocab"
      ],
      "metadata": {
        "id": "6ekDQI7bgzqN"
      }
    },
    {
      "cell_type": "code",
      "source": [
        "vocab=[word for text in train['text'] for word in text.split(\" \")]\n",
        "vocab=Counter(vocab)\n",
        "vocab"
      ],
      "metadata": {
        "id": "hZg7TeaBg1BC"
      },
      "execution_count": null,
      "outputs": []
    },
    {
      "cell_type": "markdown",
      "source": [
        "#least common"
      ],
      "metadata": {
        "id": "7AaAikGAo9IF"
      }
    },
    {
      "cell_type": "code",
      "source": [
        "vocab.most_common()[:-10]"
      ],
      "metadata": {
        "id": "57nkdhXMgzR3"
      },
      "execution_count": null,
      "outputs": []
    },
    {
      "cell_type": "code",
      "source": [
        "vocab.most_common(n=10)"
      ],
      "metadata": {
        "id": "QAA2CsOrpAnC"
      },
      "execution_count": null,
      "outputs": []
    },
    {
      "cell_type": "code",
      "source": [
        "plt.hist(train['word_count'])"
      ],
      "metadata": {
        "id": "jcDwvvAppqhR"
      },
      "execution_count": null,
      "outputs": []
    },
    {
      "cell_type": "code",
      "source": [
        "plt.hist(train['char_count'])"
      ],
      "metadata": {
        "id": "Hv15JmNjpzN-"
      },
      "execution_count": null,
      "outputs": []
    },
    {
      "cell_type": "code",
      "source": [],
      "metadata": {
        "id": "ZlWN9xam6T00"
      },
      "execution_count": null,
      "outputs": []
    },
    {
      "cell_type": "code",
      "source": [
        "\n",
        "import nltk\n",
        "from nltk.corpus import (stopwords,)\n",
        "nltk.download(\"stopwords\")"
      ],
      "metadata": {
        "id": "Psk6y7naMWBP"
      },
      "execution_count": null,
      "outputs": []
    },
    {
      "cell_type": "code",
      "source": [
        "## create function to clean up text\n",
        "import string\n",
        "def clean_text(text,remove_stopwords=False):\n",
        "\n",
        "  text=text.lower()\n",
        "  text=re.sub(r\"<.?>\" ,\" \" ,text) #html\n",
        "  text=re.sub(r\"\\d+\", \" \" ,text) #number\n",
        "  text=re.sub(r\"\\w\\d\\w\", \" \" ,text) ## word with number\n",
        "  text=re.sub(r\"http?://\\S+\", \" \" ,text) ## remove url\n",
        "  text=re.sub(r\"\\S*@\\S*\\s\", \" \" ,text) #remove email\n",
        "  text=re.sub(r\"@\\S*\", \" \" ,text) #remove mension\n",
        "  text=re.sub(r\"#\\S*\", \" \" ,text) # remove #\n",
        "  text = re.sub(f\"[{re.escape(string.punctuation)}]\", \" \", text)#punctuattion\n",
        "  text=re.sub(\"\\s+\", \"  \" ,text) #remove extra space\n",
        "\n",
        "  if remove_stopwords:\n",
        "\n",
        "    stopwords=set(stopwords.words('english'))\n",
        "    words=word_tokenize(text)\n",
        "    words=[word for word in words if not word in stopwords ]\n",
        "    text=\" \".join(words)\n",
        "\n",
        "  return text\n",
        "\n"
      ],
      "metadata": {
        "id": "Za8WEeW0N5J6"
      },
      "execution_count": null,
      "outputs": []
    },
    {
      "cell_type": "code",
      "source": [
        "train['clean']=train['text'].apply(clean_text)"
      ],
      "metadata": {
        "id": "lbAuUHJBN5P4"
      },
      "execution_count": null,
      "outputs": []
    },
    {
      "cell_type": "code",
      "source": [
        "valid['clean']=valid['text'].apply(clean_text)"
      ],
      "metadata": {
        "id": "FrOO6zzPxx66"
      },
      "execution_count": null,
      "outputs": []
    },
    {
      "cell_type": "code",
      "source": [
        "test['clean']=test['text'].apply(clean_text)"
      ],
      "metadata": {
        "id": "83bfzCclN5TC"
      },
      "execution_count": null,
      "outputs": []
    },
    {
      "cell_type": "markdown",
      "source": [
        "#Tokininzer\n",
        "# vectorize text "
      ],
      "metadata": {
        "id": "pXU9sIwbbfn7"
      }
    },
    {
      "cell_type": "code",
      "source": [
        "vocab_size=5000\n",
        "batch_size=32\n",
        "max_length=300\n",
        "max_sequence=30 #max number of word in each text\n",
        "embeding_dim=50 #dimention of embedded  layers"
      ],
      "metadata": {
        "id": "o5fpe2yIXSx2"
      },
      "execution_count": null,
      "outputs": []
    },
    {
      "cell_type": "code",
      "source": [
        "## create tokinizer object\n",
        "tokenizer=tf.keras.preprocessing.text.Tokenizer(num_words=vocab_size,\n",
        "                                                )\n",
        "\n",
        "tokenizer.fit_on_texts(train['clean'])\n",
        "\n",
        "##preview the word index\n",
        "word_index=tokenizer.word_index\n",
        "print({k:word_index[k] for  k in list(word_index)[:10]})"
      ],
      "metadata": {
        "id": "bqU-iC_RN5X4"
      },
      "execution_count": null,
      "outputs": []
    },
    {
      "cell_type": "markdown",
      "source": [
        "#test"
      ],
      "metadata": {
        "id": "2Tu-yN5julX2"
      }
    },
    {
      "cell_type": "code",
      "source": [
        "## let see how tokinizer work\n",
        "text=\"thinking of you everything crossed turn\"\n",
        "seq=tokenizer.texts_to_sequences([text])\n",
        "print(seq)"
      ],
      "metadata": {
        "id": "VSAxo6IEN5ah"
      },
      "execution_count": null,
      "outputs": []
    },
    {
      "cell_type": "code",
      "source": [
        "seqv=tokenizer.texts_to_sequences(train['clean'])"
      ],
      "metadata": {
        "id": "wuFBJ3HoDZbo"
      },
      "execution_count": null,
      "outputs": []
    },
    {
      "cell_type": "code",
      "source": [
        "## for all\n",
        "sequ=tokenizer.texts_to_sequences(valid['clean'])\n",
        "\n"
      ],
      "metadata": {
        "id": "O4MkdJ_ZN5dH"
      },
      "execution_count": null,
      "outputs": []
    },
    {
      "cell_type": "markdown",
      "source": [
        "#test"
      ],
      "metadata": {
        "id": "52IjK9TCvP-m"
      }
    },
    {
      "cell_type": "code",
      "source": [
        "seqt=tokenizer.texts_to_sequences(test['clean'])"
      ],
      "metadata": {
        "id": "cFBJiAG2vPhb"
      },
      "execution_count": null,
      "outputs": []
    },
    {
      "cell_type": "markdown",
      "source": [
        "##Padding NLP"
      ],
      "metadata": {
        "id": "OTOJnJC-ZXua"
      }
    },
    {
      "cell_type": "code",
      "source": [
        "padded_seq=tf.keras.preprocessing.sequence.pad_sequences(seqv,maxlen=max_length,\n",
        "                                                         padding='post')\n",
        "print(padded_seq.shape)"
      ],
      "metadata": {
        "id": "2-NXPKF6ZafF"
      },
      "execution_count": null,
      "outputs": []
    },
    {
      "cell_type": "code",
      "source": [
        "padded_seqv=tf.keras.preprocessing.sequence.pad_sequences(sequ,maxlen=max_length,\n",
        "                                                          padding='post')"
      ],
      "metadata": {
        "id": "_TxRqRlsDmoy"
      },
      "execution_count": null,
      "outputs": []
    },
    {
      "cell_type": "code",
      "source": [
        "print(padded_seqv.shape)"
      ],
      "metadata": {
        "id": "_DRa4psBsEkN"
      },
      "execution_count": null,
      "outputs": []
    },
    {
      "cell_type": "markdown",
      "source": [
        "#test"
      ],
      "metadata": {
        "id": "ByFYfRSkvd8-"
      }
    },
    {
      "cell_type": "code",
      "source": [
        "padded_seqt=tf.keras.preprocessing.sequence.pad_sequences(seqt,maxlen=max_length,padding='post')"
      ],
      "metadata": {
        "id": "IO4YHoSMvdmX"
      },
      "execution_count": null,
      "outputs": []
    },
    {
      "cell_type": "markdown",
      "source": [
        "##standered preprocess steps"
      ],
      "metadata": {
        "id": "_GdHXdVYcvoF"
      }
    },
    {
      "cell_type": "code",
      "source": [
        "x_train=padded_seq\n",
        "y_train=train.label\n",
        "x_valid=padded_seqv\n",
        "y_valid=valid.label"
      ],
      "metadata": {
        "id": "yLLACUYeEZqh"
      },
      "execution_count": null,
      "outputs": []
    },
    {
      "cell_type": "code",
      "source": [
        "y_train=train['label'].tolist()\n",
        "\n",
        "y_valid=valid['label'].tolist()\n",
        "y_train = np.array(y_train)\n",
        "y_valid = np.array(y_valid)"
      ],
      "metadata": {
        "id": "8BqU_tJ9cUcb"
      },
      "execution_count": null,
      "outputs": []
    },
    {
      "cell_type": "markdown",
      "source": [
        "#test"
      ],
      "metadata": {
        "id": "s9nukB31v3Yc"
      }
    },
    {
      "cell_type": "code",
      "execution_count": null,
      "metadata": {
        "id": "5RVexIANtvh7"
      },
      "outputs": [],
      "source": [
        "def dataset_creator(x, y):\n",
        "    dataset = tf.data.Dataset.from_tensor_slices((x, y))\n",
        "    dataset = dataset.shuffle(1000)\n",
        "    dataset = dataset.batch(batch_size)\n",
        "    dataset = dataset.prefetch(tf.data.experimental.AUTOTUNE)\n",
        "    return dataset\n",
        "\n",
        "\n",
        "train_dataset = dataset_creator(x_train, y_train)\n",
        "test_dataset = dataset_creator(x_valid, y_valid)"
      ]
    },
    {
      "cell_type": "code",
      "execution_count": null,
      "metadata": {
        "id": "cy1oJJb3tvh7"
      },
      "outputs": [],
      "source": [
        "# preview dataset\n",
        "for x, y in train_dataset.take(1):\n",
        "    print(x.shape, y.shape)\n",
        "    print(x[0])\n",
        "    print(y[0])\n",
        "\n",
        "# preview dataset size\n",
        "print(\"Train dataset size: \", len(train_dataset))\n",
        "print(\"Test dataset size: \", len(test_dataset))"
      ]
    },
    {
      "cell_type": "markdown",
      "source": [
        "#Modeling"
      ],
      "metadata": {
        "id": "dNKPKH7gd44r"
      }
    },
    {
      "cell_type": "code",
      "source": [
        "dense_model = tf.keras.Sequential(\n",
        "    [\n",
        "        tf.keras.layers.Dense(64, activation=\"relu\", input_shape=(max_length,)),\n",
        "        tf.keras.layers.Dense(32, activation=\"relu\"),\n",
        "        tf.keras.layers.Dense(1, activation=\"sigmoid\"),\n",
        "    ]\n",
        ")\n",
        "\n",
        "dense_model.summary()"
      ],
      "metadata": {
        "id": "NmryFNxhN5fZ"
      },
      "execution_count": null,
      "outputs": []
    },
    {
      "cell_type": "code",
      "source": [
        "dense_model.compile(optimizer=\"adam\", loss=\"binary_crossentropy\", metrics=[\"accuracy\"])\n",
        "\n",
        "# train the model\n",
        "dense_model.fit(\n",
        "    x_train,y_train, epochs=10, batch_size=batch_size, validation_data=(x_valid,y_valid)\n",
        ")"
      ],
      "metadata": {
        "id": "zNbtYN1qN5h2"
      },
      "execution_count": null,
      "outputs": []
    },
    {
      "cell_type": "markdown",
      "source": [
        "##embed modeling"
      ],
      "metadata": {
        "id": "qnyMYrMv6Jl7"
      }
    },
    {
      "cell_type": "code",
      "source": [
        "embed_model=tf.keras.Sequential([\n",
        "    tf.keras.layers.Embedding(vocab_size+1,embeding_dim,input_length=max_length),\n",
        "    tf.keras.layers.Flatten(),\n",
        "    tf.keras.layers.Dense(512,activation='relu'),\n",
        "    tf.keras.layers.Dense(256,activation='relu'),\n",
        "    tf.keras.layers.Dense(1,activation='sigmoid')\n",
        "])"
      ],
      "metadata": {
        "id": "Egmp2nXY6NUm"
      },
      "execution_count": null,
      "outputs": []
    },
    {
      "cell_type": "code",
      "source": [
        "embed_model.compile(optimizer=\"adam\", loss=\"binary_crossentropy\", metrics=[\"accuracy\"])\n",
        "\n",
        "# train the model\n",
        "embed_model.fit(\n",
        "    train_dataset, epochs=10, batch_size=batch_size, validation_data=(test_dataset)\n",
        ")"
      ],
      "metadata": {
        "id": "eZMWVbMH6JQd"
      },
      "execution_count": null,
      "outputs": []
    },
    {
      "cell_type": "markdown",
      "source": [
        "#RNN"
      ],
      "metadata": {
        "id": "6y1PgZwn7bAA"
      }
    },
    {
      "cell_type": "code",
      "source": [
        "simple_rnn=tf.keras.Sequential([\n",
        "    tf.keras.layers.Embedding(vocab_size+1,embeding_dim,input_length=max_length),\n",
        "    tf.keras.layers.SimpleRNN(64,activation='relu'),\n",
        "    tf.keras.layers.Dense(64,activation='relu'),\n",
        "    tf.keras.layers.Dense(32,activation='relu'),\n",
        "    tf.keras.layers.Dense(1,activation='sigmoid')\n",
        "])"
      ],
      "metadata": {
        "id": "42uREX8G7aik"
      },
      "execution_count": null,
      "outputs": []
    },
    {
      "cell_type": "code",
      "source": [
        "simple_rnn.compile(optimizer=\"adam\", loss=\"binary_crossentropy\", metrics=[\"accuracy\"])\n",
        "\n",
        "# train the model\n",
        "simple_rnn.fit(\n",
        "    train_dataset, epochs=10, batch_size=batch_size, validation_data=test_dataset\n",
        ")"
      ],
      "metadata": {
        "id": "VsXehib7N5kJ"
      },
      "execution_count": null,
      "outputs": []
    },
    {
      "cell_type": "markdown",
      "source": [
        "#Lstm"
      ],
      "metadata": {
        "id": "8Z2ZWRxqC2Xp"
      }
    },
    {
      "cell_type": "code",
      "source": [
        "lstm_model=tf.keras.Sequential([\n",
        "    tf.keras.layers.Embedding(vocab_size,embeding_dim,input_length=max_length),\n",
        "     tf.keras.layers.LSTM(128, return_sequences=True),\n",
        "    tf.keras.layers.LSTM(128, return_sequences=True),\n",
        "      tf.keras.layers.LSTM(128, return_sequences=True),\n",
        "       tf.keras.layers.LSTM(128, return_sequences=True),\n",
        "    tf.keras.layers.Bidirectional(tf.keras.layers.LSTM(128, activation=\"tanh\")),\n",
        "\n",
        "    # tf.keras.layers.GlobalAveragePooling1D(),\n",
        "  \n",
        "      tf.keras.layers.Dense(64,activation='relu'),\n",
        "      # tf.keras.layers.Dense(.1),\n",
        "      #  tf.keras.layers.Dense(64,activation='relu'),\n",
        "         tf.keras.layers.Dense(32,activation='relu'),\n",
        "    tf.keras.layers.Dense(1,activation='sigmoid')\n",
        "])"
      ],
      "metadata": {
        "id": "NcCgv_-aN5mc"
      },
      "execution_count": null,
      "outputs": []
    },
    {
      "cell_type": "code",
      "source": [
        "lr_reduce = tf.keras.callbacks.ReduceLROnPlateau(monitor='val_loss', factor=0.5, min_delta=0.0001, patience=5, verbose=0)\n",
        "es_callback = tf.keras.callbacks.EarlyStopping(monitor='val_loss', patience=5, verbose=0)"
      ],
      "metadata": {
        "id": "fMyq8VfkITqn"
      },
      "execution_count": null,
      "outputs": []
    },
    {
      "cell_type": "code",
      "source": [
        "\n",
        "\n",
        "\n",
        "\n",
        "lstm_model.compile(optimizer='adam',loss='binary_crossentropy',metrics=['accuracy'])\n",
        "\n",
        "lstm_model.fit(train_dataset,epochs=10,validation_data=test_dataset,callbacks=[lr_reduce, es_callback])"
      ],
      "metadata": {
        "id": "sWFNqTDiN5o5"
      },
      "execution_count": null,
      "outputs": []
    },
    {
      "cell_type": "markdown",
      "source": [
        "#GRu"
      ],
      "metadata": {
        "id": "og1JNmXitRLv"
      }
    },
    {
      "cell_type": "code",
      "source": [
        "gru_model = tf.keras.Sequential(\n",
        "    [\n",
        "        tf.keras.layers.Embedding(vocab_size, embeding_dim, input_length=max_length),\n",
        "        tf.keras.layers.GRU(64, activation=\"tanh\"),\n",
        "        tf.keras.layers.Dense(64, activation=\"relu\"),\n",
        "        tf.keras.layers.Dense(32, activation=\"relu\"),\n",
        "        tf.keras.layers.Dense(1, activation=\"sigmoid\"),\n",
        "    ]\n",
        ")\n",
        "\n",
        "gru_model.summary()"
      ],
      "metadata": {
        "id": "MmDUll0FtQY4"
      },
      "execution_count": null,
      "outputs": []
    },
    {
      "cell_type": "code",
      "source": [
        "lr_reduce = tf.keras.callbacks.ReduceLROnPlateau(monitor='val_loss', factor=0.5, min_delta=0.0001, patience=5, verbose=0)\n",
        "es_callback = tf.keras.callbacks.EarlyStopping(monitor='val_loss', patience=5, verbose=0)"
      ],
      "metadata": {
        "id": "yaL10BJ7tY-Y"
      },
      "execution_count": null,
      "outputs": []
    },
    {
      "cell_type": "code",
      "source": [
        "\n",
        "\n",
        "\n",
        "\n",
        "gru_model.compile(optimizer='adam',loss='binary_crossentropy',metrics=['accuracy'])\n",
        "\n",
        "gru_model.fit(train_dataset,epochs=5,validation_data=test_dataset,callbacks=[lr_reduce, es_callback])"
      ],
      "metadata": {
        "id": "jRNPAZl1tY-a"
      },
      "execution_count": null,
      "outputs": []
    },
    {
      "cell_type": "markdown",
      "source": [
        "bidrectional"
      ],
      "metadata": {
        "id": "7lelRbOJtgrG"
      }
    },
    {
      "cell_type": "code",
      "source": [
        "bi_gru_model = tf.keras.Sequential(\n",
        "    [\n",
        "        tf.keras.layers.Embedding(vocab_size, embeding_dim, input_length=max_length),\n",
        "        tf.keras.layers.Bidirectional(tf.keras.layers.GRU(64, activation=\"tanh\")),\n",
        "        tf.keras.layers.Dense(64, activation=\"relu\"),\n",
        "        tf.keras.layers.Dense(32, activation=\"relu\"),\n",
        "        tf.keras.layers.Dense(1, activation=\"sigmoid\"),\n",
        "    ]\n",
        ")\n",
        "\n",
        "bi_gru_model.summary()"
      ],
      "metadata": {
        "id": "5yYHWjhwtgL1"
      },
      "execution_count": null,
      "outputs": []
    },
    {
      "cell_type": "code",
      "source": [],
      "metadata": {
        "id": "2EMdFilHtlGC"
      },
      "execution_count": null,
      "outputs": []
    },
    {
      "cell_type": "code",
      "source": [
        "lr_reduce = tf.keras.callbacks.ReduceLROnPlateau(monitor='val_loss', factor=0.5, min_delta=0.0001, patience=5, verbose=0)\n",
        "es_callback = tf.keras.callbacks.EarlyStopping(monitor='val_loss', patience=5, verbose=0)"
      ],
      "metadata": {
        "id": "bq-8A9SqtnNP"
      },
      "execution_count": null,
      "outputs": []
    },
    {
      "cell_type": "code",
      "source": [
        "\n",
        "\n",
        "\n",
        "\n",
        "bi_gru_model.compile(optimizer='adam',loss='binary_crossentropy',metrics=['accuracy'])\n",
        "\n",
        "bi_gru_model.fit(train_dataset,epochs=5,validation_data=test_dataset,callbacks=[lr_reduce, es_callback])"
      ],
      "metadata": {
        "id": "Pl3WnxmStnNR"
      },
      "execution_count": null,
      "outputs": []
    },
    {
      "cell_type": "code",
      "source": [
        "x_test=padded_seqt"
      ],
      "metadata": {
        "id": "hhr2p5uyi8zm"
      },
      "execution_count": null,
      "outputs": []
    },
    {
      "cell_type": "code",
      "source": [
        "pre = np.array(gru_model.predict(x_test))"
      ],
      "metadata": {
        "id": "L8xGlK0Hye9x"
      },
      "execution_count": null,
      "outputs": []
    },
    {
      "cell_type": "code",
      "source": [
        "pred=np.round(pre,0)"
      ],
      "metadata": {
        "id": "kStZFIo1-7YS"
      },
      "execution_count": null,
      "outputs": []
    },
    {
      "cell_type": "code",
      "source": [
        "predi=pred.astype(int)"
      ],
      "metadata": {
        "id": "Yb2FjKXbN5rK"
      },
      "execution_count": null,
      "outputs": []
    },
    {
      "cell_type": "code",
      "source": [
        "predi"
      ],
      "metadata": {
        "id": "EjjMrv11_L0O"
      },
      "execution_count": null,
      "outputs": []
    },
    {
      "cell_type": "code",
      "source": [
        "df = pd.DataFrame({\n",
        "    'id':test['id'],\n",
        "    'Label':predi[:,0],\n",
        "})\n",
        "df\n"
      ],
      "metadata": {
        "id": "Q9naIX0F_REe"
      },
      "execution_count": null,
      "outputs": []
    },
    {
      "cell_type": "code",
      "source": [
        "df.to_csv(\"submissiongru.csv\",index=False ,header = 1)"
      ],
      "metadata": {
        "id": "Ji78J-AG_tci"
      },
      "execution_count": null,
      "outputs": []
    }
  ]
}