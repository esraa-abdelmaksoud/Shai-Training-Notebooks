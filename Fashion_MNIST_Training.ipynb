{
  "cells": [
    {
      "cell_type": "markdown",
      "metadata": {
        "id": "view-in-github",
        "colab_type": "text"
      },
      "source": [
        "<a href=\"https://colab.research.google.com/github/esraa-abdelmaksoud/Shai-Training-Notebooks/blob/main/Fashion_MNIST_Training.ipynb\" target=\"_parent\"><img src=\"https://colab.research.google.com/assets/colab-badge.svg\" alt=\"Open In Colab\"/></a>"
      ]
    },
    {
      "cell_type": "markdown",
      "metadata": {
        "pycharm": {
          "name": "#%% md\n"
        },
        "id": "vL0s9O_4GHVJ"
      },
      "source": [
        "# Attempt to solve Fashion MNIST Dataset using Dense Neural Network\n",
        "## Bibliography \n",
        "* Keras official Tutorial\n",
        "* Deep Learning with Python by François Chollet\n",
        "\n",
        "## About DataSet \n",
        "**Fashion-MNIST is a dataset of Zalando's article images—consisting of a training set of 60,000 examples and a test set of 10,000 examples. Each example is a 28x28 grayscale image, associated with a label from 10 classes. Zalando intends Fashion-MNIST to serve as a direct drop-in replacement for the original MNIST dataset for benchmarking machine learning algorithms. It shares the same image size and structure of training and testing splits.**\n"
      ]
    },
    {
      "cell_type": "code",
      "execution_count": 16,
      "metadata": {
        "_cell_guid": "b1076dfc-b9ad-4769-8c92-a6c4dae69d19",
        "_uuid": "8f2839f25d086af736a60e9eeb907d3b93b6e0e5",
        "pycharm": {
          "name": "#%%\n",
          "is_executing": true
        },
        "id": "a9uUU46nGHVS"
      },
      "outputs": [],
      "source": [
        "import numpy as np \n",
        "import pandas as pd\n",
        "import matplotlib.pyplot as plt\n",
        "import seaborn as sns\n",
        "from tensorflow import keras\n",
        "from keras import layers, models\n",
        "from sklearn.model_selection import train_test_split\n",
        "from sklearn.metrics import classification_report,confusion_matrix\n",
        "import os\n"
      ]
    },
    {
      "cell_type": "markdown",
      "source": [
        "# Load Dataset and Split it to test and train set"
      ],
      "metadata": {
        "collapsed": false,
        "pycharm": {
          "name": "#%% md\n"
        },
        "id": "arDfmGLrGHVW"
      }
    },
    {
      "cell_type": "markdown",
      "source": [
        "see this link\n",
        "https://medium.com/the-data-science-publication/how-to-import-and-display-the-fashion-mnist-dataset-using-tensorflow-e72522f684d0"
      ],
      "metadata": {
        "collapsed": false,
        "pycharm": {
          "name": "#%% md\n"
        },
        "id": "swOIhnuPGHVZ"
      }
    },
    {
      "cell_type": "code",
      "execution_count": 17,
      "metadata": {
        "_cell_guid": "79c7e3d0-c299-4dcb-8224-4455121ee9b0",
        "_uuid": "d629ff2d2480ee46fbb7e2d37f6b5fab8052498a",
        "pycharm": {
          "name": "#%%\n"
        },
        "id": "xSZV63jLGHVa"
      },
      "outputs": [],
      "source": [
        "#Getting training and testing data from tensorflow\n",
        "(X_train_full, y_train_full), (X_test, y_test) = keras.datasets.fashion_mnist.load_data()"
      ]
    },
    {
      "cell_type": "markdown",
      "source": [
        "28*28 image pixels"
      ],
      "metadata": {
        "collapsed": false,
        "pycharm": {
          "name": "#%% md\n"
        },
        "id": "psmkCsGWGHVb"
      }
    },
    {
      "cell_type": "code",
      "execution_count": 18,
      "metadata": {
        "pycharm": {
          "name": "#%%\n",
          "is_executing": true
        },
        "id": "ROn98juWGHVc",
        "outputId": "ae93a462-dc3f-4c6d-dd59-70acbc47beb7",
        "colab": {
          "base_uri": "https://localhost:8080/"
        }
      },
      "outputs": [
        {
          "output_type": "execute_result",
          "data": {
            "text/plain": [
              "(60000, 28, 28)"
            ]
          },
          "metadata": {},
          "execution_count": 18
        }
      ],
      "source": [
        "#Training Set shape\n",
        "X_train_full.shape"
      ]
    },
    {
      "cell_type": "code",
      "execution_count": 19,
      "metadata": {
        "pycharm": {
          "name": "#%%\n",
          "is_executing": true
        },
        "id": "JKoZKqrfGHVd",
        "outputId": "3df0e6a2-79a6-48bb-885c-89a1ddd32e06",
        "colab": {
          "base_uri": "https://localhost:8080/"
        }
      },
      "outputs": [
        {
          "output_type": "stream",
          "name": "stdout",
          "text": [
            "(10000, 28, 28)\n",
            "(10000,)\n"
          ]
        }
      ],
      "source": [
        "#Test Set consists of 10000 samples with one label field and 28*28 image pixels\n",
        "print(X_test.shape)\n",
        "print(y_test.shape)"
      ]
    },
    {
      "cell_type": "code",
      "execution_count": 20,
      "metadata": {
        "pycharm": {
          "name": "#%%\n"
        },
        "id": "QBrG6j-FGHVe"
      },
      "outputs": [],
      "source": [
        "#Labels from 0 to 9 are following Items \n",
        "class_names = ['T-shirt/top', 'Trouser', 'Pullover', 'Dress', 'Coat',\n",
        "               'Sandal', 'Shirt', 'Sneaker', 'Bag', 'Ankle boot']"
      ]
    },
    {
      "cell_type": "markdown",
      "source": [
        "Split training data to train and valid"
      ],
      "metadata": {
        "collapsed": false,
        "pycharm": {
          "name": "#%% md\n"
        },
        "id": "j5adoBAKGHVf"
      }
    },
    {
      "cell_type": "code",
      "execution_count": 21,
      "metadata": {
        "pycharm": {
          "name": "#%%\n",
          "is_executing": true
        },
        "id": "r2-fV04OGHVg"
      },
      "outputs": [],
      "source": [
        "X_valid, X_train = X_train_full[:5000], X_train_full[5000:]\n",
        "y_valid, y_train = y_train_full[:5000], y_train_full[5000:]"
      ]
    },
    {
      "cell_type": "markdown",
      "metadata": {
        "pycharm": {
          "name": "#%% md\n"
        },
        "id": "0-S8DzcqGHVh"
      },
      "source": [
        "## Some images with their labels "
      ]
    },
    {
      "cell_type": "code",
      "execution_count": 22,
      "metadata": {
        "pycharm": {
          "name": "#%%\n"
        },
        "id": "PJiAz4vOGHVh",
        "outputId": "6892482a-8fa6-4645-f41b-a83c4924ee1c",
        "colab": {
          "base_uri": "https://localhost:8080/",
          "height": 592
        }
      },
      "outputs": [
        {
          "output_type": "display_data",
          "data": {
            "text/plain": [
              "<Figure size 720x720 with 25 Axes>"
            ],
            "image/png": "[encoded data removed]"
          },
          "metadata": {}
        }
      ],
      "source": [
        "plt.figure(figsize=(10,10))\n",
        "for i in range(25):\n",
        "    plt.subplot(5,5,i+1)\n",
        "    plt.xticks([])\n",
        "    plt.yticks([])\n",
        "    plt.grid(False)\n",
        "    plt.imshow(np.array(X_train[i]).reshape(28,28), cmap=plt.cm.binary)\n",
        "    plt.xlabel(class_names[y_train[i]])\n",
        "plt.show()"
      ]
    },
    {
      "cell_type": "code",
      "execution_count": 23,
      "metadata": {
        "pycharm": {
          "name": "#%%\n"
        },
        "id": "N_f0YS2NGHVm"
      },
      "outputs": [],
      "source": [
        "# Rescaling training to range 0 to 1 by dividing them by 255\n",
        "X_train = X_train / 255.0\n",
        "# Rescaling validation data too\n",
        "X_valid = X_valid / 255.0"
      ]
    },
    {
      "cell_type": "markdown",
      "metadata": {
        "pycharm": {
          "name": "#%% md\n"
        },
        "id": "DGs20rcZGHVn"
      },
      "source": [
        "**Creating a Deep Neural Network with any number of layer you want.**"
      ]
    },
    {
      "cell_type": "code",
      "execution_count": 40,
      "metadata": {
        "pycharm": {
          "name": "#%%\n"
        },
        "id": "NdCdSICBGHVo"
      },
      "outputs": [],
      "source": [
        "model = models.Sequential()\n",
        "model.add(layers.Flatten(input_shape=(28, 28)))\n",
        "model.add(layers.Dense(64,activation='relu'))\n",
        "model.add(layers.Dense(128,activation='relu'))\n",
        "model.add(layers.Dense(10,activation='softmax'))"
      ]
    },
    {
      "cell_type": "markdown",
      "metadata": {
        "pycharm": {
          "name": "#%% md\n"
        },
        "id": "OKBI2zyHGHVo"
      },
      "source": [
        "**Compiling the model.**"
      ]
    },
    {
      "cell_type": "code",
      "execution_count": 41,
      "metadata": {
        "pycharm": {
          "name": "#%%\n"
        },
        "id": "CLzuHgkSGHVp"
      },
      "outputs": [],
      "source": [
        "model.compile(optimizer='adam',\n",
        "              loss=keras.losses.SparseCategoricalCrossentropy(from_logits=True),\n",
        "              metrics=['accuracy'])"
      ]
    },
    {
      "cell_type": "markdown",
      "metadata": {
        "pycharm": {
          "name": "#%% md\n"
        },
        "id": "90oqDLNZGHVp"
      },
      "source": [
        "**Training model with a part of training data and evaluating it with another part of training data\n",
        "and get more than 90% val_acc**"
      ]
    },
    {
      "cell_type": "code",
      "execution_count": 42,
      "metadata": {
        "pycharm": {
          "name": "#%%\n"
        },
        "id": "BksRrKGBGHVq",
        "outputId": "f60f327c-ea45-474a-92e5-006f24d2326b",
        "colab": {
          "base_uri": "https://localhost:8080/"
        }
      },
      "outputs": [
        {
          "output_type": "stream",
          "name": "stdout",
          "text": [
            "Epoch 1/20\n",
            "1719/1719 [==============================] - 5s 2ms/step - loss: 0.5137 - accuracy: 0.8156 - val_loss: 0.3742 - val_accuracy: 0.8662\n",
            "Epoch 2/20\n",
            "1719/1719 [==============================] - 4s 3ms/step - loss: 0.3752 - accuracy: 0.8629 - val_loss: 0.3564 - val_accuracy: 0.8676\n",
            "Epoch 3/20\n",
            "1719/1719 [==============================] - 4s 2ms/step - loss: 0.3387 - accuracy: 0.8756 - val_loss: 0.3341 - val_accuracy: 0.8802\n",
            "Epoch 4/20\n",
            "1719/1719 [==============================] - 4s 2ms/step - loss: 0.3144 - accuracy: 0.8845 - val_loss: 0.3379 - val_accuracy: 0.8786\n",
            "Epoch 5/20\n",
            "1719/1719 [==============================] - 4s 3ms/step - loss: 0.2997 - accuracy: 0.8885 - val_loss: 0.3219 - val_accuracy: 0.8850\n",
            "Epoch 6/20\n",
            "1719/1719 [==============================] - 4s 2ms/step - loss: 0.2812 - accuracy: 0.8951 - val_loss: 0.3181 - val_accuracy: 0.8914\n",
            "Epoch 7/20\n",
            "1719/1719 [==============================] - 4s 2ms/step - loss: 0.2702 - accuracy: 0.8977 - val_loss: 0.3166 - val_accuracy: 0.8864\n",
            "Epoch 8/20\n",
            "1719/1719 [==============================] - 4s 3ms/step - loss: 0.2631 - accuracy: 0.9013 - val_loss: 0.3009 - val_accuracy: 0.8910\n",
            "Epoch 9/20\n",
            "1719/1719 [==============================] - 4s 2ms/step - loss: 0.2497 - accuracy: 0.9052 - val_loss: 0.3166 - val_accuracy: 0.8870\n",
            "Epoch 10/20\n",
            "1719/1719 [==============================] - 4s 3ms/step - loss: 0.2426 - accuracy: 0.9085 - val_loss: 0.3301 - val_accuracy: 0.8890\n",
            "Epoch 11/20\n",
            "1719/1719 [==============================] - 4s 2ms/step - loss: 0.2345 - accuracy: 0.9103 - val_loss: 0.3289 - val_accuracy: 0.8900\n",
            "Epoch 12/20\n",
            "1719/1719 [==============================] - 4s 2ms/step - loss: 0.2261 - accuracy: 0.9151 - val_loss: 0.3059 - val_accuracy: 0.8928\n",
            "Epoch 13/20\n",
            "1719/1719 [==============================] - 5s 3ms/step - loss: 0.2200 - accuracy: 0.9175 - val_loss: 0.3303 - val_accuracy: 0.8894\n",
            "Epoch 14/20\n",
            "1719/1719 [==============================] - 4s 2ms/step - loss: 0.2137 - accuracy: 0.9190 - val_loss: 0.3160 - val_accuracy: 0.8946\n",
            "Epoch 15/20\n",
            "1719/1719 [==============================] - 4s 2ms/step - loss: 0.2080 - accuracy: 0.9202 - val_loss: 0.3390 - val_accuracy: 0.8816\n",
            "Epoch 16/20\n",
            "1719/1719 [==============================] - 5s 3ms/step - loss: 0.2022 - accuracy: 0.9234 - val_loss: 0.3249 - val_accuracy: 0.8970\n",
            "Epoch 17/20\n",
            "1719/1719 [==============================] - 4s 2ms/step - loss: 0.1965 - accuracy: 0.9258 - val_loss: 0.3404 - val_accuracy: 0.8892\n",
            "Epoch 18/20\n",
            "1719/1719 [==============================] - 4s 2ms/step - loss: 0.1924 - accuracy: 0.9260 - val_loss: 0.3494 - val_accuracy: 0.8876\n",
            "Epoch 19/20\n",
            "1719/1719 [==============================] - 5s 3ms/step - loss: 0.1853 - accuracy: 0.9293 - val_loss: 0.3340 - val_accuracy: 0.8932\n",
            "Epoch 20/20\n",
            "1719/1719 [==============================] - 4s 2ms/step - loss: 0.1809 - accuracy: 0.9307 - val_loss: 0.3377 - val_accuracy: 0.8938\n"
          ]
        }
      ],
      "source": [
        "history = model.fit(X_train, y_train, epochs=20,\n",
        "                    validation_data=(X_valid, y_valid))"
      ]
    },
    {
      "cell_type": "markdown",
      "source": [
        "# Visualize Model Training History in Keras"
      ],
      "metadata": {
        "collapsed": false,
        "pycharm": {
          "name": "#%% md\n"
        },
        "id": "7PMxrzNfGHVr"
      }
    },
    {
      "cell_type": "markdown",
      "source": [
        "See this link\n",
        "https://machinelearningmastery.com/display-deep-learning-model-training-history-in-keras/"
      ],
      "metadata": {
        "collapsed": false,
        "pycharm": {
          "name": "#%% md\n"
        },
        "id": "P5PWPqCxGHVr"
      }
    },
    {
      "cell_type": "code",
      "source": [
        "# summarize history for loss\n",
        "plt.plot(history.history['loss'], marker='o', linewidth=0, color='blue')\n",
        "plt.plot(history.history['val_loss'], color='blue')\n",
        "plt.title('Training and validation loss')\n",
        "plt.ylabel('Loss')\n",
        "plt.xlabel('Epochs')\n",
        "plt.legend(['Training loss', 'Validation loss'], loc='upper left')\n",
        "plt.show()"
      ],
      "metadata": {
        "id": "_BbtE-kitQAH",
        "outputId": "beba1ab2-e1e2-4ef7-c1ee-10830edbe40b",
        "colab": {
          "base_uri": "https://localhost:8080/",
          "height": 295
        }
      },
      "execution_count": 50,
      "outputs": [
        {
          "output_type": "display_data",
          "data": {
            "text/plain": [
              "<Figure size 432x288 with 1 Axes>"
            ],
            "image/png": "[encoded data removed]"
          },
          "metadata": {
            "needs_background": "light"
          }
        }
      ]
    },
    {
      "cell_type": "code",
      "execution_count": null,
      "outputs": [
        {
          "data": {
            "image/png": "[encoded data removed]",
            "text/plain": [
              "<Figure size 432x288 with 1 Axes>"
            ]
          },
          "metadata": {
            "needs_background": "light"
          },
          "output_type": "display_data"
        }
      ],
      "source": [
        "# This original plot shows poor training. We should minimize the loss, not maximize it."
      ],
      "metadata": {
        "pycharm": {
          "name": "#%%\n"
        },
        "id": "XLbI_lFJGHVs",
        "outputId": "c1ab001f-8af1-4e06-f855-055428ec310b"
      }
    },
    {
      "cell_type": "markdown",
      "metadata": {
        "pycharm": {
          "name": "#%% md\n"
        },
        "id": "I_AClLtNGHVt"
      },
      "source": [
        "# Evaluate the model with our Test Set Using confusion_matrix"
      ]
    },
    {
      "cell_type": "markdown",
      "source": [
        "-split data to X_test and Y_test\n",
        "-Rescaling training to range 0 to 1 by dividing them by 255"
      ],
      "metadata": {
        "collapsed": false,
        "pycharm": {
          "name": "#%% md\n"
        },
        "id": "7tPnHGxGGHVt"
      }
    },
    {
      "cell_type": "code",
      "execution_count": 51,
      "metadata": {
        "pycharm": {
          "name": "#%%\n"
        },
        "id": "jLmdyKgCGHVv"
      },
      "outputs": [],
      "source": [
        "# Already split earlier to X_test and y_test\n",
        "X_test = X_test / 255.0"
      ]
    },
    {
      "cell_type": "markdown",
      "source": [
        "visualization"
      ],
      "metadata": {
        "collapsed": false,
        "pycharm": {
          "name": "#%% md\n"
        },
        "id": "6jHeYNQaGHVv"
      }
    },
    {
      "cell_type": "code",
      "source": [
        "preds = model.predict(X_train)\n",
        "classes=np.argmax(preds,axis=1)"
      ],
      "metadata": {
        "id": "hjl15bwcxT2F",
        "outputId": "258641b5-9cf6-4e1f-a4c1-ec0fbd94cb29",
        "colab": {
          "base_uri": "https://localhost:8080/"
        }
      },
      "execution_count": 56,
      "outputs": [
        {
          "output_type": "stream",
          "name": "stdout",
          "text": [
            "1719/1719 [==============================] - 4s 2ms/step\n"
          ]
        }
      ]
    },
    {
      "cell_type": "code",
      "source": [
        "unique, counts = np.unique(classes, return_counts=True)\n",
        "pred_count = {\"classes\":unique,\"values\":counts}\n",
        "df = pd.DataFrame.from_dict(pred_count)"
      ],
      "metadata": {
        "id": "IWeB94AJyPB9"
      },
      "execution_count": 75,
      "outputs": []
    },
    {
      "cell_type": "code",
      "source": [
        "df"
      ],
      "metadata": {
        "id": "cwSvH1y53iUt",
        "outputId": "12f4d356-fba8-4fca-ca02-9cd1b31d95c6",
        "colab": {
          "base_uri": "https://localhost:8080/",
          "height": 363
        }
      },
      "execution_count": 77,
      "outputs": [
        {
          "output_type": "execute_result",
          "data": {
            "text/plain": [
              "   classes  values\n",
              "0        0    5986\n",
              "1        1    5439\n",
              "2        2    5556\n",
              "3        3    5664\n",
              "4        4    5812\n",
              "5        5    5528\n",
              "6        6    4535\n",
              "7        7    5395\n",
              "8        8    5545\n",
              "9        9    5540"
            ],
            "text/html": [
              "\n",
              "  <div id=\"df-87b22ca7-6b81-487e-bbd4-8ba61b776584\">\n",
              "    <div class=\"colab-df-container\">\n",
              "      <div>\n",
              "<style scoped>\n",
              "    .dataframe tbody tr th:only-of-type {\n",
              "        vertical-align: middle;\n",
              "    }\n",
              "\n",
              "    .dataframe tbody tr th {\n",
              "        vertical-align: top;\n",
              "    }\n",
              "\n",
              "    .dataframe thead th {\n",
              "        text-align: right;\n",
              "    }\n",
              "</style>\n",
              "<table border=\"1\" class=\"dataframe\">\n",
              "  <thead>\n",
              "    <tr style=\"text-align: right;\">\n",
              "      <th></th>\n",
              "      <th>classes</th>\n",
              "      <th>values</th>\n",
              "    </tr>\n",
              "  </thead>\n",
              "  <tbody>\n",
              "    <tr>\n",
              "      <th>0</th>\n",
              "      <td>0</td>\n",
              "      <td>5986</td>\n",
              "    </tr>\n",
              "    <tr>\n",
              "      <th>1</th>\n",
              "      <td>1</td>\n",
              "      <td>5439</td>\n",
              "    </tr>\n",
              "    <tr>\n",
              "      <th>2</th>\n",
              "      <td>2</td>\n",
              "      <td>5556</td>\n",
              "    </tr>\n",
              "    <tr>\n",
              "      <th>3</th>\n",
              "      <td>3</td>\n",
              "      <td>5664</td>\n",
              "    </tr>\n",
              "    <tr>\n",
              "      <th>4</th>\n",
              "      <td>4</td>\n",
              "      <td>5812</td>\n",
              "    </tr>\n",
              "    <tr>\n",
              "      <th>5</th>\n",
              "      <td>5</td>\n",
              "      <td>5528</td>\n",
              "    </tr>\n",
              "    <tr>\n",
              "      <th>6</th>\n",
              "      <td>6</td>\n",
              "      <td>4535</td>\n",
              "    </tr>\n",
              "    <tr>\n",
              "      <th>7</th>\n",
              "      <td>7</td>\n",
              "      <td>5395</td>\n",
              "    </tr>\n",
              "    <tr>\n",
              "      <th>8</th>\n",
              "      <td>8</td>\n",
              "      <td>5545</td>\n",
              "    </tr>\n",
              "    <tr>\n",
              "      <th>9</th>\n",
              "      <td>9</td>\n",
              "      <td>5540</td>\n",
              "    </tr>\n",
              "  </tbody>\n",
              "</table>\n",
              "</div>\n",
              "      <button class=\"colab-df-convert\" onclick=\"convertToInteractive('df-87b22ca7-6b81-487e-bbd4-8ba61b776584')\"\n",
              "              title=\"Convert this dataframe to an interactive table.\"\n",
              "              style=\"display:none;\">\n",
              "        \n",
              "  <svg xmlns=\"http://www.w3.org/2000/svg\" height=\"24px\"viewBox=\"0 0 24 24\"\n",
              "       width=\"24px\">\n",
              "    <path d=\"M0 0h24v24H0V0z\" fill=\"none\"/>\n",
              "    <path d=\"M18.56 5.44l.94 2.06.94-2.06 2.06-.94-2.06-.94-.94-2.06-.94 2.06-2.06.94zm-11 1L8.5 8.5l.94-2.06 2.06-.94-2.06-.94L8.5 2.5l-.94 2.06-2.06.94zm10 10l.94 2.06.94-2.06 2.06-.94-2.06-.94-.94-2.06-.94 2.06-2.06.94z\"/><path d=\"M17.41 7.96l-1.37-1.37c-.4-.4-.92-.59-1.43-.59-.52 0-1.04.2-1.43.59L10.3 9.45l-7.72 7.72c-.78.78-.78 2.05 0 2.83L4 21.41c.39.39.9.59 1.41.59.51 0 1.02-.2 1.41-.59l7.78-7.78 2.81-2.81c.8-.78.8-2.07 0-2.86zM5.41 20L4 18.59l7.72-7.72 1.47 1.35L5.41 20z\"/>\n",
              "  </svg>\n",
              "      </button>\n",
              "      \n",
              "  <style>\n",
              "    .colab-df-container {\n",
              "      display:flex;\n",
              "      flex-wrap:wrap;\n",
              "      gap: 12px;\n",
              "    }\n",
              "\n",
              "    .colab-df-convert {\n",
              "      background-color: #E8F0FE;\n",
              "      border: none;\n",
              "      border-radius: 50%;\n",
              "      cursor: pointer;\n",
              "      display: none;\n",
              "      fill: #1967D2;\n",
              "      height: 32px;\n",
              "      padding: 0 0 0 0;\n",
              "      width: 32px;\n",
              "    }\n",
              "\n",
              "    .colab-df-convert:hover {\n",
              "      background-color: #E2EBFA;\n",
              "      box-shadow: 0px 1px 2px rgba(60, 64, 67, 0.3), 0px 1px 3px 1px rgba(60, 64, 67, 0.15);\n",
              "      fill: #174EA6;\n",
              "    }\n",
              "\n",
              "    [theme=dark] .colab-df-convert {\n",
              "      background-color: #3B4455;\n",
              "      fill: #D2E3FC;\n",
              "    }\n",
              "\n",
              "    [theme=dark] .colab-df-convert:hover {\n",
              "      background-color: #434B5C;\n",
              "      box-shadow: 0px 1px 3px 1px rgba(0, 0, 0, 0.15);\n",
              "      filter: drop-shadow(0px 1px 2px rgba(0, 0, 0, 0.3));\n",
              "      fill: #FFFFFF;\n",
              "    }\n",
              "  </style>\n",
              "\n",
              "      <script>\n",
              "        const buttonEl =\n",
              "          document.querySelector('#df-87b22ca7-6b81-487e-bbd4-8ba61b776584 button.colab-df-convert');\n",
              "        buttonEl.style.display =\n",
              "          google.colab.kernel.accessAllowed ? 'block' : 'none';\n",
              "\n",
              "        async function convertToInteractive(key) {\n",
              "          const element = document.querySelector('#df-87b22ca7-6b81-487e-bbd4-8ba61b776584');\n",
              "          const dataTable =\n",
              "            await google.colab.kernel.invokeFunction('convertToInteractive',\n",
              "                                                     [key], {});\n",
              "          if (!dataTable) return;\n",
              "\n",
              "          const docLinkHtml = 'Like what you see? Visit the ' +\n",
              "            '<a target=\"_blank\" href=https://colab.research.google.com/notebooks/data_table.ipynb>data table notebook</a>'\n",
              "            + ' to learn more about interactive tables.';\n",
              "          element.innerHTML = '';\n",
              "          dataTable['output_type'] = 'display_data';\n",
              "          await google.colab.output.renderOutput(dataTable, element);\n",
              "          const docLink = document.createElement('div');\n",
              "          docLink.innerHTML = docLinkHtml;\n",
              "          element.appendChild(docLink);\n",
              "        }\n",
              "      </script>\n",
              "    </div>\n",
              "  </div>\n",
              "  "
            ]
          },
          "metadata": {},
          "execution_count": 77
        }
      ]
    },
    {
      "cell_type": "code",
      "source": [
        "sns.heatmap(df, annot=True)"
      ],
      "metadata": {
        "id": "RcZKwZziv_TH",
        "outputId": "a508634f-2bb4-4885-b1bc-d127af277f60",
        "colab": {
          "base_uri": "https://localhost:8080/",
          "height": 282
        }
      },
      "execution_count": 76,
      "outputs": [
        {
          "output_type": "execute_result",
          "data": {
            "text/plain": [
              "<AxesSubplot:>"
            ]
          },
          "metadata": {},
          "execution_count": 76
        },
        {
          "output_type": "display_data",
          "data": {
            "text/plain": [
              "<Figure size 432x288 with 2 Axes>"
            ],
            "image/png": "[encoded data removed]"
          },
          "metadata": {
            "needs_background": "light"
          }
        }
      ]
    },
    {
      "cell_type": "code",
      "execution_count": null,
      "metadata": {
        "pycharm": {
          "name": "#%%\n"
        },
        "id": "5scmMQqEGHVw",
        "outputId": "8213e3f3-5a1b-4ceb-abd0-3dbd29d6f246"
      },
      "outputs": [
        {
          "data": {
            "image/png": "[encoded data removed]",
            "text/plain": [
              "<Figure size 720x720 with 1 Axes>"
            ]
          },
          "metadata": {
            "needs_background": "light"
          },
          "output_type": "display_data"
        }
      ],
      "source": []
    },
    {
      "cell_type": "markdown",
      "source": [
        "Find classification_report for the prediction"
      ],
      "metadata": {
        "collapsed": false,
        "pycharm": {
          "name": "#%% md\n"
        },
        "id": "1N_4Hwz_GHVx"
      }
    },
    {
      "cell_type": "code",
      "execution_count": null,
      "metadata": {
        "pycharm": {
          "name": "#%%\n"
        },
        "id": "o9LsHPxOGHVx",
        "outputId": "e9e3ed3e-2381-41bb-cab7-120db70b226e"
      },
      "outputs": [
        {
          "name": "stdout",
          "output_type": "stream",
          "text": [
            "              precision    recall  f1-score   support\n",
            "\n",
            "           0       0.82      0.85      0.83       964\n",
            "           1       0.99      0.98      0.98      1007\n",
            "           2       0.88      0.77      0.82      1140\n",
            "           3       0.91      0.90      0.91      1005\n",
            "           4       0.88      0.79      0.83      1120\n",
            "           5       0.94      0.98      0.96       958\n",
            "           6       0.61      0.77      0.68       786\n",
            "           7       0.97      0.91      0.94      1074\n",
            "           8       0.95      0.98      0.97       972\n",
            "           9       0.94      0.97      0.96       974\n",
            "\n",
            "    accuracy                           0.89     10000\n",
            "   macro avg       0.89      0.89      0.89     10000\n",
            "weighted avg       0.89      0.89      0.89     10000\n",
            "\n"
          ]
        }
      ],
      "source": []
    },
    {
      "cell_type": "markdown",
      "source": [
        "Use model.evaluate the test data"
      ],
      "metadata": {
        "collapsed": false,
        "pycharm": {
          "name": "#%% md\n"
        },
        "id": "XzD6VbY0GHVy"
      }
    },
    {
      "cell_type": "code",
      "execution_count": null,
      "metadata": {
        "pycharm": {
          "name": "#%%\n"
        },
        "id": "oQ5gUGA_GHVy",
        "outputId": "afa3f89b-f07e-4f16-bde6-d4e9114ebc04"
      },
      "outputs": [
        {
          "name": "stdout",
          "output_type": "stream",
          "text": [
            "10000/10000 [==============================] - 0s 33us/step\n",
            "0.3251454734802246 0.8887\n"
          ]
        }
      ],
      "source": []
    },
    {
      "cell_type": "code",
      "execution_count": null,
      "metadata": {
        "pycharm": {
          "name": "#%%\n"
        },
        "id": "FDTtzgCHGHVz"
      },
      "outputs": [],
      "source": []
    }
  ],
  "metadata": {
    "kernelspec": {
      "display_name": "Python 3",
      "language": "python",
      "name": "python3"
    },
    "language_info": {
      "codemirror_mode": {
        "name": "ipython",
        "version": 3
      },
      "file_extension": ".py",
      "mimetype": "text/x-python",
      "name": "python",
      "nbconvert_exporter": "python",
      "pygments_lexer": "ipython3",
      "version": "3.6.6"
    },
    "colab": {
      "provenance": [],
      "include_colab_link": true
    }
  },
  "nbformat": 4,
  "nbformat_minor": 0
}