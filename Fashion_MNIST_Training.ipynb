{
  "cells": [
    {
      "cell_type": "markdown",
      "metadata": {
        "id": "view-in-github",
        "colab_type": "text"
      },
      "source": [
        "<a href=\"https://colab.research.google.com/github/esraa-abdelmaksoud/Shai-Training-Notebooks/blob/main/Fashion_MNIST_Training.ipynb\" target=\"_parent\"><img src=\"https://colab.research.google.com/assets/colab-badge.svg\" alt=\"Open In Colab\"/></a>"
      ]
    },
    {
      "cell_type": "markdown",
      "metadata": {
        "pycharm": {
          "name": "#%% md\n"
        },
        "id": "vL0s9O_4GHVJ"
      },
      "source": [
        "# Attempt to solve Fashion MNIST Dataset using Dense Neural Network\n",
        "## Bibliography \n",
        "* Keras official Tutorial\n",
        "* Deep Learning with Python by François Chollet\n",
        "\n",
        "## About DataSet \n",
        "**Fashion-MNIST is a dataset of Zalando's article images—consisting of a training set of 60,000 examples and a test set of 10,000 examples. Each example is a 28x28 grayscale image, associated with a label from 10 classes. Zalando intends Fashion-MNIST to serve as a direct drop-in replacement for the original MNIST dataset for benchmarking machine learning algorithms. It shares the same image size and structure of training and testing splits.**\n"
      ]
    },
    {
      "cell_type": "code",
      "execution_count": 1,
      "metadata": {
        "_cell_guid": "b1076dfc-b9ad-4769-8c92-a6c4dae69d19",
        "_uuid": "8f2839f25d086af736a60e9eeb907d3b93b6e0e5",
        "pycharm": {
          "name": "#%%\n",
          "is_executing": true
        },
        "id": "a9uUU46nGHVS"
      },
      "outputs": [],
      "source": [
        "import numpy as np \n",
        "import pandas as pd\n",
        "import matplotlib.pyplot as plt\n",
        "import seaborn as sns\n",
        "from tensorflow import keras\n",
        "from keras import layers, models\n",
        "from sklearn.model_selection import train_test_split\n",
        "from sklearn.metrics import classification_report,confusion_matrix\n",
        "import os\n"
      ]
    },
    {
      "cell_type": "markdown",
      "source": [
        "# Load Dataset and Split it to test and train set"
      ],
      "metadata": {
        "collapsed": false,
        "pycharm": {
          "name": "#%% md\n"
        },
        "id": "arDfmGLrGHVW"
      }
    },
    {
      "cell_type": "markdown",
      "source": [
        "see this link\n",
        "https://medium.com/the-data-science-publication/how-to-import-and-display-the-fashion-mnist-dataset-using-tensorflow-e72522f684d0"
      ],
      "metadata": {
        "collapsed": false,
        "pycharm": {
          "name": "#%% md\n"
        },
        "id": "swOIhnuPGHVZ"
      }
    },
    {
      "cell_type": "code",
      "execution_count": 2,
      "metadata": {
        "_cell_guid": "79c7e3d0-c299-4dcb-8224-4455121ee9b0",
        "_uuid": "d629ff2d2480ee46fbb7e2d37f6b5fab8052498a",
        "pycharm": {
          "name": "#%%\n"
        },
        "id": "xSZV63jLGHVa"
      },
      "outputs": [],
      "source": [
        "#Getting training and testing data from tensorflow\n",
        "(X_train_full, y_train_full), (X_test, y_test) = keras.datasets.fashion_mnist.load_data()"
      ]
    },
    {
      "cell_type": "markdown",
      "source": [
        "28*28 image pixels"
      ],
      "metadata": {
        "collapsed": false,
        "pycharm": {
          "name": "#%% md\n"
        },
        "id": "psmkCsGWGHVb"
      }
    },
    {
      "cell_type": "code",
      "execution_count": 3,
      "metadata": {
        "pycharm": {
          "name": "#%%\n",
          "is_executing": true
        },
        "id": "ROn98juWGHVc",
        "colab": {
          "base_uri": "https://localhost:8080/"
        },
        "outputId": "4fc5a392-d946-4bec-f744-60c343571987"
      },
      "outputs": [
        {
          "output_type": "execute_result",
          "data": {
            "text/plain": [
              "(60000, 28, 28)"
            ]
          },
          "metadata": {},
          "execution_count": 3
        }
      ],
      "source": [
        "#Training Set shape\n",
        "X_train_full.shape"
      ]
    },
    {
      "cell_type": "code",
      "execution_count": 4,
      "metadata": {
        "pycharm": {
          "name": "#%%\n",
          "is_executing": true
        },
        "id": "JKoZKqrfGHVd",
        "colab": {
          "base_uri": "https://localhost:8080/"
        },
        "outputId": "38142b47-430a-4380-85d5-fef9dea55fab"
      },
      "outputs": [
        {
          "output_type": "stream",
          "name": "stdout",
          "text": [
            "(10000, 28, 28)\n",
            "(10000,)\n"
          ]
        }
      ],
      "source": [
        "#Test Set consists of 10000 samples with one label field and 28*28 image pixels\n",
        "print(X_test.shape)\n",
        "print(y_test.shape)"
      ]
    },
    {
      "cell_type": "code",
      "execution_count": 5,
      "metadata": {
        "pycharm": {
          "name": "#%%\n"
        },
        "id": "QBrG6j-FGHVe"
      },
      "outputs": [],
      "source": [
        "#Labels from 0 to 9 are following Items \n",
        "class_names = ['T-shirt/top', 'Trouser', 'Pullover', 'Dress', 'Coat',\n",
        "               'Sandal', 'Shirt', 'Sneaker', 'Bag', 'Ankle boot']"
      ]
    },
    {
      "cell_type": "markdown",
      "source": [
        "Split training data to train and valid"
      ],
      "metadata": {
        "collapsed": false,
        "pycharm": {
          "name": "#%% md\n"
        },
        "id": "j5adoBAKGHVf"
      }
    },
    {
      "cell_type": "code",
      "execution_count": 6,
      "metadata": {
        "pycharm": {
          "name": "#%%\n",
          "is_executing": true
        },
        "id": "r2-fV04OGHVg"
      },
      "outputs": [],
      "source": [
        "X_valid, X_train = X_train_full[:5000], X_train_full[5000:]\n",
        "y_valid, y_train = y_train_full[:5000], y_train_full[5000:]"
      ]
    },
    {
      "cell_type": "markdown",
      "metadata": {
        "pycharm": {
          "name": "#%% md\n"
        },
        "id": "0-S8DzcqGHVh"
      },
      "source": [
        "## Some images with their labels "
      ]
    },
    {
      "cell_type": "code",
      "execution_count": 7,
      "metadata": {
        "pycharm": {
          "name": "#%%\n"
        },
        "id": "PJiAz4vOGHVh",
        "outputId": "05b16296-afe4-466d-afac-c8d9f230eb53",
        "colab": {
          "base_uri": "https://localhost:8080/",
          "height": 592
        }
      },
      "outputs": [
        {
          "output_type": "display_data",
          "data": {
            "text/plain": [
              "<Figure size 720x720 with 25 Axes>"
            ],
            "image/png": "[encoded data removed]"
          },
          "metadata": {}
        }
      ],
      "source": [
        "plt.figure(figsize=(10,10))\n",
        "for i in range(25):\n",
        "    plt.subplot(5,5,i+1)\n",
        "    plt.xticks([])\n",
        "    plt.yticks([])\n",
        "    plt.grid(False)\n",
        "    plt.imshow(np.array(X_train[i]).reshape(28,28), cmap=plt.cm.binary)\n",
        "    plt.xlabel(class_names[y_train[i]])\n",
        "plt.show()"
      ]
    },
    {
      "cell_type": "code",
      "execution_count": 8,
      "metadata": {
        "pycharm": {
          "name": "#%%\n"
        },
        "id": "N_f0YS2NGHVm"
      },
      "outputs": [],
      "source": [
        "# Rescaling training to range 0 to 1 by dividing them by 255\n",
        "X_train = X_train / 255.0\n",
        "# Rescaling validation data too\n",
        "X_valid = X_valid / 255.0"
      ]
    },
    {
      "cell_type": "markdown",
      "metadata": {
        "pycharm": {
          "name": "#%% md\n"
        },
        "id": "DGs20rcZGHVn"
      },
      "source": [
        "**Creating a Deep Neural Network with any number of layer you want.**"
      ]
    },
    {
      "cell_type": "code",
      "execution_count": 9,
      "metadata": {
        "pycharm": {
          "name": "#%%\n"
        },
        "id": "NdCdSICBGHVo"
      },
      "outputs": [],
      "source": [
        "model = models.Sequential()\n",
        "model.add(layers.Flatten(input_shape=(28, 28)))\n",
        "model.add(layers.Dense(512,activation='relu'))\n",
        "model.add(layers.Dropout(0.1, noise_shape=None))\n",
        "model.add(layers.Dense(256,activation='relu'))\n",
        "model.add(layers.Dropout(0.1, noise_shape=None))\n",
        "model.add(layers.Dense(128,activation='relu'))\n",
        "model.add(layers.Dropout(0.1, noise_shape=None))\n",
        "model.add(layers.Dense(64,activation='relu'))\n",
        "model.add(layers.Dropout(0.1, noise_shape=None))\n",
        "model.add(layers.Dense(32,activation='relu'))\n",
        "model.add(layers.Dropout(0.1, noise_shape=None))\n",
        "model.add(layers.Dense(10,activation='softmax'))"
      ]
    },
    {
      "cell_type": "markdown",
      "metadata": {
        "pycharm": {
          "name": "#%% md\n"
        },
        "id": "OKBI2zyHGHVo"
      },
      "source": [
        "**Compiling the model.**"
      ]
    },
    {
      "cell_type": "code",
      "execution_count": 10,
      "metadata": {
        "pycharm": {
          "name": "#%%\n"
        },
        "id": "CLzuHgkSGHVp"
      },
      "outputs": [],
      "source": [
        "model.compile(optimizer='adam',\n",
        "              loss=keras.losses.SparseCategoricalCrossentropy(from_logits=True),\n",
        "              metrics=['accuracy'])"
      ]
    },
    {
      "cell_type": "markdown",
      "metadata": {
        "pycharm": {
          "name": "#%% md\n"
        },
        "id": "90oqDLNZGHVp"
      },
      "source": [
        "**Training model with a part of training data and evaluating it with another part of training data\n",
        "and get more than 90% val_acc**"
      ]
    },
    {
      "cell_type": "code",
      "execution_count": 11,
      "metadata": {
        "pycharm": {
          "name": "#%%\n"
        },
        "id": "BksRrKGBGHVq",
        "outputId": "b138a550-ec61-451e-d158-503cdf981147",
        "colab": {
          "base_uri": "https://localhost:8080/"
        }
      },
      "outputs": [
        {
          "output_type": "stream",
          "name": "stdout",
          "text": [
            "Epoch 1/30\n"
          ]
        },
        {
          "output_type": "stream",
          "name": "stderr",
          "text": [
            "/usr/local/lib/python3.8/dist-packages/keras/backend.py:5585: UserWarning: \"`sparse_categorical_crossentropy` received `from_logits=True`, but the `output` argument was produced by a Softmax activation and thus does not represent logits. Was this intended?\n",
            "  output, from_logits = _get_logits(\n"
          ]
        },
        {
          "output_type": "stream",
          "name": "stdout",
          "text": [
            "1719/1719 [==============================] - 40s 22ms/step - loss: 0.6100 - accuracy: 0.7818 - val_loss: 0.4564 - val_accuracy: 0.8278\n",
            "Epoch 2/30\n",
            "1719/1719 [==============================] - 22s 13ms/step - loss: 0.4351 - accuracy: 0.8454 - val_loss: 0.3933 - val_accuracy: 0.8606\n",
            "Epoch 3/30\n",
            "1719/1719 [==============================] - 22s 13ms/step - loss: 0.3946 - accuracy: 0.8592 - val_loss: 0.3797 - val_accuracy: 0.8656\n",
            "Epoch 4/30\n",
            "1719/1719 [==============================] - 21s 12ms/step - loss: 0.3690 - accuracy: 0.8684 - val_loss: 0.3552 - val_accuracy: 0.8770\n",
            "Epoch 5/30\n",
            "1719/1719 [==============================] - 22s 13ms/step - loss: 0.3499 - accuracy: 0.8746 - val_loss: 0.3203 - val_accuracy: 0.8884\n",
            "Epoch 6/30\n",
            "1719/1719 [==============================] - 24s 14ms/step - loss: 0.3332 - accuracy: 0.8807 - val_loss: 0.3283 - val_accuracy: 0.8840\n",
            "Epoch 7/30\n",
            "1719/1719 [==============================] - 21s 12ms/step - loss: 0.3219 - accuracy: 0.8825 - val_loss: 0.3096 - val_accuracy: 0.8898\n",
            "Epoch 8/30\n",
            "1719/1719 [==============================] - 21s 12ms/step - loss: 0.3112 - accuracy: 0.8882 - val_loss: 0.3169 - val_accuracy: 0.8926\n",
            "Epoch 9/30\n",
            "1719/1719 [==============================] - 22s 13ms/step - loss: 0.3068 - accuracy: 0.8893 - val_loss: 0.3203 - val_accuracy: 0.8870\n",
            "Epoch 10/30\n",
            "1719/1719 [==============================] - 22s 13ms/step - loss: 0.2977 - accuracy: 0.8930 - val_loss: 0.3044 - val_accuracy: 0.8892\n",
            "Epoch 11/30\n",
            "1719/1719 [==============================] - 22s 13ms/step - loss: 0.2894 - accuracy: 0.8945 - val_loss: 0.3205 - val_accuracy: 0.8842\n",
            "Epoch 12/30\n",
            "1719/1719 [==============================] - 22s 13ms/step - loss: 0.2808 - accuracy: 0.8982 - val_loss: 0.3189 - val_accuracy: 0.8892\n",
            "Epoch 13/30\n",
            "1719/1719 [==============================] - 22s 13ms/step - loss: 0.2761 - accuracy: 0.9006 - val_loss: 0.3036 - val_accuracy: 0.8922\n",
            "Epoch 14/30\n",
            "1719/1719 [==============================] - 21s 12ms/step - loss: 0.2671 - accuracy: 0.9019 - val_loss: 0.3353 - val_accuracy: 0.8930\n",
            "Epoch 15/30\n",
            "1719/1719 [==============================] - 21s 12ms/step - loss: 0.2660 - accuracy: 0.9031 - val_loss: 0.3082 - val_accuracy: 0.8954\n",
            "Epoch 16/30\n",
            "1719/1719 [==============================] - 22s 13ms/step - loss: 0.2592 - accuracy: 0.9041 - val_loss: 0.3089 - val_accuracy: 0.8956\n",
            "Epoch 17/30\n",
            "1719/1719 [==============================] - 21s 12ms/step - loss: 0.2562 - accuracy: 0.9066 - val_loss: 0.3074 - val_accuracy: 0.8972\n",
            "Epoch 18/30\n",
            "1719/1719 [==============================] - 22s 13ms/step - loss: 0.2529 - accuracy: 0.9077 - val_loss: 0.3097 - val_accuracy: 0.8940\n",
            "Epoch 19/30\n",
            "1719/1719 [==============================] - 23s 13ms/step - loss: 0.2501 - accuracy: 0.9087 - val_loss: 0.3345 - val_accuracy: 0.8954\n",
            "Epoch 20/30\n",
            "1719/1719 [==============================] - 21s 12ms/step - loss: 0.2444 - accuracy: 0.9120 - val_loss: 0.3466 - val_accuracy: 0.8924\n",
            "Epoch 21/30\n",
            "1719/1719 [==============================] - 21s 12ms/step - loss: 0.2380 - accuracy: 0.9143 - val_loss: 0.3230 - val_accuracy: 0.8938\n",
            "Epoch 22/30\n",
            "1719/1719 [==============================] - 21s 12ms/step - loss: 0.2417 - accuracy: 0.9116 - val_loss: 0.3433 - val_accuracy: 0.8956\n",
            "Epoch 23/30\n",
            "1719/1719 [==============================] - 21s 12ms/step - loss: 0.2322 - accuracy: 0.9149 - val_loss: 0.3126 - val_accuracy: 0.8976\n",
            "Epoch 24/30\n",
            "1719/1719 [==============================] - 21s 12ms/step - loss: 0.2325 - accuracy: 0.9158 - val_loss: 0.3217 - val_accuracy: 0.8934\n",
            "Epoch 25/30\n",
            "1719/1719 [==============================] - 20s 12ms/step - loss: 0.2302 - accuracy: 0.9173 - val_loss: 0.3218 - val_accuracy: 0.8952\n",
            "Epoch 26/30\n",
            "1719/1719 [==============================] - 21s 12ms/step - loss: 0.2261 - accuracy: 0.9179 - val_loss: 0.3314 - val_accuracy: 0.8982\n",
            "Epoch 27/30\n",
            "1719/1719 [==============================] - 21s 12ms/step - loss: 0.2217 - accuracy: 0.9181 - val_loss: 0.3093 - val_accuracy: 0.9012\n",
            "Epoch 28/30\n",
            "1719/1719 [==============================] - 22s 13ms/step - loss: 0.2186 - accuracy: 0.9192 - val_loss: 0.3227 - val_accuracy: 0.9024\n",
            "Epoch 29/30\n",
            "1719/1719 [==============================] - 21s 12ms/step - loss: 0.2191 - accuracy: 0.9201 - val_loss: 0.3105 - val_accuracy: 0.9036\n",
            "Epoch 30/30\n",
            "1719/1719 [==============================] - 21s 12ms/step - loss: 0.2136 - accuracy: 0.9218 - val_loss: 0.3401 - val_accuracy: 0.9014\n"
          ]
        }
      ],
      "source": [
        "history = model.fit(X_train, y_train, epochs=30, shuffle=True,\n",
        "                    validation_data=(X_valid, y_valid))"
      ]
    },
    {
      "cell_type": "markdown",
      "source": [
        "# Visualize Model Training History in Keras"
      ],
      "metadata": {
        "collapsed": false,
        "pycharm": {
          "name": "#%% md\n"
        },
        "id": "7PMxrzNfGHVr"
      }
    },
    {
      "cell_type": "markdown",
      "source": [
        "See this link\n",
        "https://machinelearningmastery.com/display-deep-learning-model-training-history-in-keras/"
      ],
      "metadata": {
        "collapsed": false,
        "pycharm": {
          "name": "#%% md\n"
        },
        "id": "P5PWPqCxGHVr"
      }
    },
    {
      "cell_type": "code",
      "source": [
        "# summarize history for loss\n",
        "plt.plot(history.history['loss'], marker='o', linewidth=0, color='blue')\n",
        "plt.plot(history.history['val_loss'], color='blue')\n",
        "plt.title('Training and validation loss')\n",
        "plt.ylabel('Loss')\n",
        "plt.xlabel('Epochs')\n",
        "plt.legend(['Training loss', 'Validation loss'], loc='upper left')\n",
        "plt.show()"
      ],
      "metadata": {
        "colab": {
          "base_uri": "https://localhost:8080/",
          "height": 295
        },
        "id": "_BbtE-kitQAH",
        "outputId": "ca5d1226-4f1d-4a96-8264-fd938f79c0bf"
      },
      "execution_count": 12,
      "outputs": [
        {
          "output_type": "display_data",
          "data": {
            "text/plain": [
              "<Figure size 432x288 with 1 Axes>"
            ],
            "image/png": "[encoded data removed]"
          },
          "metadata": {
            "needs_background": "light"
          }
        }
      ]
    },
    {
      "cell_type": "markdown",
      "metadata": {
        "pycharm": {
          "name": "#%% md\n"
        },
        "id": "I_AClLtNGHVt"
      },
      "source": [
        "# Evaluate the model with our Test Set Using confusion_matrix"
      ]
    },
    {
      "cell_type": "markdown",
      "source": [
        "-split data to X_test and Y_test\n",
        "-Rescaling training to range 0 to 1 by dividing them by 255"
      ],
      "metadata": {
        "collapsed": false,
        "pycharm": {
          "name": "#%% md\n"
        },
        "id": "7tPnHGxGGHVt"
      }
    },
    {
      "cell_type": "code",
      "execution_count": 13,
      "metadata": {
        "pycharm": {
          "name": "#%%\n"
        },
        "id": "jLmdyKgCGHVv"
      },
      "outputs": [],
      "source": [
        "# Already split earlier to X_test and y_test\n",
        "X_test = X_test / 255.0"
      ]
    },
    {
      "cell_type": "markdown",
      "source": [
        "visualization"
      ],
      "metadata": {
        "collapsed": false,
        "pycharm": {
          "name": "#%% md\n"
        },
        "id": "6jHeYNQaGHVv"
      }
    },
    {
      "cell_type": "code",
      "source": [
        "from sklearn.metrics import confusion_matrix\n",
        "y_pred = model.predict(X_test)\n",
        "y_pred_arr = np.argmax(y_pred, axis = 1)"
      ],
      "metadata": {
        "colab": {
          "base_uri": "https://localhost:8080/"
        },
        "id": "emhuC7hZV1e1",
        "outputId": "80ef76e8-b793-47c3-8135-ba5dbf59bb02"
      },
      "execution_count": 14,
      "outputs": [
        {
          "output_type": "stream",
          "name": "stdout",
          "text": [
            "313/313 [==============================] - 1s 3ms/step\n"
          ]
        }
      ]
    },
    {
      "cell_type": "code",
      "source": [
        "print(y_pred_arr.shape)\n",
        "print(y_test.shape)"
      ],
      "metadata": {
        "colab": {
          "base_uri": "https://localhost:8080/"
        },
        "id": "3_KqXEGdZ_8E",
        "outputId": "d9ba2d9a-2e4a-4c5f-f634-2f051a15f373"
      },
      "execution_count": 15,
      "outputs": [
        {
          "output_type": "stream",
          "name": "stdout",
          "text": [
            "(10000,)\n",
            "(10000,)\n"
          ]
        }
      ]
    },
    {
      "cell_type": "code",
      "source": [
        "cf_matrix = confusion_matrix(y_test, y_pred_arr)\n",
        "fig, ax = plt.subplots(figsize=(11,10)) \n",
        "sns.heatmap(cf_matrix, cbar=False, annot=True, fmt='g')\n",
        "plt.xlabel('true label')\n",
        "plt.ylabel('predicted label')"
      ],
      "metadata": {
        "colab": {
          "base_uri": "https://localhost:8080/",
          "height": 623
        },
        "id": "Pkpf4BPyYOma",
        "outputId": "e3858f4d-2a3f-4a4a-9324-353bdc518bf9"
      },
      "execution_count": 16,
      "outputs": [
        {
          "output_type": "execute_result",
          "data": {
            "text/plain": [
              "Text(78.0, 0.5, 'predicted label')"
            ]
          },
          "metadata": {},
          "execution_count": 16
        },
        {
          "output_type": "display_data",
          "data": {
            "text/plain": [
              "<Figure size 792x720 with 1 Axes>"
            ],
            "image/png": "[encoded data removed]"
          },
          "metadata": {
            "needs_background": "light"
          }
        }
      ]
    },
    {
      "cell_type": "markdown",
      "source": [
        "Find classification_report for the prediction"
      ],
      "metadata": {
        "collapsed": false,
        "pycharm": {
          "name": "#%% md\n"
        },
        "id": "1N_4Hwz_GHVx"
      }
    },
    {
      "cell_type": "code",
      "source": [
        "from sklearn.metrics import classification_report\n",
        "print(classification_report(y_test, y_pred_arr, target_names=class_names))"
      ],
      "metadata": {
        "colab": {
          "base_uri": "https://localhost:8080/"
        },
        "id": "s8kwsVBMZtUn",
        "outputId": "3af903dc-4d92-4185-9d9e-97129a5b7717"
      },
      "execution_count": 17,
      "outputs": [
        {
          "output_type": "stream",
          "name": "stdout",
          "text": [
            "              precision    recall  f1-score   support\n",
            "\n",
            " T-shirt/top       0.86      0.83      0.85      1000\n",
            "     Trouser       0.99      0.98      0.98      1000\n",
            "    Pullover       0.85      0.77      0.81      1000\n",
            "       Dress       0.90      0.89      0.90      1000\n",
            "        Coat       0.76      0.86      0.81      1000\n",
            "      Sandal       0.98      0.97      0.98      1000\n",
            "       Shirt       0.73      0.73      0.73      1000\n",
            "     Sneaker       0.96      0.96      0.96      1000\n",
            "         Bag       0.96      0.98      0.97      1000\n",
            "  Ankle boot       0.96      0.97      0.97      1000\n",
            "\n",
            "    accuracy                           0.90     10000\n",
            "   macro avg       0.90      0.90      0.90     10000\n",
            "weighted avg       0.90      0.90      0.90     10000\n",
            "\n"
          ]
        }
      ]
    },
    {
      "cell_type": "markdown",
      "source": [
        "Use model.evaluate the test data"
      ],
      "metadata": {
        "collapsed": false,
        "pycharm": {
          "name": "#%% md\n"
        },
        "id": "XzD6VbY0GHVy"
      }
    },
    {
      "cell_type": "code",
      "source": [
        "model.evaluate(X_test,y_test)"
      ],
      "metadata": {
        "colab": {
          "base_uri": "https://localhost:8080/"
        },
        "id": "8ra5B4P2cCor",
        "outputId": "2fa8a873-a20e-481b-b0ec-73483e8b7a99"
      },
      "execution_count": 18,
      "outputs": [
        {
          "output_type": "stream",
          "name": "stdout",
          "text": [
            "313/313 [==============================] - 2s 6ms/step - loss: 0.3781 - accuracy: 0.8953\n"
          ]
        },
        {
          "output_type": "execute_result",
          "data": {
            "text/plain": [
              "[0.3781435191631317, 0.8952999711036682]"
            ]
          },
          "metadata": {},
          "execution_count": 18
        }
      ]
    }
  ],
  "metadata": {
    "kernelspec": {
      "display_name": "Python 3",
      "language": "python",
      "name": "python3"
    },
    "language_info": {
      "codemirror_mode": {
        "name": "ipython",
        "version": 3
      },
      "file_extension": ".py",
      "mimetype": "text/x-python",
      "name": "python",
      "nbconvert_exporter": "python",
      "pygments_lexer": "ipython3",
      "version": "3.6.6"
    },
    "colab": {
      "provenance": [],
      "include_colab_link": true
    }
  },
  "nbformat": 4,
  "nbformat_minor": 0
}