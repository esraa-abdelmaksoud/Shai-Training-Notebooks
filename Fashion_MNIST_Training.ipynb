{
  "cells": [
    {
      "cell_type": "markdown",
      "metadata": {
        "id": "view-in-github",
        "colab_type": "text"
      },
      "source": [
        "<a href=\"https://colab.research.google.com/github/esraa-abdelmaksoud/Shai-Training-Notebooks/blob/main/Fashion_MNIST_Training.ipynb\" target=\"_parent\"><img src=\"https://colab.research.google.com/assets/colab-badge.svg\" alt=\"Open In Colab\"/></a>"
      ]
    },
    {
      "cell_type": "markdown",
      "metadata": {
        "pycharm": {
          "name": "#%% md\n"
        },
        "id": "vL0s9O_4GHVJ"
      },
      "source": [
        "# Attempt to solve Fashion MNIST Dataset using Dense Neural Network\n",
        "## Bibliography \n",
        "* Keras official Tutorial\n",
        "* Deep Learning with Python by François Chollet\n",
        "\n",
        "## About DataSet \n",
        "**Fashion-MNIST is a dataset of Zalando's article images—consisting of a training set of 60,000 examples and a test set of 10,000 examples. Each example is a 28x28 grayscale image, associated with a label from 10 classes. Zalando intends Fashion-MNIST to serve as a direct drop-in replacement for the original MNIST dataset for benchmarking machine learning algorithms. It shares the same image size and structure of training and testing splits.**\n"
      ]
    },
    {
      "cell_type": "code",
      "execution_count": 78,
      "metadata": {
        "_cell_guid": "b1076dfc-b9ad-4769-8c92-a6c4dae69d19",
        "_uuid": "8f2839f25d086af736a60e9eeb907d3b93b6e0e5",
        "pycharm": {
          "name": "#%%\n",
          "is_executing": true
        },
        "id": "a9uUU46nGHVS"
      },
      "outputs": [],
      "source": [
        "import numpy as np \n",
        "import pandas as pd\n",
        "import matplotlib.pyplot as plt\n",
        "import seaborn as sns\n",
        "from tensorflow import keras\n",
        "from keras import layers, models\n",
        "from sklearn.model_selection import train_test_split\n",
        "from sklearn.metrics import classification_report,confusion_matrix\n",
        "import os\n"
      ]
    },
    {
      "cell_type": "markdown",
      "source": [
        "# Load Dataset and Split it to test and train set"
      ],
      "metadata": {
        "collapsed": false,
        "pycharm": {
          "name": "#%% md\n"
        },
        "id": "arDfmGLrGHVW"
      }
    },
    {
      "cell_type": "markdown",
      "source": [
        "see this link\n",
        "https://medium.com/the-data-science-publication/how-to-import-and-display-the-fashion-mnist-dataset-using-tensorflow-e72522f684d0"
      ],
      "metadata": {
        "collapsed": false,
        "pycharm": {
          "name": "#%% md\n"
        },
        "id": "swOIhnuPGHVZ"
      }
    },
    {
      "cell_type": "code",
      "execution_count": 79,
      "metadata": {
        "_cell_guid": "79c7e3d0-c299-4dcb-8224-4455121ee9b0",
        "_uuid": "d629ff2d2480ee46fbb7e2d37f6b5fab8052498a",
        "pycharm": {
          "name": "#%%\n"
        },
        "id": "xSZV63jLGHVa"
      },
      "outputs": [],
      "source": [
        "#Getting training and testing data from tensorflow\n",
        "(X_train_full, y_train_full), (X_test, y_test) = keras.datasets.fashion_mnist.load_data()"
      ]
    },
    {
      "cell_type": "markdown",
      "source": [
        "28*28 image pixels"
      ],
      "metadata": {
        "collapsed": false,
        "pycharm": {
          "name": "#%% md\n"
        },
        "id": "psmkCsGWGHVb"
      }
    },
    {
      "cell_type": "code",
      "execution_count": 80,
      "metadata": {
        "pycharm": {
          "name": "#%%\n",
          "is_executing": true
        },
        "id": "ROn98juWGHVc",
        "colab": {
          "base_uri": "https://localhost:8080/"
        },
        "outputId": "a9b3012c-2adb-4d03-d0e5-9d7434adc0ba"
      },
      "outputs": [
        {
          "output_type": "execute_result",
          "data": {
            "text/plain": [
              "(60000, 28, 28)"
            ]
          },
          "metadata": {},
          "execution_count": 80
        }
      ],
      "source": [
        "#Training Set shape\n",
        "X_train_full.shape"
      ]
    },
    {
      "cell_type": "code",
      "execution_count": 81,
      "metadata": {
        "pycharm": {
          "name": "#%%\n",
          "is_executing": true
        },
        "id": "JKoZKqrfGHVd",
        "colab": {
          "base_uri": "https://localhost:8080/"
        },
        "outputId": "dc73c0c7-f536-4f67-d0a0-67bac97b201c"
      },
      "outputs": [
        {
          "output_type": "stream",
          "name": "stdout",
          "text": [
            "(10000, 28, 28)\n",
            "(10000,)\n"
          ]
        }
      ],
      "source": [
        "#Test Set consists of 10000 samples with one label field and 28*28 image pixels\n",
        "print(X_test.shape)\n",
        "print(y_test.shape)"
      ]
    },
    {
      "cell_type": "code",
      "execution_count": 82,
      "metadata": {
        "pycharm": {
          "name": "#%%\n"
        },
        "id": "QBrG6j-FGHVe"
      },
      "outputs": [],
      "source": [
        "#Labels from 0 to 9 are following Items \n",
        "class_names = ['T-shirt/top', 'Trouser', 'Pullover', 'Dress', 'Coat',\n",
        "               'Sandal', 'Shirt', 'Sneaker', 'Bag', 'Ankle boot']"
      ]
    },
    {
      "cell_type": "markdown",
      "source": [
        "Split training data to train and valid"
      ],
      "metadata": {
        "collapsed": false,
        "pycharm": {
          "name": "#%% md\n"
        },
        "id": "j5adoBAKGHVf"
      }
    },
    {
      "cell_type": "code",
      "execution_count": 83,
      "metadata": {
        "pycharm": {
          "name": "#%%\n",
          "is_executing": true
        },
        "id": "r2-fV04OGHVg"
      },
      "outputs": [],
      "source": [
        "X_valid, X_train = X_train_full[:5000], X_train_full[5000:]\n",
        "y_valid, y_train = y_train_full[:5000], y_train_full[5000:]"
      ]
    },
    {
      "cell_type": "markdown",
      "metadata": {
        "pycharm": {
          "name": "#%% md\n"
        },
        "id": "0-S8DzcqGHVh"
      },
      "source": [
        "## Some images with their labels "
      ]
    },
    {
      "cell_type": "code",
      "execution_count": 84,
      "metadata": {
        "pycharm": {
          "name": "#%%\n"
        },
        "id": "PJiAz4vOGHVh",
        "outputId": "befab0e5-3667-43fd-fe98-d524f711c920",
        "colab": {
          "base_uri": "https://localhost:8080/",
          "height": 592
        }
      },
      "outputs": [
        {
          "output_type": "display_data",
          "data": {
            "text/plain": [
              "<Figure size 720x720 with 25 Axes>"
            ],
            "image/png": "[encoded data removed]"
          },
          "metadata": {}
        }
      ],
      "source": [
        "plt.figure(figsize=(10,10))\n",
        "for i in range(25):\n",
        "    plt.subplot(5,5,i+1)\n",
        "    plt.xticks([])\n",
        "    plt.yticks([])\n",
        "    plt.grid(False)\n",
        "    plt.imshow(np.array(X_train[i]).reshape(28,28), cmap=plt.cm.binary)\n",
        "    plt.xlabel(class_names[y_train[i]])\n",
        "plt.show()"
      ]
    },
    {
      "cell_type": "code",
      "execution_count": 85,
      "metadata": {
        "pycharm": {
          "name": "#%%\n"
        },
        "id": "N_f0YS2NGHVm"
      },
      "outputs": [],
      "source": [
        "# Rescaling training to range 0 to 1 by dividing them by 255\n",
        "X_train = X_train / 255.0\n",
        "# Rescaling validation data too\n",
        "X_valid = X_valid / 255.0"
      ]
    },
    {
      "cell_type": "markdown",
      "metadata": {
        "pycharm": {
          "name": "#%% md\n"
        },
        "id": "DGs20rcZGHVn"
      },
      "source": [
        "**Creating a Deep Neural Network with any number of layer you want.**"
      ]
    },
    {
      "cell_type": "code",
      "execution_count": 86,
      "metadata": {
        "pycharm": {
          "name": "#%%\n"
        },
        "id": "NdCdSICBGHVo"
      },
      "outputs": [],
      "source": [
        "model = models.Sequential()\n",
        "model.add(layers.Flatten(input_shape=(28, 28)))\n",
        "model.add(layers.Dense(64,activation='relu'))\n",
        "model.add(layers.Dense(128,activation='relu'))\n",
        "model.add(layers.Dense(10,activation='softmax'))"
      ]
    },
    {
      "cell_type": "markdown",
      "metadata": {
        "pycharm": {
          "name": "#%% md\n"
        },
        "id": "OKBI2zyHGHVo"
      },
      "source": [
        "**Compiling the model.**"
      ]
    },
    {
      "cell_type": "code",
      "execution_count": 87,
      "metadata": {
        "pycharm": {
          "name": "#%%\n"
        },
        "id": "CLzuHgkSGHVp"
      },
      "outputs": [],
      "source": [
        "model.compile(optimizer='adam',\n",
        "              loss=keras.losses.SparseCategoricalCrossentropy(from_logits=True),\n",
        "              metrics=['accuracy'])"
      ]
    },
    {
      "cell_type": "markdown",
      "metadata": {
        "pycharm": {
          "name": "#%% md\n"
        },
        "id": "90oqDLNZGHVp"
      },
      "source": [
        "**Training model with a part of training data and evaluating it with another part of training data\n",
        "and get more than 90% val_acc**"
      ]
    },
    {
      "cell_type": "code",
      "execution_count": 88,
      "metadata": {
        "pycharm": {
          "name": "#%%\n"
        },
        "id": "BksRrKGBGHVq",
        "outputId": "ed9f6aad-9eca-4965-b5fe-b896a0e71c44",
        "colab": {
          "base_uri": "https://localhost:8080/"
        }
      },
      "outputs": [
        {
          "output_type": "stream",
          "name": "stdout",
          "text": [
            "Epoch 1/20\n"
          ]
        },
        {
          "output_type": "stream",
          "name": "stderr",
          "text": [
            "/usr/local/lib/python3.8/dist-packages/keras/backend.py:5585: UserWarning: \"`sparse_categorical_crossentropy` received `from_logits=True`, but the `output` argument was produced by a Softmax activation and thus does not represent logits. Was this intended?\n",
            "  output, from_logits = _get_logits(\n"
          ]
        },
        {
          "output_type": "stream",
          "name": "stdout",
          "text": [
            "1719/1719 [==============================] - 7s 4ms/step - loss: 0.5170 - accuracy: 0.8181 - val_loss: 0.4478 - val_accuracy: 0.8444\n",
            "Epoch 2/20\n",
            "1719/1719 [==============================] - 5s 3ms/step - loss: 0.3801 - accuracy: 0.8624 - val_loss: 0.3828 - val_accuracy: 0.8624\n",
            "Epoch 3/20\n",
            "1719/1719 [==============================] - 5s 3ms/step - loss: 0.3425 - accuracy: 0.8741 - val_loss: 0.3482 - val_accuracy: 0.8762\n",
            "Epoch 4/20\n",
            "1719/1719 [==============================] - 5s 3ms/step - loss: 0.3194 - accuracy: 0.8825 - val_loss: 0.3448 - val_accuracy: 0.8706\n",
            "Epoch 5/20\n",
            "1719/1719 [==============================] - 5s 3ms/step - loss: 0.3022 - accuracy: 0.8856 - val_loss: 0.3073 - val_accuracy: 0.8864\n",
            "Epoch 6/20\n",
            "1719/1719 [==============================] - 6s 3ms/step - loss: 0.2870 - accuracy: 0.8924 - val_loss: 0.2988 - val_accuracy: 0.8906\n",
            "Epoch 7/20\n",
            "1719/1719 [==============================] - 5s 3ms/step - loss: 0.2739 - accuracy: 0.8959 - val_loss: 0.2961 - val_accuracy: 0.8886\n",
            "Epoch 8/20\n",
            "1719/1719 [==============================] - 6s 4ms/step - loss: 0.2632 - accuracy: 0.8998 - val_loss: 0.3127 - val_accuracy: 0.8830\n",
            "Epoch 9/20\n",
            "1719/1719 [==============================] - 5s 3ms/step - loss: 0.2532 - accuracy: 0.9044 - val_loss: 0.3091 - val_accuracy: 0.8876\n",
            "Epoch 10/20\n",
            "1719/1719 [==============================] - 5s 3ms/step - loss: 0.2446 - accuracy: 0.9068 - val_loss: 0.3100 - val_accuracy: 0.8862\n",
            "Epoch 11/20\n",
            "1719/1719 [==============================] - 6s 3ms/step - loss: 0.2347 - accuracy: 0.9124 - val_loss: 0.3291 - val_accuracy: 0.8850\n",
            "Epoch 12/20\n",
            "1719/1719 [==============================] - 5s 3ms/step - loss: 0.2306 - accuracy: 0.9126 - val_loss: 0.3197 - val_accuracy: 0.8884\n",
            "Epoch 13/20\n",
            "1719/1719 [==============================] - 5s 3ms/step - loss: 0.2208 - accuracy: 0.9164 - val_loss: 0.3106 - val_accuracy: 0.8906\n",
            "Epoch 14/20\n",
            "1719/1719 [==============================] - 5s 3ms/step - loss: 0.2165 - accuracy: 0.9184 - val_loss: 0.3032 - val_accuracy: 0.8918\n",
            "Epoch 15/20\n",
            "1719/1719 [==============================] - 5s 3ms/step - loss: 0.2054 - accuracy: 0.9215 - val_loss: 0.3544 - val_accuracy: 0.8814\n",
            "Epoch 16/20\n",
            "1719/1719 [==============================] - 6s 3ms/step - loss: 0.2064 - accuracy: 0.9224 - val_loss: 0.3517 - val_accuracy: 0.8844\n",
            "Epoch 17/20\n",
            "1719/1719 [==============================] - 5s 3ms/step - loss: 0.1962 - accuracy: 0.9251 - val_loss: 0.3107 - val_accuracy: 0.8924\n",
            "Epoch 18/20\n",
            "1719/1719 [==============================] - 5s 3ms/step - loss: 0.1928 - accuracy: 0.9260 - val_loss: 0.3209 - val_accuracy: 0.8964\n",
            "Epoch 19/20\n",
            "1719/1719 [==============================] - 5s 3ms/step - loss: 0.1882 - accuracy: 0.9282 - val_loss: 0.3305 - val_accuracy: 0.8908\n",
            "Epoch 20/20\n",
            "1719/1719 [==============================] - 5s 3ms/step - loss: 0.1843 - accuracy: 0.9304 - val_loss: 0.3398 - val_accuracy: 0.8852\n"
          ]
        }
      ],
      "source": [
        "history = model.fit(X_train, y_train, epochs=20,\n",
        "                    validation_data=(X_valid, y_valid))"
      ]
    },
    {
      "cell_type": "markdown",
      "source": [
        "# Visualize Model Training History in Keras"
      ],
      "metadata": {
        "collapsed": false,
        "pycharm": {
          "name": "#%% md\n"
        },
        "id": "7PMxrzNfGHVr"
      }
    },
    {
      "cell_type": "markdown",
      "source": [
        "See this link\n",
        "https://machinelearningmastery.com/display-deep-learning-model-training-history-in-keras/"
      ],
      "metadata": {
        "collapsed": false,
        "pycharm": {
          "name": "#%% md\n"
        },
        "id": "P5PWPqCxGHVr"
      }
    },
    {
      "cell_type": "code",
      "source": [
        "# summarize history for loss\n",
        "plt.plot(history.history['loss'], marker='o', linewidth=0, color='blue')\n",
        "plt.plot(history.history['val_loss'], color='blue')\n",
        "plt.title('Training and validation loss')\n",
        "plt.ylabel('Loss')\n",
        "plt.xlabel('Epochs')\n",
        "plt.legend(['Training loss', 'Validation loss'], loc='upper left')\n",
        "plt.show()"
      ],
      "metadata": {
        "colab": {
          "base_uri": "https://localhost:8080/",
          "height": 295
        },
        "id": "_BbtE-kitQAH",
        "outputId": "dc0130eb-3bdb-4031-ad53-94e792970ee0"
      },
      "execution_count": 89,
      "outputs": [
        {
          "output_type": "display_data",
          "data": {
            "text/plain": [
              "<Figure size 432x288 with 1 Axes>"
            ],
            "image/png": "[encoded data removed]"
          },
          "metadata": {
            "needs_background": "light"
          }
        }
      ]
    },
    {
      "cell_type": "markdown",
      "metadata": {
        "pycharm": {
          "name": "#%% md\n"
        },
        "id": "I_AClLtNGHVt"
      },
      "source": [
        "# Evaluate the model with our Test Set Using confusion_matrix"
      ]
    },
    {
      "cell_type": "markdown",
      "source": [
        "-split data to X_test and Y_test\n",
        "-Rescaling training to range 0 to 1 by dividing them by 255"
      ],
      "metadata": {
        "collapsed": false,
        "pycharm": {
          "name": "#%% md\n"
        },
        "id": "7tPnHGxGGHVt"
      }
    },
    {
      "cell_type": "code",
      "execution_count": 90,
      "metadata": {
        "pycharm": {
          "name": "#%%\n"
        },
        "id": "jLmdyKgCGHVv"
      },
      "outputs": [],
      "source": [
        "# Already split earlier to X_test and y_test\n",
        "X_test = X_test / 255.0"
      ]
    },
    {
      "cell_type": "markdown",
      "source": [
        "visualization"
      ],
      "metadata": {
        "collapsed": false,
        "pycharm": {
          "name": "#%% md\n"
        },
        "id": "6jHeYNQaGHVv"
      }
    },
    {
      "cell_type": "code",
      "source": [
        "from sklearn.metrics import confusion_matrix\n",
        "y_pred = model.predict(X_test)\n",
        "y_pred_arr = np.argmax(y_pred, axis = 1)"
      ],
      "metadata": {
        "id": "emhuC7hZV1e1",
        "outputId": "d550f07d-155e-4c6c-d253-a249df411194",
        "colab": {
          "base_uri": "https://localhost:8080/"
        }
      },
      "execution_count": 91,
      "outputs": [
        {
          "output_type": "stream",
          "name": "stdout",
          "text": [
            "313/313 [==============================] - 1s 2ms/step\n"
          ]
        }
      ]
    },
    {
      "cell_type": "code",
      "source": [
        "print(y_pred_arr.shape)\n",
        "print(y_test.shape)"
      ],
      "metadata": {
        "id": "3_KqXEGdZ_8E",
        "outputId": "18169cd3-c9cb-48a7-a137-2a2ab27d8aa0",
        "colab": {
          "base_uri": "https://localhost:8080/"
        }
      },
      "execution_count": 92,
      "outputs": [
        {
          "output_type": "stream",
          "name": "stdout",
          "text": [
            "(10000,)\n",
            "(10000,)\n"
          ]
        }
      ]
    },
    {
      "cell_type": "code",
      "source": [
        "cf_matrix = confusion_matrix(y_test, y_pred_arr)\n",
        "fig, ax = plt.subplots(figsize=(11,10)) \n",
        "sns.heatmap(cf_matrix, cbar=False, annot=True, fmt='g')\n",
        "plt.xlabel('true label')\n",
        "plt.ylabel('predicted label')"
      ],
      "metadata": {
        "id": "Pkpf4BPyYOma",
        "outputId": "aecf19e7-5a88-4e59-8707-1b51cdc8e7f9",
        "colab": {
          "base_uri": "https://localhost:8080/",
          "height": 623
        }
      },
      "execution_count": 93,
      "outputs": [
        {
          "output_type": "execute_result",
          "data": {
            "text/plain": [
              "Text(78.0, 0.5, 'predicted label')"
            ]
          },
          "metadata": {},
          "execution_count": 93
        },
        {
          "output_type": "display_data",
          "data": {
            "text/plain": [
              "<Figure size 792x720 with 1 Axes>"
            ],
            "image/png": "[encoded data removed]"
          },
          "metadata": {
            "needs_background": "light"
          }
        }
      ]
    },
    {
      "cell_type": "markdown",
      "source": [
        "Find classification_report for the prediction"
      ],
      "metadata": {
        "collapsed": false,
        "pycharm": {
          "name": "#%% md\n"
        },
        "id": "1N_4Hwz_GHVx"
      }
    },
    {
      "cell_type": "code",
      "source": [
        "from sklearn.metrics import classification_report\n",
        "print(classification_report(y_test, y_pred_arr, target_names=class_names))"
      ],
      "metadata": {
        "id": "s8kwsVBMZtUn",
        "outputId": "444b244d-9aa7-48a5-89d8-72b1c80f2a9a",
        "colab": {
          "base_uri": "https://localhost:8080/"
        }
      },
      "execution_count": 96,
      "outputs": [
        {
          "output_type": "stream",
          "name": "stdout",
          "text": [
            "              precision    recall  f1-score   support\n",
            "\n",
            " T-shirt/top       0.80      0.87      0.83      1000\n",
            "     Trouser       0.98      0.98      0.98      1000\n",
            "    Pullover       0.80      0.80      0.80      1000\n",
            "       Dress       0.91      0.87      0.89      1000\n",
            "        Coat       0.73      0.88      0.80      1000\n",
            "      Sandal       0.97      0.95      0.96      1000\n",
            "       Shirt       0.76      0.58      0.66      1000\n",
            "     Sneaker       0.93      0.97      0.95      1000\n",
            "         Bag       0.97      0.97      0.97      1000\n",
            "  Ankle boot       0.96      0.94      0.95      1000\n",
            "\n",
            "    accuracy                           0.88     10000\n",
            "   macro avg       0.88      0.88      0.88     10000\n",
            "weighted avg       0.88      0.88      0.88     10000\n",
            "\n"
          ]
        }
      ]
    },
    {
      "cell_type": "markdown",
      "source": [
        "Use model.evaluate the test data"
      ],
      "metadata": {
        "collapsed": false,
        "pycharm": {
          "name": "#%% md\n"
        },
        "id": "XzD6VbY0GHVy"
      }
    },
    {
      "cell_type": "code",
      "source": [
        "model.evaluate(X_test,y_test)"
      ],
      "metadata": {
        "id": "8ra5B4P2cCor",
        "outputId": "8b69ecb0-ef14-4f12-8546-ed700dec9d44",
        "colab": {
          "base_uri": "https://localhost:8080/"
        }
      },
      "execution_count": 103,
      "outputs": [
        {
          "output_type": "stream",
          "name": "stdout",
          "text": [
            "313/313 [==============================] - 1s 2ms/step - loss: 0.3902 - accuracy: 0.8807\n"
          ]
        },
        {
          "output_type": "execute_result",
          "data": {
            "text/plain": [
              "[0.39022496342658997, 0.8806999921798706]"
            ]
          },
          "metadata": {},
          "execution_count": 103
        }
      ]
    }
  ],
  "metadata": {
    "kernelspec": {
      "display_name": "Python 3",
      "language": "python",
      "name": "python3"
    },
    "language_info": {
      "codemirror_mode": {
        "name": "ipython",
        "version": 3
      },
      "file_extension": ".py",
      "mimetype": "text/x-python",
      "name": "python",
      "nbconvert_exporter": "python",
      "pygments_lexer": "ipython3",
      "version": "3.6.6"
    },
    "colab": {
      "provenance": [],
      "include_colab_link": true
    }
  },
  "nbformat": 4,
  "nbformat_minor": 0
}