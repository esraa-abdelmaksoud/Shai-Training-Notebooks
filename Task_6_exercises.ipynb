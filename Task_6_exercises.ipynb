{
  "cells": [
    {
      "cell_type": "markdown",
      "metadata": {
        "id": "view-in-github",
        "colab_type": "text"
      },
      "source": [
        "<a href=\"https://colab.research.google.com/github/esraa-abdelmaksoud/Shai-Training-Notebooks/blob/main/Task_6_exercises.ipynb\" target=\"_parent\"><img src=\"https://colab.research.google.com/assets/colab-badge.svg\" alt=\"Open In Colab\"/></a>"
      ]
    },
    {
      "cell_type": "markdown",
      "metadata": {
        "id": "uua1wvw7iQB4"
      },
      "source": [
        "![](logo1.jpg)"
      ]
    },
    {
      "cell_type": "markdown",
      "metadata": {
        "id": "IMnWC3LuifEi"
      },
      "source": [
        "# **shAI Training 2021 | Level 1**\n",
        "\n",
        "## Task #6 (End-to-End ML Project {part_2})"
      ]
    },
    {
      "cell_type": "markdown",
      "metadata": {
        "id": "1rbe_ZnKi-uY"
      },
      "source": [
        "## Welcome to the exercises for reviewing second part of end to end ML project.\n",
        "**Make sure that you read and understand ch2 from the hands-on ML book (page 72 to the end of the chapter ) before start with this notebook.**\n",
        "\n",
        "**If you stuck with anything reread that part from the book and feel free to ask about anything in the messenger group as you go along.**\n",
        "\n",
        " ## Good Luck : )"
      ]
    },
    {
      "cell_type": "markdown",
      "metadata": {
        "id": "zAbRZ0fwfOb4"
      },
      "source": [
        "## first run the following cell for the first part of the project to continue your work "
      ]
    },
    {
      "cell_type": "code",
      "execution_count": 1,
      "metadata": {
        "id": "Q3v160SJfL7U"
      },
      "outputs": [],
      "source": [
        "import numpy as np\n",
        "import pandas as pd\n",
        "import matplotlib.pyplot as plt\n",
        "%matplotlib inline \n",
        "import seaborn as sns\n",
        "from sklearn.model_selection import train_test_split\n",
        "from pandas.plotting import scatter_matrix\n",
        "from sklearn.impute import SimpleImputer\n",
        "from sklearn.preprocessing import OneHotEncoder\n",
        "from sklearn.base import BaseEstimator, TransformerMixin\n",
        "from sklearn.pipeline import Pipeline\n",
        "from sklearn.preprocessing import StandardScaler\n",
        "from sklearn.compose import ColumnTransformer"
      ]
    },
    {
      "cell_type": "code",
      "execution_count": 2,
      "metadata": {
        "id": "ObbhNRgSfu6_"
      },
      "outputs": [],
      "source": [
        "import os\n",
        "import tarfile\n",
        "import urllib\n",
        "DOWNLOAD_ROOT = \"https://raw.githubusercontent.com/ageron/handson-ml2/master/\"\n",
        "HOUSING_PATH = os.path.join(\"datasets\", \"housing\")\n",
        "HOUSING_URL = DOWNLOAD_ROOT + \"datasets/housing/housing.tgz\"\n",
        "\n",
        "def fetch_housing_data(housing_url=HOUSING_URL, housing_path=HOUSING_PATH):\n",
        "    os.makedirs(housing_path, exist_ok=True)\n",
        "    tgz_path = os.path.join(housing_path, \"housing.tgz\")\n",
        "    urllib.request.urlretrieve(housing_url, tgz_path)\n",
        "    housing_tgz = tarfile.open(tgz_path)\n",
        "    housing_tgz.extractall(path=housing_path)\n",
        "    housing_tgz.close()\n",
        "    \n",
        "def load_housing_data(housing_path=HOUSING_PATH):\n",
        "   csv_path = os.path.join(housing_path, \"housing.csv\")\n",
        "   return pd.read_csv(csv_path)\n",
        "   \n",
        "fetch_housing_data()\n",
        "housing = load_housing_data()\n",
        "\n",
        "rooms_ix, bedrooms_ix, population_ix, household_ix = [\n",
        "    list(housing.columns).index(col)\n",
        "    for col in (\"total_rooms\", \"total_bedrooms\", \"population\", \"households\")]\n",
        "\n",
        "class CombinedAttributesAdder(BaseEstimator, TransformerMixin):\n",
        "    def __init__(self, add_bedrooms_per_room = True):\n",
        "        self.add_bedrooms_per_room = add_bedrooms_per_room\n",
        "    def fit(self, X, y=None):\n",
        "        return self  # nothing else to do\n",
        "    def transform(self, X, y=None):\n",
        "        rooms_per_household = X[:, rooms_ix] / X[:, household_ix]\n",
        "        population_per_household = X[:, population_ix] / X[:, household_ix]\n",
        "        if self.add_bedrooms_per_room:\n",
        "            bedrooms_per_room = X[:, bedrooms_ix] / X[:, rooms_ix]\n",
        "            return np.c_[X, rooms_per_household, population_per_household,\n",
        "                         bedrooms_per_room]\n",
        "        else:\n",
        "            return np.c_[X, rooms_per_household, population_per_household]\n",
        "        \n",
        "train_set, test_set = train_test_split(housing, test_size=0.2, random_state=42)\n",
        "housing = train_set.drop(\"median_house_value\", axis=1)\n",
        "housing_labels = train_set[\"median_house_value\"].copy()\n",
        "\n",
        "housing_num = housing.drop(\"ocean_proximity\", axis=1)\n",
        "num_attribs = list(housing_num)\n",
        "cat_attribs = [\"ocean_proximity\"]\n",
        "\n",
        "num_pipeline = Pipeline([\n",
        " ('imputer', SimpleImputer(strategy=\"median\")),\n",
        " ('attribs_adder', CombinedAttributesAdder()),\n",
        " ('std_scaler', StandardScaler())])\n",
        "\n",
        "full_pipeline = ColumnTransformer([\n",
        " (\"num\", num_pipeline, num_attribs),\n",
        " (\"cat\", OneHotEncoder(), cat_attribs)])\n",
        "\n",
        "housing_prepared = full_pipeline.fit_transform(housing)"
      ]
    },
    {
      "cell_type": "markdown",
      "metadata": {
        "id": "wa6vPfm6jxsF"
      },
      "source": [
        "# 1- Select and Train a Model\n",
        "\n",
        "# Let’s first train a LinearRegression model "
      ]
    },
    {
      "cell_type": "code",
      "execution_count": 3,
      "metadata": {
        "id": "JCl0ZYDRjGz_",
        "colab": {
          "base_uri": "https://localhost:8080/"
        },
        "outputId": "2923ca6a-a573-4a25-ec79-5d20b6ceb747"
      },
      "outputs": [
        {
          "output_type": "execute_result",
          "data": {
            "text/plain": [
              "LinearRegression()"
            ]
          },
          "metadata": {},
          "execution_count": 3
        }
      ],
      "source": [
        "# CODE HERE\n",
        "from sklearn.linear_model import LinearRegression\n",
        "\n",
        "linear = LinearRegression()\n",
        "linear.fit(housing_prepared, housing_labels)"
      ]
    },
    {
      "cell_type": "markdown",
      "metadata": {
        "id": "_nDxOY7GmTNc"
      },
      "source": [
        "# First try it out on a few instances from the training set:\n"
      ]
    },
    {
      "cell_type": "code",
      "execution_count": 4,
      "metadata": {
        "id": "7Lx7VQm7pwSQ"
      },
      "outputs": [],
      "source": [
        "some_data = housing.iloc[:5]\n",
        "some_labels = housing_labels.iloc[:5]"
      ]
    },
    {
      "cell_type": "code",
      "execution_count": 12,
      "metadata": {
        "id": "BU-ynaaIpYHO",
        "colab": {
          "base_uri": "https://localhost:8080/"
        },
        "outputId": "99a78302-c259-4fe3-fb06-6e937b850c14"
      },
      "outputs": [
        {
          "output_type": "stream",
          "name": "stdout",
          "text": [
            "[181746.54359616 290558.74973505 244957.50017771 146498.51061398\n",
            " 163230.42393939]\n",
            "[103000. 382100. 172600.  93400.  96500.]\n"
          ]
        }
      ],
      "source": [
        "# CODE HERE\n",
        "some_data_tr = full_pipeline.transform(some_data)\n",
        "pred = linear.predict(some_data_tr)\n",
        "print(pred)\n",
        "print(np.array(some_labels))"
      ]
    },
    {
      "cell_type": "markdown",
      "metadata": {
        "id": "QjmwxoU-qFnb"
      },
      "source": [
        "# measure this regression model’s RMSE on the whole training set \n",
        "* sing Scikit-Learn’s mean_squared_error() function:"
      ]
    },
    {
      "cell_type": "code",
      "execution_count": 13,
      "metadata": {
        "id": "rczx22dFqRMc"
      },
      "outputs": [],
      "source": [
        "from sklearn.metrics import mean_squared_error"
      ]
    },
    {
      "cell_type": "code",
      "execution_count": 15,
      "metadata": {
        "id": "aCYZh9ExqWMJ",
        "colab": {
          "base_uri": "https://localhost:8080/"
        },
        "outputId": "97b236fb-fca4-4c76-fcba-5b86e1c7e031"
      },
      "outputs": [
        {
          "output_type": "execute_result",
          "data": {
            "text/plain": [
              "67593.20745775253"
            ]
          },
          "metadata": {},
          "execution_count": 15
        }
      ],
      "source": [
        "# CODE HERE\n",
        "housing_preds = linear.predict(housing_prepared)\n",
        "linear_rmse = mean_squared_error(housing_labels, housing_preds, squared=False)\n",
        "linear_rmse\n"
      ]
    },
    {
      "cell_type": "markdown",
      "metadata": {
        "id": "RLsKfuQpcfyx"
      },
      "source": [
        "# judge on the RMSE result for this model \n",
        "write down your answar "
      ]
    },
    {
      "cell_type": "markdown",
      "metadata": {
        "id": "nnBVcR-MeFqa"
      },
      "source": [
        "The root mean squred error is 67593. It is high which means another model with a different algorithm should be trained."
      ]
    },
    {
      "cell_type": "markdown",
      "metadata": {
        "id": "vImNak3CqqFo"
      },
      "source": [
        "# Let’s train a Decision Tree Regressor model \n",
        "## more powerful model"
      ]
    },
    {
      "cell_type": "code",
      "execution_count": 16,
      "metadata": {
        "id": "8syfCBveqY2q"
      },
      "outputs": [],
      "source": [
        "from sklearn.tree import DecisionTreeRegressor "
      ]
    },
    {
      "cell_type": "code",
      "execution_count": 17,
      "metadata": {
        "id": "vrUPZzBhq-do",
        "colab": {
          "base_uri": "https://localhost:8080/"
        },
        "outputId": "236e00dd-d391-4d09-8e4f-770426483909"
      },
      "outputs": [
        {
          "output_type": "execute_result",
          "data": {
            "text/plain": [
              "DecisionTreeRegressor()"
            ]
          },
          "metadata": {},
          "execution_count": 17
        }
      ],
      "source": [
        "# CODE HERE\n",
        "tree = DecisionTreeRegressor()\n",
        "tree.fit(housing_prepared, housing_labels)"
      ]
    },
    {
      "cell_type": "markdown",
      "metadata": {
        "id": "kRhxYj0Aq9op"
      },
      "source": [
        "# Now evaluate the model on the training set \n",
        "* using Scikit-Learn’s mean_squared_error() function:"
      ]
    },
    {
      "cell_type": "code",
      "execution_count": 18,
      "metadata": {
        "id": "DYCxUSCkrNIY",
        "colab": {
          "base_uri": "https://localhost:8080/"
        },
        "outputId": "9be1536f-5f4a-4356-d78e-c74dc30c90ac"
      },
      "outputs": [
        {
          "output_type": "execute_result",
          "data": {
            "text/plain": [
              "0.0"
            ]
          },
          "metadata": {},
          "execution_count": 18
        }
      ],
      "source": [
        "# CODE HERE\n",
        "housing_tree_preds = tree.predict(housing_prepared)\n",
        "tree_rmse = mean_squared_error(housing_labels, housing_tree_preds, squared=False)\n",
        "tree_rmse"
      ]
    },
    {
      "cell_type": "markdown",
      "metadata": {
        "id": "CSxXI9b8iZPs"
      },
      "source": [
        "# Explaine this result \n",
        "write down your answar"
      ]
    },
    {
      "cell_type": "markdown",
      "metadata": {
        "id": "BVSMQ7kbiZSi"
      },
      "source": [
        "The rmse of decision tree is 0 which means the model has an overfitting problem."
      ]
    },
    {
      "cell_type": "markdown",
      "metadata": {
        "id": "rj7b4zSPrdyH"
      },
      "source": [
        "# Evaluation Using Cross-Validation\n",
        "\n",
        "1-split the training set into 10 distinct subsets then train and evaluate the Decision Tree model"
      ]
    },
    {
      "cell_type": "code",
      "execution_count": 19,
      "metadata": {
        "id": "JmNrgsBrwIe3"
      },
      "outputs": [],
      "source": [
        "from sklearn.model_selection import cross_val_score"
      ]
    },
    {
      "cell_type": "code",
      "execution_count": 23,
      "metadata": {
        "id": "yXNPsWjcwMd_",
        "colab": {
          "base_uri": "https://localhost:8080/"
        },
        "outputId": "87b5a227-36d0-4ed0-86db-a9dd1aaa8b97"
      },
      "outputs": [
        {
          "output_type": "execute_result",
          "data": {
            "text/plain": [
              "array([65923.09013902, 70524.52667343, 69988.39750289, 70668.86865182,\n",
              "       72158.10789585, 66820.30011888, 66091.51009865, 68937.244088  ,\n",
              "       64506.87514742, 70130.88687103])"
            ]
          },
          "metadata": {},
          "execution_count": 23
        }
      ],
      "source": [
        "# CODE HERE\n",
        "score = cross_val_score(tree, housing_prepared, housing_labels, cv=10,\n",
        "                        scoring=\"neg_mean_squared_error\")\n",
        "tree_score = np.sqrt(-score)\n",
        "tree_score"
      ]
    },
    {
      "cell_type": "markdown",
      "metadata": {
        "id": "KqReIY3urLP8"
      },
      "source": [
        "2- display the resultant scores and calculate its Mean and Standard deviation"
      ]
    },
    {
      "cell_type": "code",
      "execution_count": 25,
      "metadata": {
        "id": "1g8jIq-6raVF",
        "colab": {
          "base_uri": "https://localhost:8080/"
        },
        "outputId": "cd3455cb-e832-4831-9979-b59c73452e83"
      },
      "outputs": [
        {
          "output_type": "stream",
          "name": "stdout",
          "text": [
            "Scores: [65923.09013902 70524.52667343 69988.39750289 70668.86865182\n",
            " 72158.10789585 66820.30011888 66091.51009865 68937.244088\n",
            " 64506.87514742 70130.88687103] \n",
            " Mean: 68574.98071870054 \n",
            " Std: 2416.655935312109\n"
          ]
        }
      ],
      "source": [
        "# CODE HERE\n",
        "print(\"Scores:\", tree_score, \"\\n Mean:\", tree_score.mean(), \"\\n Std:\",\n",
        "      tree_score.std())"
      ]
    },
    {
      "cell_type": "markdown",
      "metadata": {
        "id": "G6paGk_hsGGY"
      },
      "source": [
        "3-repaet the same steps to compute the same scores for the Linear Regression  model \n",
        "\n",
        "*notice the difference between the results of the two models*"
      ]
    },
    {
      "cell_type": "code",
      "execution_count": 26,
      "metadata": {
        "id": "ol3C6DmusWfx",
        "colab": {
          "base_uri": "https://localhost:8080/"
        },
        "outputId": "21569b21-8f8d-4855-e21a-31eaf3e6f9c6"
      },
      "outputs": [
        {
          "output_type": "stream",
          "name": "stdout",
          "text": [
            "Scores: [65000.67382615 70960.56056304 67122.63935124 66089.63153865\n",
            " 68402.54686442 65266.34735288 65218.78174481 68525.46981754\n",
            " 72739.87555996 68957.34111906] \n",
            " Mean: 67828.38677377408 \n",
            " Std: 2468.091395065227\n"
          ]
        }
      ],
      "source": [
        "# CODE HERE\n",
        "score = cross_val_score(linear, housing_prepared, housing_labels, cv=10,\n",
        "                        scoring=\"neg_mean_squared_error\")\n",
        "linear_score = np.sqrt(-score)\n",
        "print(\"Scores:\", linear_score, \"\\n Mean:\", linear_score.mean(), \"\\n Std:\",\n",
        "      linear_score.std())"
      ]
    },
    {
      "cell_type": "markdown",
      "metadata": {
        "id": "fdQ85uTEtDy1"
      },
      "source": [
        "## Let’s train one last model the RandomForestRegressor."
      ]
    },
    {
      "cell_type": "code",
      "execution_count": 27,
      "metadata": {
        "id": "O1PPFq5TtdDP",
        "colab": {
          "base_uri": "https://localhost:8080/"
        },
        "outputId": "2943145a-ca05-4458-8229-0c70687ec8e3"
      },
      "outputs": [
        {
          "output_type": "execute_result",
          "data": {
            "text/plain": [
              "DecisionTreeRegressor()"
            ]
          },
          "metadata": {},
          "execution_count": 27
        }
      ],
      "source": [
        "# CODE HERE\n",
        "from sklearn.ensemble import RandomForestRegressor\n",
        "\n",
        "forest = DecisionTreeRegressor()\n",
        "forest.fit(housing_prepared, housing_labels)"
      ]
    },
    {
      "cell_type": "markdown",
      "metadata": {
        "id": "gSxaBthCtw93"
      },
      "source": [
        "# repeat the same steps to compute the same scores its Mean and Standard deviation for the Random Forest model"
      ]
    },
    {
      "cell_type": "code",
      "execution_count": 28,
      "metadata": {
        "id": "AAc2MOQwt2lC",
        "colab": {
          "base_uri": "https://localhost:8080/"
        },
        "outputId": "229a7eaa-04b1-4776-f1ed-dde7b31a33cc"
      },
      "outputs": [
        {
          "output_type": "stream",
          "name": "stdout",
          "text": [
            "Scores: [64030.52492421 71003.258586   69491.88548799 70634.71300772\n",
            " 72852.00963828 66907.81710221 67720.39315879 67132.03890487\n",
            " 67495.58127302 69523.11568435] \n",
            " Mean: 68679.13377674334 \n",
            " Std: 2397.3364321153867\n"
          ]
        }
      ],
      "source": [
        "# CODE HERE\n",
        "score = cross_val_score(forest, housing_prepared, housing_labels, cv=10,\n",
        "                        scoring=\"neg_mean_squared_error\")\n",
        "forest_score = np.sqrt(-score)\n",
        "print(\"Scores:\", forest_score, \"\\n Mean:\", forest_score.mean(), \"\\n Std:\",\n",
        "      forest_score.std())"
      ]
    },
    {
      "cell_type": "markdown",
      "metadata": {
        "id": "Vn2u9DOxvE5S"
      },
      "source": [
        "# Save every model you experiment with \n",
        "*using the joblib library*"
      ]
    },
    {
      "cell_type": "code",
      "execution_count": 29,
      "metadata": {
        "id": "mWyIi3mtva85",
        "colab": {
          "base_uri": "https://localhost:8080/"
        },
        "outputId": "350d6a2e-24b1-473d-a4c4-0e0fb9cd6ad7"
      },
      "outputs": [
        {
          "output_type": "execute_result",
          "data": {
            "text/plain": [
              "['forest.pkl']"
            ]
          },
          "metadata": {},
          "execution_count": 29
        }
      ],
      "source": [
        "# CODE HERE\n",
        "import joblib\n",
        "joblib.dump(linear, \"linear.pkl\")\n",
        "joblib.dump(tree, \"tree.pkl\")\n",
        "joblib.dump(forest, \"forest.pkl\")"
      ]
    },
    {
      "cell_type": "markdown",
      "metadata": {
        "id": "gIC6O-h0wOBJ"
      },
      "source": [
        "## now you have a shortlist of promising models. You now need to\n",
        "## fine-tune them!\n",
        "# Fine-Tune Your Model\n",
        "\n",
        "## 1- Grid Search\n",
        "## evaluate all the possible combinations of hyperparameter values for the RandomForestRegressor \n",
        "*It may take a long time*"
      ]
    },
    {
      "cell_type": "code",
      "execution_count": 30,
      "metadata": {
        "id": "Y8Wqd-Pix3Sm"
      },
      "outputs": [],
      "source": [
        "from sklearn.model_selection import GridSearchCV"
      ]
    },
    {
      "cell_type": "code",
      "execution_count": 31,
      "metadata": {
        "id": "j-zNvGLhyGGb",
        "colab": {
          "base_uri": "https://localhost:8080/"
        },
        "outputId": "e201cb4b-69c3-4dde-c60b-3fb95a702e16"
      },
      "outputs": [
        {
          "output_type": "execute_result",
          "data": {
            "text/plain": [
              "GridSearchCV(cv=5, estimator=RandomForestRegressor(random_state=42),\n",
              "             param_grid=[{'max_features': [2, 4, 6, 8],\n",
              "                          'n_estimators': [3, 10, 30]},\n",
              "                         {'bootstrap': [False], 'max_features': [2, 3, 4],\n",
              "                          'n_estimators': [3, 10]}],\n",
              "             return_train_score=True, scoring='neg_mean_squared_error')"
            ]
          },
          "metadata": {},
          "execution_count": 31
        }
      ],
      "source": [
        "# CODE HERE\n",
        "param_grid = [\n",
        "    {'n_estimators': [3, 10, 30], 'max_features': [2, 4, 6, 8]},\n",
        "    {'bootstrap': [False], 'n_estimators': [3, 10], 'max_features': [2, 3, 4]},\n",
        "  ]\n",
        "\n",
        "forest_reg = RandomForestRegressor(random_state=42)\n",
        "grid_search = GridSearchCV(forest_reg, param_grid, cv=5,\n",
        "                           scoring='neg_mean_squared_error',\n",
        "                           return_train_score=True)\n",
        "grid_search.fit(housing_prepared, housing_labels)"
      ]
    },
    {
      "cell_type": "markdown",
      "metadata": {
        "id": "EhYbsAnE0j75"
      },
      "source": [
        "with the evaluation scores"
      ]
    },
    {
      "cell_type": "code",
      "execution_count": 33,
      "metadata": {
        "id": "qhDCrx0Y0ocN",
        "colab": {
          "base_uri": "https://localhost:8080/"
        },
        "outputId": "42d706dc-8eb1-490d-8ad0-b85b0594a0d7"
      },
      "outputs": [
        {
          "output_type": "execute_result",
          "data": {
            "text/plain": [
              "{'mean_fit_time': array([0.07416954, 0.2381186 , 0.75177517, 0.11739011, 0.37944331,\n",
              "        1.1447669 , 0.1633215 , 0.53416653, 1.59210563, 0.20373106,\n",
              "        0.67509875, 2.02926641, 0.11267085, 0.36814694, 0.14908595,\n",
              "        0.4857172 , 0.18481607, 0.61324039]),\n",
              " 'std_fit_time': array([0.00646466, 0.00462862, 0.07806737, 0.00490277, 0.00619951,\n",
              "        0.00620322, 0.00252618, 0.01422538, 0.01239269, 0.00478365,\n",
              "        0.00812653, 0.00910179, 0.00149587, 0.00551911, 0.00351852,\n",
              "        0.00335796, 0.00626123, 0.00507137]),\n",
              " 'mean_score_time': array([0.00499754, 0.0137794 , 0.04132218, 0.00534768, 0.01424856,\n",
              "        0.040729  , 0.00530419, 0.01380658, 0.03851709, 0.00497775,\n",
              "        0.01415586, 0.03802309, 0.00589485, 0.01663799, 0.00614123,\n",
              "        0.01628385, 0.00584321, 0.01630435]),\n",
              " 'std_score_time': array([9.46086740e-05, 2.13534100e-04, 4.91020143e-03, 7.08673235e-04,\n",
              "        1.51968801e-03, 3.34859289e-03, 2.46154620e-04, 2.25081635e-04,\n",
              "        7.36776038e-04, 1.15897466e-04, 1.05884029e-03, 1.76405364e-04,\n",
              "        1.11821252e-04, 7.96752791e-04, 2.70277821e-04, 1.80199570e-04,\n",
              "        1.57771963e-04, 1.93718850e-04]),\n",
              " 'param_max_features': masked_array(data=[2, 2, 2, 4, 4, 4, 6, 6, 6, 8, 8, 8, 2, 2, 3, 3, 4, 4],\n",
              "              mask=[False, False, False, False, False, False, False, False,\n",
              "                    False, False, False, False, False, False, False, False,\n",
              "                    False, False],\n",
              "        fill_value='?',\n",
              "             dtype=object),\n",
              " 'param_n_estimators': masked_array(data=[3, 10, 30, 3, 10, 30, 3, 10, 30, 3, 10, 30, 3, 10, 3,\n",
              "                    10, 3, 10],\n",
              "              mask=[False, False, False, False, False, False, False, False,\n",
              "                    False, False, False, False, False, False, False, False,\n",
              "                    False, False],\n",
              "        fill_value='?',\n",
              "             dtype=object),\n",
              " 'param_bootstrap': masked_array(data=[--, --, --, --, --, --, --, --, --, --, --, --, False,\n",
              "                    False, False, False, False, False],\n",
              "              mask=[ True,  True,  True,  True,  True,  True,  True,  True,\n",
              "                     True,  True,  True,  True, False, False, False, False,\n",
              "                    False, False],\n",
              "        fill_value='?',\n",
              "             dtype=object),\n",
              " 'params': [{'max_features': 2, 'n_estimators': 3},\n",
              "  {'max_features': 2, 'n_estimators': 10},\n",
              "  {'max_features': 2, 'n_estimators': 30},\n",
              "  {'max_features': 4, 'n_estimators': 3},\n",
              "  {'max_features': 4, 'n_estimators': 10},\n",
              "  {'max_features': 4, 'n_estimators': 30},\n",
              "  {'max_features': 6, 'n_estimators': 3},\n",
              "  {'max_features': 6, 'n_estimators': 10},\n",
              "  {'max_features': 6, 'n_estimators': 30},\n",
              "  {'max_features': 8, 'n_estimators': 3},\n",
              "  {'max_features': 8, 'n_estimators': 10},\n",
              "  {'max_features': 8, 'n_estimators': 30},\n",
              "  {'bootstrap': False, 'max_features': 2, 'n_estimators': 3},\n",
              "  {'bootstrap': False, 'max_features': 2, 'n_estimators': 10},\n",
              "  {'bootstrap': False, 'max_features': 3, 'n_estimators': 3},\n",
              "  {'bootstrap': False, 'max_features': 3, 'n_estimators': 10},\n",
              "  {'bootstrap': False, 'max_features': 4, 'n_estimators': 3},\n",
              "  {'bootstrap': False, 'max_features': 4, 'n_estimators': 10}],\n",
              " 'split0_test_score': array([-4.30824887e+09, -3.09876174e+09, -2.79073420e+09, -3.21814982e+09,\n",
              "        -2.56672794e+09, -2.48275149e+09, -3.42474305e+09, -2.72723976e+09,\n",
              "        -2.50215280e+09, -3.35802568e+09, -2.65849227e+09, -2.44778241e+09,\n",
              "        -3.85125608e+09, -3.00720547e+09, -3.64087989e+09, -2.89988159e+09,\n",
              "        -3.36067142e+09, -2.64185355e+09]),\n",
              " 'split1_test_score': array([-4.24898643e+09, -3.05871933e+09, -2.74002533e+09, -3.29580393e+09,\n",
              "        -2.60817268e+09, -2.45015950e+09, -3.54598368e+09, -2.69186953e+09,\n",
              "        -2.51916716e+09, -3.41688170e+09, -2.67344812e+09, -2.52869726e+09,\n",
              "        -3.71024005e+09, -2.91118941e+09, -3.45517958e+09, -2.81855633e+09,\n",
              "        -3.26205828e+09, -2.62258179e+09]),\n",
              " 'split2_test_score': array([-4.27333006e+09, -3.02273522e+09, -2.74922957e+09, -3.55985392e+09,\n",
              "        -2.68664388e+09, -2.46857534e+09, -3.52526665e+09, -2.66953552e+09,\n",
              "        -2.47385048e+09, -3.48344950e+09, -2.65154993e+09, -2.45257143e+09,\n",
              "        -3.71385976e+09, -2.73812284e+09, -3.34305963e+09, -2.75904007e+09,\n",
              "        -3.42317203e+09, -2.63798871e+09]),\n",
              " 'split3_test_score': array([-3.83990213e+09, -2.96197385e+09, -2.74540389e+09, -3.46286658e+09,\n",
              "        -2.66932736e+09, -2.41095759e+09, -3.39307393e+09, -2.59271849e+09,\n",
              "        -2.41718744e+09, -3.49765385e+09, -2.62732639e+09, -2.38774495e+09,\n",
              "        -3.93659616e+09, -2.88407820e+09, -3.42345812e+09, -2.71253337e+09,\n",
              "        -3.48499493e+09, -2.63619155e+09]),\n",
              " 'split4_test_score': array([-4.37548523e+09, -3.19862624e+09, -2.87247678e+09, -3.59864359e+09,\n",
              "        -2.79410525e+09, -2.58161128e+09, -3.29297193e+09, -2.65511236e+09,\n",
              "        -2.54651098e+09, -3.43780097e+09, -2.72798462e+09, -2.51999490e+09,\n",
              "        -3.74867841e+09, -2.97996216e+09, -3.34703165e+09, -2.73032594e+09,\n",
              "        -3.57833114e+09, -2.69218011e+09]),\n",
              " 'mean_test_score': array([-4.20919054e+09, -3.06816328e+09, -2.77957395e+09, -3.42706357e+09,\n",
              "        -2.66499542e+09, -2.47881104e+09, -3.43640785e+09, -2.66729513e+09,\n",
              "        -2.49177377e+09, -3.43876234e+09, -2.66776026e+09, -2.46735819e+09,\n",
              "        -3.79212609e+09, -2.90411162e+09, -3.44192177e+09, -2.78406746e+09,\n",
              "        -3.42184556e+09, -2.64615914e+09]),\n",
              " 'std_test_score': array([1.89493007e+08, 7.92287076e+07, 4.98155700e+07, 1.47803170e+08,\n",
              "        7.75139901e+07, 5.67682812e+07, 9.21851464e+07, 4.45249899e+07,\n",
              "        4.41330932e+07, 4.99264381e+07, 3.35943244e+07, 5.19099853e+07,\n",
              "        8.84156106e+07, 9.42182076e+07, 1.08516237e+08, 6.81675033e+07,\n",
              "        1.07472404e+08, 2.39101136e+07]),\n",
              " 'rank_test_score': array([18, 11,  8, 13,  5,  2, 14,  6,  3, 15,  7,  1, 17, 10, 16,  9, 12,\n",
              "         4], dtype=int32),\n",
              " 'split0_train_score': array([-1.10565630e+09, -5.69232252e+08, -4.28236941e+08, -8.73364379e+08,\n",
              "        -4.78823710e+08, -3.84593366e+08, -9.12516767e+08, -5.11341943e+08,\n",
              "        -3.89893762e+08, -8.95712643e+08, -5.04169707e+08, -3.84820825e+08,\n",
              "        -0.00000000e+00, -9.46324476e+02, -1.68235462e-01, -1.51411916e-02,\n",
              "        -0.00000000e+00, -0.00000000e+00]),\n",
              " 'split1_train_score': array([-1.12497963e+09, -5.80110461e+08, -4.34127511e+08, -8.99843281e+08,\n",
              "        -4.87882721e+08, -3.84213721e+08, -9.27504090e+08, -4.88128174e+08,\n",
              "        -3.83135408e+08, -8.46862712e+08, -4.76404749e+08, -3.80528883e+08,\n",
              "        -0.00000000e+00, -5.46597017e+00, -0.00000000e+00, -0.00000000e+00,\n",
              "        -0.00000000e+00, -0.00000000e+00]),\n",
              " 'split2_train_score': array([-1.13690801e+09, -5.64676575e+08, -4.32280103e+08, -9.76313423e+08,\n",
              "        -5.01063821e+08, -3.82281110e+08, -8.78195672e+08, -4.90954142e+08,\n",
              "        -3.87561786e+08, -8.84146817e+08, -4.98284850e+08, -3.84877431e+08,\n",
              "        -0.00000000e+00, -8.53292960e+01, -0.00000000e+00, -0.00000000e+00,\n",
              "        -0.00000000e+00, -9.46252839e+02]),\n",
              " 'split3_train_score': array([-1.07753020e+09, -5.81360853e+08, -4.37365023e+08, -9.06381158e+08,\n",
              "        -5.09697234e+08, -3.88687546e+08, -9.42317124e+08, -5.08915671e+08,\n",
              "        -3.86263233e+08, -9.18757815e+08, -5.09932945e+08, -3.83382289e+08,\n",
              "        -0.00000000e+00, -0.00000000e+00, -0.00000000e+00, -0.00000000e+00,\n",
              "        -0.00000000e+00, -0.00000000e+00]),\n",
              " 'split4_train_score': array([-1.07977360e+09, -5.89902032e+08, -4.37559951e+08, -9.59480344e+08,\n",
              "        -5.04446897e+08, -3.90750946e+08, -8.83255302e+08, -4.94495578e+08,\n",
              "        -3.86901877e+08, -9.17897549e+08, -5.07210317e+08, -3.80519973e+08,\n",
              "        -4.20556817e+00, -3.78501136e-01, -0.00000000e+00, -3.78501136e-01,\n",
              "        -1.05139204e+04, -9.46252839e+02]),\n",
              " 'mean_train_score': array([-1.10496955e+09, -5.77056435e+08, -4.33913906e+08, -9.23076517e+08,\n",
              "        -4.96382877e+08, -3.86105338e+08, -9.08757791e+08, -4.98767101e+08,\n",
              "        -3.86751213e+08, -8.92675507e+08, -4.99200514e+08, -3.82825880e+08,\n",
              "        -8.41113634e-01, -2.07499649e+02, -3.36470925e-02, -7.87284654e-02,\n",
              "        -2.10278409e+03, -3.78501136e+02]),\n",
              " 'std_train_score': array([2.37010298e+07, 9.02599836e+06, 3.46833447e+06, 3.85985017e+07,\n",
              "        1.13559567e+07, 3.12212932e+06, 2.48040421e+07, 9.52465352e+06,\n",
              "        2.18483477e+06, 2.64469775e+07, 1.20376096e+07, 1.95405508e+06,\n",
              "        1.68222727e+00, 3.70826267e+02, 6.72941849e-02, 1.50001006e-01,\n",
              "        4.20556817e+03, 4.63567325e+02])}"
            ]
          },
          "metadata": {},
          "execution_count": 33
        }
      ],
      "source": [
        "# CODE HERE\n",
        "cvres = grid_search.cv_results_\n",
        "cvres"
      ]
    },
    {
      "cell_type": "markdown",
      "metadata": {
        "id": "pjRCrlqEyH1A"
      },
      "source": [
        "# Analyze the Best Models and Their Errors\n",
        "1-indicate the relative importance of each attribute"
      ]
    },
    {
      "cell_type": "code",
      "execution_count": 34,
      "metadata": {
        "id": "y2MkCD1Byh9F",
        "colab": {
          "base_uri": "https://localhost:8080/"
        },
        "outputId": "fe7650fa-20d1-4ed7-9e1c-90cd125bfc39"
      },
      "outputs": [
        {
          "output_type": "execute_result",
          "data": {
            "text/plain": [
              "RandomForestRegressor(max_features=8, n_estimators=30, random_state=42)"
            ]
          },
          "metadata": {},
          "execution_count": 34
        }
      ],
      "source": [
        "# CODE HERE\n",
        "grid_search.best_estimator_"
      ]
    },
    {
      "cell_type": "markdown",
      "metadata": {
        "id": "b01L7mUm1xTV"
      },
      "source": [
        "2-display these importance scores next to their corresponding attribute names:"
      ]
    },
    {
      "cell_type": "code",
      "execution_count": 35,
      "metadata": {
        "id": "dau43zXt14i7",
        "colab": {
          "base_uri": "https://localhost:8080/"
        },
        "outputId": "8041294e-212f-4e91-a7b9-48babdc2a7da"
      },
      "outputs": [
        {
          "output_type": "stream",
          "name": "stdout",
          "text": [
            "64878.27480854276 {'max_features': 2, 'n_estimators': 3}\n",
            "55391.003575336406 {'max_features': 2, 'n_estimators': 10}\n",
            "52721.66494842234 {'max_features': 2, 'n_estimators': 30}\n",
            "58541.12715494087 {'max_features': 4, 'n_estimators': 3}\n",
            "51623.59366665994 {'max_features': 4, 'n_estimators': 10}\n",
            "49787.65951361993 {'max_features': 4, 'n_estimators': 30}\n",
            "58620.88234614251 {'max_features': 6, 'n_estimators': 3}\n",
            "51645.862673140065 {'max_features': 6, 'n_estimators': 10}\n",
            "49917.66994061786 {'max_features': 6, 'n_estimators': 30}\n",
            "58640.96129790229 {'max_features': 8, 'n_estimators': 3}\n",
            "51650.365581628095 {'max_features': 8, 'n_estimators': 10}\n",
            "49672.50940389753 {'max_features': 8, 'n_estimators': 30}\n",
            "61580.24110015614 {'bootstrap': False, 'max_features': 2, 'n_estimators': 3}\n",
            "53889.80996032937 {'bootstrap': False, 'max_features': 2, 'n_estimators': 10}\n",
            "58667.89389226964 {'bootstrap': False, 'max_features': 3, 'n_estimators': 3}\n",
            "52764.2630869393 {'bootstrap': False, 'max_features': 3, 'n_estimators': 10}\n",
            "58496.54315778315 {'bootstrap': False, 'max_features': 4, 'n_estimators': 3}\n",
            "51440.83147410301 {'bootstrap': False, 'max_features': 4, 'n_estimators': 10}\n"
          ]
        }
      ],
      "source": [
        "# CODE HERE\n",
        "cvres = grid_search.cv_results_\n",
        "for mean_score, params in zip(cvres[\"mean_test_score\"], cvres[\"params\"]):\n",
        "    print(np.sqrt(-mean_score), params)"
      ]
    },
    {
      "cell_type": "markdown",
      "metadata": {
        "id": "esOPiD6Pyice"
      },
      "source": [
        "## Now is the time to evaluate the final model on the test set.\n",
        "# Evaluate Your System on the Test Set\n",
        "\n",
        "1-get the predictors and the labels from your test set"
      ]
    },
    {
      "cell_type": "code",
      "execution_count": 36,
      "metadata": {
        "id": "ZrmGwOEyykad"
      },
      "outputs": [],
      "source": [
        "# CODE HERE\n",
        "housing_test = test_set.drop(\"median_house_value\", axis=1)\n",
        "housing_test_labels = test_set[\"median_house_value\"].copy()"
      ]
    },
    {
      "cell_type": "markdown",
      "metadata": {
        "id": "lhkKu23G2yNd"
      },
      "source": [
        "2-run your full_pipeline to transform the data"
      ]
    },
    {
      "cell_type": "code",
      "execution_count": 37,
      "metadata": {
        "id": "VBfW1WG823TE"
      },
      "outputs": [],
      "source": [
        "# CODE HERE\n",
        "housing_test_prepared = full_pipeline.transform(housing_test)"
      ]
    },
    {
      "cell_type": "markdown",
      "metadata": {
        "id": "hNVnMSJy28xt"
      },
      "source": [
        "3-evaluate the final model on the test set"
      ]
    },
    {
      "cell_type": "code",
      "execution_count": 41,
      "metadata": {
        "id": "HrcgAUoy2_tc",
        "colab": {
          "base_uri": "https://localhost:8080/"
        },
        "outputId": "c9a7483f-173d-4e26-b05e-fe29d39d8d61"
      },
      "outputs": [
        {
          "output_type": "execute_result",
          "data": {
            "text/plain": [
              "49198.020631676336"
            ]
          },
          "metadata": {},
          "execution_count": 41
        }
      ],
      "source": [
        "# CODE HERE\n",
        "grid_model = grid_search.best_estimator_\n",
        "grid_pred = grid_model.predict(housing_test_prepared)\n",
        "mse = mean_squared_error(housing_test_labels, grid_pred)\n",
        "rmse = np.sqrt(mse)\n",
        "rmse"
      ]
    },
    {
      "cell_type": "markdown",
      "metadata": {
        "id": "wYBxgnsx3Ipr"
      },
      "source": [
        "# compute a 95% confidence interval for the generalization error \n",
        "*using scipy.stats.t.interval():*"
      ]
    },
    {
      "cell_type": "code",
      "execution_count": 42,
      "metadata": {
        "id": "ngWpgPrE3NaS"
      },
      "outputs": [],
      "source": [
        "from scipy import stats"
      ]
    },
    {
      "cell_type": "code",
      "execution_count": 43,
      "metadata": {
        "id": "6RFaMou83WBY",
        "colab": {
          "base_uri": "https://localhost:8080/"
        },
        "outputId": "9479d053-de78-4bdb-ad5a-059981696ad5"
      },
      "outputs": [
        {
          "output_type": "execute_result",
          "data": {
            "text/plain": [
              "array([46948.10215126, 51349.4515311 ])"
            ]
          },
          "metadata": {},
          "execution_count": 43
        }
      ],
      "source": [
        "# CODE HERE\n",
        "confidence = 0.95\n",
        "squared_errors = (grid_pred - housing_test_labels) ** 2\n",
        "np.sqrt(stats.t.interval(confidence, len(squared_errors) - 1,\n",
        "                         loc=squared_errors.mean(),\n",
        "                         scale=stats.sem(squared_errors)))"
      ]
    },
    {
      "cell_type": "markdown",
      "metadata": {
        "id": "fTsy6N8Uytpo"
      },
      "source": [
        "# Great Job!\n",
        "# #shAI_Club"
      ]
    }
  ],
  "metadata": {
    "colab": {
      "provenance": [],
      "include_colab_link": true
    },
    "kernelspec": {
      "display_name": "Python 3",
      "language": "python",
      "name": "python3"
    },
    "language_info": {
      "codemirror_mode": {
        "name": "ipython",
        "version": 3
      },
      "file_extension": ".py",
      "mimetype": "text/x-python",
      "name": "python",
      "nbconvert_exporter": "python",
      "pygments_lexer": "ipython3",
      "version": "3.7.9"
    }
  },
  "nbformat": 4,
  "nbformat_minor": 0
}