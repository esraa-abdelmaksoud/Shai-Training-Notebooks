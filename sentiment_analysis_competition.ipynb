{
  "nbformat": 4,
  "nbformat_minor": 0,
  "metadata": {
    "colab": {
      "provenance": [],
      "gpuType": "T4"
    },
    "kernelspec": {
      "name": "python3",
      "display_name": "Python 3"
    },
    "language_info": {
      "name": "python"
    },
    "gpuClass": "standard",
    "accelerator": "GPU"
  },
  "cells": [
    {
      "cell_type": "code",
      "execution_count": null,
      "metadata": {
        "id": "TbmX7YErnfxM",
        "colab": {
          "base_uri": "https://localhost:8080/"
        },
        "outputId": "fb94f64d-9cb6-4a5f-bd39-0b481ce6ce50"
      },
      "outputs": [
        {
          "output_type": "stream",
          "name": "stdout",
          "text": [
            "Mounted at /content/drive\n"
          ]
        }
      ],
      "source": [
        "from google.colab import drive\n",
        "drive.mount('/content/drive')"
      ]
    },
    {
      "cell_type": "code",
      "execution_count": null,
      "metadata": {
        "id": "5jwJ7rfNNXHH"
      },
      "outputs": [],
      "source": [
        "import numpy as np\n",
        "import pandas as pd\n",
        "import tensorflow as tf\n",
        "import re\n",
        "import seaborn as sns\n",
        "import matplotlib.pyplot as plt\n",
        "from collections import Counter\n",
        "import nltk"
      ]
    },
    {
      "cell_type": "code",
      "source": [
        "!unzip /content/drive/MyDrive/SHAI/shai-training-2023-a-level-2.zip"
      ],
      "metadata": {
        "id": "3T-m9jcT_rTk",
        "colab": {
          "base_uri": "https://localhost:8080/"
        },
        "outputId": "d4d79ccb-ae1f-46b4-e9bc-f5fc72fffc6a"
      },
      "execution_count": null,
      "outputs": [
        {
          "output_type": "stream",
          "name": "stdout",
          "text": [
            "Archive:  /content/drive/MyDrive/SHAI/shai-training-2023-a-level-2.zip\n",
            "  inflating: Test.csv                \n",
            "  inflating: Train.csv               \n",
            "  inflating: Valid.csv               \n",
            "  inflating: sample_submission.csv   \n"
          ]
        }
      ]
    },
    {
      "cell_type": "code",
      "execution_count": null,
      "metadata": {
        "id": "5FF0wBEjISvt"
      },
      "outputs": [],
      "source": [
        "train=pd.read_csv('/content/Train.csv')"
      ]
    },
    {
      "cell_type": "code",
      "source": [
        "valid=pd.read_csv('/content/Valid.csv')"
      ],
      "metadata": {
        "id": "zWiTxeOosztW"
      },
      "execution_count": null,
      "outputs": []
    },
    {
      "cell_type": "code",
      "source": [
        "test=pd.read_csv('/content/Test.csv')"
      ],
      "metadata": {
        "id": "eBS9hAh0uJ44"
      },
      "execution_count": null,
      "outputs": []
    },
    {
      "cell_type": "code",
      "source": [
        "train.shape"
      ],
      "metadata": {
        "colab": {
          "base_uri": "https://localhost:8080/"
        },
        "id": "gg7KF2ghs-Ti",
        "outputId": "48ec009c-748e-4587-9cec-03ccd6c1e222"
      },
      "execution_count": null,
      "outputs": [
        {
          "output_type": "execute_result",
          "data": {
            "text/plain": [
              "(40000, 2)"
            ]
          },
          "metadata": {},
          "execution_count": 7
        }
      ]
    },
    {
      "cell_type": "code",
      "source": [
        "test.shape"
      ],
      "metadata": {
        "id": "XHkaI3KEN4UI",
        "colab": {
          "base_uri": "https://localhost:8080/"
        },
        "outputId": "8acb36e2-216d-4708-91dc-eb73cca3bd1f"
      },
      "execution_count": null,
      "outputs": [
        {
          "output_type": "execute_result",
          "data": {
            "text/plain": [
              "(5000, 3)"
            ]
          },
          "metadata": {},
          "execution_count": 8
        }
      ]
    },
    {
      "cell_type": "code",
      "source": [
        "valid.shape"
      ],
      "metadata": {
        "colab": {
          "base_uri": "https://localhost:8080/"
        },
        "id": "W3WRoMXBs_3U",
        "outputId": "59b557ad-bca0-43c0-fa02-ec2f44c59ead"
      },
      "execution_count": null,
      "outputs": [
        {
          "output_type": "execute_result",
          "data": {
            "text/plain": [
              "(5000, 2)"
            ]
          },
          "metadata": {},
          "execution_count": 9
        }
      ]
    },
    {
      "cell_type": "code",
      "source": [
        "train.head()"
      ],
      "metadata": {
        "id": "ItaS7ivJN4ZI",
        "colab": {
          "base_uri": "https://localhost:8080/",
          "height": 206
        },
        "outputId": "f3885eb1-8f66-4558-b9e7-b29ce71e8088"
      },
      "execution_count": null,
      "outputs": [
        {
          "output_type": "execute_result",
          "data": {
            "text/plain": [
              "                                                text  label\n",
              "0  I grew up (b. 1965) watching and loving the Th...      0\n",
              "1  When I put this movie in my DVD player, and sa...      0\n",
              "2  Why do people who do not know what a particula...      0\n",
              "3  Even though I have great interest in Biblical ...      0\n",
              "4  Im a die hard Dads Army fan and nothing will e...      1"
            ],
            "text/html": [
              "\n",
              "  <div id=\"df-9f967c62-ac3e-4c88-bd65-f1d168b4a848\">\n",
              "    <div class=\"colab-df-container\">\n",
              "      <div>\n",
              "<style scoped>\n",
              "    .dataframe tbody tr th:only-of-type {\n",
              "        vertical-align: middle;\n",
              "    }\n",
              "\n",
              "    .dataframe tbody tr th {\n",
              "        vertical-align: top;\n",
              "    }\n",
              "\n",
              "    .dataframe thead th {\n",
              "        text-align: right;\n",
              "    }\n",
              "</style>\n",
              "<table border=\"1\" class=\"dataframe\">\n",
              "  <thead>\n",
              "    <tr style=\"text-align: right;\">\n",
              "      <th></th>\n",
              "      <th>text</th>\n",
              "      <th>label</th>\n",
              "    </tr>\n",
              "  </thead>\n",
              "  <tbody>\n",
              "    <tr>\n",
              "      <th>0</th>\n",
              "      <td>I grew up (b. 1965) watching and loving the Th...</td>\n",
              "      <td>0</td>\n",
              "    </tr>\n",
              "    <tr>\n",
              "      <th>1</th>\n",
              "      <td>When I put this movie in my DVD player, and sa...</td>\n",
              "      <td>0</td>\n",
              "    </tr>\n",
              "    <tr>\n",
              "      <th>2</th>\n",
              "      <td>Why do people who do not know what a particula...</td>\n",
              "      <td>0</td>\n",
              "    </tr>\n",
              "    <tr>\n",
              "      <th>3</th>\n",
              "      <td>Even though I have great interest in Biblical ...</td>\n",
              "      <td>0</td>\n",
              "    </tr>\n",
              "    <tr>\n",
              "      <th>4</th>\n",
              "      <td>Im a die hard Dads Army fan and nothing will e...</td>\n",
              "      <td>1</td>\n",
              "    </tr>\n",
              "  </tbody>\n",
              "</table>\n",
              "</div>\n",
              "      <button class=\"colab-df-convert\" onclick=\"convertToInteractive('df-9f967c62-ac3e-4c88-bd65-f1d168b4a848')\"\n",
              "              title=\"Convert this dataframe to an interactive table.\"\n",
              "              style=\"display:none;\">\n",
              "        \n",
              "  <svg xmlns=\"http://www.w3.org/2000/svg\" height=\"24px\"viewBox=\"0 0 24 24\"\n",
              "       width=\"24px\">\n",
              "    <path d=\"M0 0h24v24H0V0z\" fill=\"none\"/>\n",
              "    <path d=\"M18.56 5.44l.94 2.06.94-2.06 2.06-.94-2.06-.94-.94-2.06-.94 2.06-2.06.94zm-11 1L8.5 8.5l.94-2.06 2.06-.94-2.06-.94L8.5 2.5l-.94 2.06-2.06.94zm10 10l.94 2.06.94-2.06 2.06-.94-2.06-.94-.94-2.06-.94 2.06-2.06.94z\"/><path d=\"M17.41 7.96l-1.37-1.37c-.4-.4-.92-.59-1.43-.59-.52 0-1.04.2-1.43.59L10.3 9.45l-7.72 7.72c-.78.78-.78 2.05 0 2.83L4 21.41c.39.39.9.59 1.41.59.51 0 1.02-.2 1.41-.59l7.78-7.78 2.81-2.81c.8-.78.8-2.07 0-2.86zM5.41 20L4 18.59l7.72-7.72 1.47 1.35L5.41 20z\"/>\n",
              "  </svg>\n",
              "      </button>\n",
              "      \n",
              "  <style>\n",
              "    .colab-df-container {\n",
              "      display:flex;\n",
              "      flex-wrap:wrap;\n",
              "      gap: 12px;\n",
              "    }\n",
              "\n",
              "    .colab-df-convert {\n",
              "      background-color: #E8F0FE;\n",
              "      border: none;\n",
              "      border-radius: 50%;\n",
              "      cursor: pointer;\n",
              "      display: none;\n",
              "      fill: #1967D2;\n",
              "      height: 32px;\n",
              "      padding: 0 0 0 0;\n",
              "      width: 32px;\n",
              "    }\n",
              "\n",
              "    .colab-df-convert:hover {\n",
              "      background-color: #E2EBFA;\n",
              "      box-shadow: 0px 1px 2px rgba(60, 64, 67, 0.3), 0px 1px 3px 1px rgba(60, 64, 67, 0.15);\n",
              "      fill: #174EA6;\n",
              "    }\n",
              "\n",
              "    [theme=dark] .colab-df-convert {\n",
              "      background-color: #3B4455;\n",
              "      fill: #D2E3FC;\n",
              "    }\n",
              "\n",
              "    [theme=dark] .colab-df-convert:hover {\n",
              "      background-color: #434B5C;\n",
              "      box-shadow: 0px 1px 3px 1px rgba(0, 0, 0, 0.15);\n",
              "      filter: drop-shadow(0px 1px 2px rgba(0, 0, 0, 0.3));\n",
              "      fill: #FFFFFF;\n",
              "    }\n",
              "  </style>\n",
              "\n",
              "      <script>\n",
              "        const buttonEl =\n",
              "          document.querySelector('#df-9f967c62-ac3e-4c88-bd65-f1d168b4a848 button.colab-df-convert');\n",
              "        buttonEl.style.display =\n",
              "          google.colab.kernel.accessAllowed ? 'block' : 'none';\n",
              "\n",
              "        async function convertToInteractive(key) {\n",
              "          const element = document.querySelector('#df-9f967c62-ac3e-4c88-bd65-f1d168b4a848');\n",
              "          const dataTable =\n",
              "            await google.colab.kernel.invokeFunction('convertToInteractive',\n",
              "                                                     [key], {});\n",
              "          if (!dataTable) return;\n",
              "\n",
              "          const docLinkHtml = 'Like what you see? Visit the ' +\n",
              "            '<a target=\"_blank\" href=https://colab.research.google.com/notebooks/data_table.ipynb>data table notebook</a>'\n",
              "            + ' to learn more about interactive tables.';\n",
              "          element.innerHTML = '';\n",
              "          dataTable['output_type'] = 'display_data';\n",
              "          await google.colab.output.renderOutput(dataTable, element);\n",
              "          const docLink = document.createElement('div');\n",
              "          docLink.innerHTML = docLinkHtml;\n",
              "          element.appendChild(docLink);\n",
              "        }\n",
              "      </script>\n",
              "    </div>\n",
              "  </div>\n",
              "  "
            ]
          },
          "metadata": {},
          "execution_count": 8
        }
      ]
    },
    {
      "cell_type": "markdown",
      "source": [
        "#EDA"
      ],
      "metadata": {
        "id": "ly17-B21eQBL"
      }
    },
    {
      "cell_type": "code",
      "source": [
        "from matplotlib import pyplot as plt\n",
        "fig=plt.figure(figsize=(10,7))\n",
        "plt.barh(train['label'].unique(),\n",
        "         train['label'].value_counts(),\n",
        "         color=['red','blue'])\n",
        "plt.title('count label')"
      ],
      "metadata": {
        "id": "cLpj5H4UthZs",
        "colab": {
          "base_uri": "https://localhost:8080/",
          "height": 639
        },
        "outputId": "5fd4233c-a256-4f24-baa8-71b6bd8c0aef"
      },
      "execution_count": null,
      "outputs": [
        {
          "output_type": "execute_result",
          "data": {
            "text/plain": [
              "Text(0.5, 1.0, 'count label')"
            ]
          },
          "metadata": {},
          "execution_count": 9
        },
        {
          "output_type": "display_data",
          "data": {
            "text/plain": [
              "<Figure size 1000x700 with 1 Axes>"
            ],
            "image/png": "[encoded data removed]"
          },
          "metadata": {}
        }
      ]
    },
    {
      "cell_type": "code",
      "source": [
        "def movie_count(data):\n",
        "  count=data.groupby('label').count()\n",
        "  return count"
      ],
      "metadata": {
        "id": "sZdDrS7AcLZV"
      },
      "execution_count": null,
      "outputs": []
    },
    {
      "cell_type": "code",
      "source": [
        "train_count=movie_count(train)\n",
        "train_count"
      ],
      "metadata": {
        "id": "ilhd-seacg0R",
        "colab": {
          "base_uri": "https://localhost:8080/",
          "height": 143
        },
        "outputId": "fcabeef1-6d25-4cd8-d73f-78da491d00d6"
      },
      "execution_count": null,
      "outputs": [
        {
          "output_type": "execute_result",
          "data": {
            "text/plain": [
              "        text\n",
              "label       \n",
              "0      20019\n",
              "1      19981"
            ],
            "text/html": [
              "\n",
              "  <div id=\"df-cd46ea96-d95e-426f-82d4-2dd39217a1e7\">\n",
              "    <div class=\"colab-df-container\">\n",
              "      <div>\n",
              "<style scoped>\n",
              "    .dataframe tbody tr th:only-of-type {\n",
              "        vertical-align: middle;\n",
              "    }\n",
              "\n",
              "    .dataframe tbody tr th {\n",
              "        vertical-align: top;\n",
              "    }\n",
              "\n",
              "    .dataframe thead th {\n",
              "        text-align: right;\n",
              "    }\n",
              "</style>\n",
              "<table border=\"1\" class=\"dataframe\">\n",
              "  <thead>\n",
              "    <tr style=\"text-align: right;\">\n",
              "      <th></th>\n",
              "      <th>text</th>\n",
              "    </tr>\n",
              "    <tr>\n",
              "      <th>label</th>\n",
              "      <th></th>\n",
              "    </tr>\n",
              "  </thead>\n",
              "  <tbody>\n",
              "    <tr>\n",
              "      <th>0</th>\n",
              "      <td>20019</td>\n",
              "    </tr>\n",
              "    <tr>\n",
              "      <th>1</th>\n",
              "      <td>19981</td>\n",
              "    </tr>\n",
              "  </tbody>\n",
              "</table>\n",
              "</div>\n",
              "      <button class=\"colab-df-convert\" onclick=\"convertToInteractive('df-cd46ea96-d95e-426f-82d4-2dd39217a1e7')\"\n",
              "              title=\"Convert this dataframe to an interactive table.\"\n",
              "              style=\"display:none;\">\n",
              "        \n",
              "  <svg xmlns=\"http://www.w3.org/2000/svg\" height=\"24px\"viewBox=\"0 0 24 24\"\n",
              "       width=\"24px\">\n",
              "    <path d=\"M0 0h24v24H0V0z\" fill=\"none\"/>\n",
              "    <path d=\"M18.56 5.44l.94 2.06.94-2.06 2.06-.94-2.06-.94-.94-2.06-.94 2.06-2.06.94zm-11 1L8.5 8.5l.94-2.06 2.06-.94-2.06-.94L8.5 2.5l-.94 2.06-2.06.94zm10 10l.94 2.06.94-2.06 2.06-.94-2.06-.94-.94-2.06-.94 2.06-2.06.94z\"/><path d=\"M17.41 7.96l-1.37-1.37c-.4-.4-.92-.59-1.43-.59-.52 0-1.04.2-1.43.59L10.3 9.45l-7.72 7.72c-.78.78-.78 2.05 0 2.83L4 21.41c.39.39.9.59 1.41.59.51 0 1.02-.2 1.41-.59l7.78-7.78 2.81-2.81c.8-.78.8-2.07 0-2.86zM5.41 20L4 18.59l7.72-7.72 1.47 1.35L5.41 20z\"/>\n",
              "  </svg>\n",
              "      </button>\n",
              "      \n",
              "  <style>\n",
              "    .colab-df-container {\n",
              "      display:flex;\n",
              "      flex-wrap:wrap;\n",
              "      gap: 12px;\n",
              "    }\n",
              "\n",
              "    .colab-df-convert {\n",
              "      background-color: #E8F0FE;\n",
              "      border: none;\n",
              "      border-radius: 50%;\n",
              "      cursor: pointer;\n",
              "      display: none;\n",
              "      fill: #1967D2;\n",
              "      height: 32px;\n",
              "      padding: 0 0 0 0;\n",
              "      width: 32px;\n",
              "    }\n",
              "\n",
              "    .colab-df-convert:hover {\n",
              "      background-color: #E2EBFA;\n",
              "      box-shadow: 0px 1px 2px rgba(60, 64, 67, 0.3), 0px 1px 3px 1px rgba(60, 64, 67, 0.15);\n",
              "      fill: #174EA6;\n",
              "    }\n",
              "\n",
              "    [theme=dark] .colab-df-convert {\n",
              "      background-color: #3B4455;\n",
              "      fill: #D2E3FC;\n",
              "    }\n",
              "\n",
              "    [theme=dark] .colab-df-convert:hover {\n",
              "      background-color: #434B5C;\n",
              "      box-shadow: 0px 1px 3px 1px rgba(0, 0, 0, 0.15);\n",
              "      filter: drop-shadow(0px 1px 2px rgba(0, 0, 0, 0.3));\n",
              "      fill: #FFFFFF;\n",
              "    }\n",
              "  </style>\n",
              "\n",
              "      <script>\n",
              "        const buttonEl =\n",
              "          document.querySelector('#df-cd46ea96-d95e-426f-82d4-2dd39217a1e7 button.colab-df-convert');\n",
              "        buttonEl.style.display =\n",
              "          google.colab.kernel.accessAllowed ? 'block' : 'none';\n",
              "\n",
              "        async function convertToInteractive(key) {\n",
              "          const element = document.querySelector('#df-cd46ea96-d95e-426f-82d4-2dd39217a1e7');\n",
              "          const dataTable =\n",
              "            await google.colab.kernel.invokeFunction('convertToInteractive',\n",
              "                                                     [key], {});\n",
              "          if (!dataTable) return;\n",
              "\n",
              "          const docLinkHtml = 'Like what you see? Visit the ' +\n",
              "            '<a target=\"_blank\" href=https://colab.research.google.com/notebooks/data_table.ipynb>data table notebook</a>'\n",
              "            + ' to learn more about interactive tables.';\n",
              "          element.innerHTML = '';\n",
              "          dataTable['output_type'] = 'display_data';\n",
              "          await google.colab.output.renderOutput(dataTable, element);\n",
              "          const docLink = document.createElement('div');\n",
              "          docLink.innerHTML = docLinkHtml;\n",
              "          element.appendChild(docLink);\n",
              "        }\n",
              "      </script>\n",
              "    </div>\n",
              "  </div>\n",
              "  "
            ]
          },
          "metadata": {},
          "execution_count": 11
        }
      ]
    },
    {
      "cell_type": "code",
      "source": [
        "train_count.plot.barh()\n",
        "plt.title('train count')"
      ],
      "metadata": {
        "id": "TcyRWPWwc6Th",
        "colab": {
          "base_uri": "https://localhost:8080/",
          "height": 469
        },
        "outputId": "91744f4a-e9dd-4cd2-b2a0-a61252a43473"
      },
      "execution_count": null,
      "outputs": [
        {
          "output_type": "execute_result",
          "data": {
            "text/plain": [
              "Text(0.5, 1.0, 'train count')"
            ]
          },
          "metadata": {},
          "execution_count": 12
        },
        {
          "output_type": "display_data",
          "data": {
            "text/plain": [
              "<Figure size 640x480 with 1 Axes>"
            ],
            "image/png": "[encoded data removed]"
          },
          "metadata": {}
        }
      ]
    },
    {
      "cell_type": "markdown",
      "source": [
        "#count of valid "
      ],
      "metadata": {
        "id": "1xZE7NcpdfDR"
      }
    },
    {
      "cell_type": "code",
      "source": [
        "valid_count=movie_count(valid)\n",
        "valid_count"
      ],
      "metadata": {
        "id": "vUNcC6gidhXU",
        "colab": {
          "base_uri": "https://localhost:8080/",
          "height": 143
        },
        "outputId": "5b76513f-8022-441b-99d7-c7f3057c46b6"
      },
      "execution_count": null,
      "outputs": [
        {
          "output_type": "execute_result",
          "data": {
            "text/plain": [
              "       text\n",
              "label      \n",
              "0      2486\n",
              "1      2514"
            ],
            "text/html": [
              "\n",
              "  <div id=\"df-58847f94-0b34-4397-9f3a-a7a923ff501b\">\n",
              "    <div class=\"colab-df-container\">\n",
              "      <div>\n",
              "<style scoped>\n",
              "    .dataframe tbody tr th:only-of-type {\n",
              "        vertical-align: middle;\n",
              "    }\n",
              "\n",
              "    .dataframe tbody tr th {\n",
              "        vertical-align: top;\n",
              "    }\n",
              "\n",
              "    .dataframe thead th {\n",
              "        text-align: right;\n",
              "    }\n",
              "</style>\n",
              "<table border=\"1\" class=\"dataframe\">\n",
              "  <thead>\n",
              "    <tr style=\"text-align: right;\">\n",
              "      <th></th>\n",
              "      <th>text</th>\n",
              "    </tr>\n",
              "    <tr>\n",
              "      <th>label</th>\n",
              "      <th></th>\n",
              "    </tr>\n",
              "  </thead>\n",
              "  <tbody>\n",
              "    <tr>\n",
              "      <th>0</th>\n",
              "      <td>2486</td>\n",
              "    </tr>\n",
              "    <tr>\n",
              "      <th>1</th>\n",
              "      <td>2514</td>\n",
              "    </tr>\n",
              "  </tbody>\n",
              "</table>\n",
              "</div>\n",
              "      <button class=\"colab-df-convert\" onclick=\"convertToInteractive('df-58847f94-0b34-4397-9f3a-a7a923ff501b')\"\n",
              "              title=\"Convert this dataframe to an interactive table.\"\n",
              "              style=\"display:none;\">\n",
              "        \n",
              "  <svg xmlns=\"http://www.w3.org/2000/svg\" height=\"24px\"viewBox=\"0 0 24 24\"\n",
              "       width=\"24px\">\n",
              "    <path d=\"M0 0h24v24H0V0z\" fill=\"none\"/>\n",
              "    <path d=\"M18.56 5.44l.94 2.06.94-2.06 2.06-.94-2.06-.94-.94-2.06-.94 2.06-2.06.94zm-11 1L8.5 8.5l.94-2.06 2.06-.94-2.06-.94L8.5 2.5l-.94 2.06-2.06.94zm10 10l.94 2.06.94-2.06 2.06-.94-2.06-.94-.94-2.06-.94 2.06-2.06.94z\"/><path d=\"M17.41 7.96l-1.37-1.37c-.4-.4-.92-.59-1.43-.59-.52 0-1.04.2-1.43.59L10.3 9.45l-7.72 7.72c-.78.78-.78 2.05 0 2.83L4 21.41c.39.39.9.59 1.41.59.51 0 1.02-.2 1.41-.59l7.78-7.78 2.81-2.81c.8-.78.8-2.07 0-2.86zM5.41 20L4 18.59l7.72-7.72 1.47 1.35L5.41 20z\"/>\n",
              "  </svg>\n",
              "      </button>\n",
              "      \n",
              "  <style>\n",
              "    .colab-df-container {\n",
              "      display:flex;\n",
              "      flex-wrap:wrap;\n",
              "      gap: 12px;\n",
              "    }\n",
              "\n",
              "    .colab-df-convert {\n",
              "      background-color: #E8F0FE;\n",
              "      border: none;\n",
              "      border-radius: 50%;\n",
              "      cursor: pointer;\n",
              "      display: none;\n",
              "      fill: #1967D2;\n",
              "      height: 32px;\n",
              "      padding: 0 0 0 0;\n",
              "      width: 32px;\n",
              "    }\n",
              "\n",
              "    .colab-df-convert:hover {\n",
              "      background-color: #E2EBFA;\n",
              "      box-shadow: 0px 1px 2px rgba(60, 64, 67, 0.3), 0px 1px 3px 1px rgba(60, 64, 67, 0.15);\n",
              "      fill: #174EA6;\n",
              "    }\n",
              "\n",
              "    [theme=dark] .colab-df-convert {\n",
              "      background-color: #3B4455;\n",
              "      fill: #D2E3FC;\n",
              "    }\n",
              "\n",
              "    [theme=dark] .colab-df-convert:hover {\n",
              "      background-color: #434B5C;\n",
              "      box-shadow: 0px 1px 3px 1px rgba(0, 0, 0, 0.15);\n",
              "      filter: drop-shadow(0px 1px 2px rgba(0, 0, 0, 0.3));\n",
              "      fill: #FFFFFF;\n",
              "    }\n",
              "  </style>\n",
              "\n",
              "      <script>\n",
              "        const buttonEl =\n",
              "          document.querySelector('#df-58847f94-0b34-4397-9f3a-a7a923ff501b button.colab-df-convert');\n",
              "        buttonEl.style.display =\n",
              "          google.colab.kernel.accessAllowed ? 'block' : 'none';\n",
              "\n",
              "        async function convertToInteractive(key) {\n",
              "          const element = document.querySelector('#df-58847f94-0b34-4397-9f3a-a7a923ff501b');\n",
              "          const dataTable =\n",
              "            await google.colab.kernel.invokeFunction('convertToInteractive',\n",
              "                                                     [key], {});\n",
              "          if (!dataTable) return;\n",
              "\n",
              "          const docLinkHtml = 'Like what you see? Visit the ' +\n",
              "            '<a target=\"_blank\" href=https://colab.research.google.com/notebooks/data_table.ipynb>data table notebook</a>'\n",
              "            + ' to learn more about interactive tables.';\n",
              "          element.innerHTML = '';\n",
              "          dataTable['output_type'] = 'display_data';\n",
              "          await google.colab.output.renderOutput(dataTable, element);\n",
              "          const docLink = document.createElement('div');\n",
              "          docLink.innerHTML = docLinkHtml;\n",
              "          element.appendChild(docLink);\n",
              "        }\n",
              "      </script>\n",
              "    </div>\n",
              "  </div>\n",
              "  "
            ]
          },
          "metadata": {},
          "execution_count": 13
        }
      ]
    },
    {
      "cell_type": "code",
      "source": [
        "valid_count.plot.barh()"
      ],
      "metadata": {
        "id": "MkhMv798deka",
        "colab": {
          "base_uri": "https://localhost:8080/",
          "height": 447
        },
        "outputId": "c59c5450-0474-4e2b-c09a-c9b3cfe447e9"
      },
      "execution_count": null,
      "outputs": [
        {
          "output_type": "execute_result",
          "data": {
            "text/plain": [
              "<Axes: ylabel='label'>"
            ]
          },
          "metadata": {},
          "execution_count": 14
        },
        {
          "output_type": "display_data",
          "data": {
            "text/plain": [
              "<Figure size 640x480 with 1 Axes>"
            ],
            "image/png": "[encoded data removed]"
          },
          "metadata": {}
        }
      ]
    },
    {
      "cell_type": "markdown",
      "source": [
        "#word_count"
      ],
      "metadata": {
        "id": "PUbTQPkwecIG"
      }
    },
    {
      "cell_type": "code",
      "source": [
        "train['word_count']=train['text'].apply(lambda x:len(x.split(\" \")))\n",
        "train['word_count']"
      ],
      "metadata": {
        "id": "N160CLKvebhZ",
        "colab": {
          "base_uri": "https://localhost:8080/"
        },
        "outputId": "7db042f4-ed5c-44bd-8021-a5e865d862fd"
      },
      "execution_count": null,
      "outputs": [
        {
          "output_type": "execute_result",
          "data": {
            "text/plain": [
              "0        151\n",
              "1        326\n",
              "2        184\n",
              "3         69\n",
              "4        178\n",
              "        ... \n",
              "39995    541\n",
              "39996     50\n",
              "39997    168\n",
              "39998    168\n",
              "39999    137\n",
              "Name: word_count, Length: 40000, dtype: int64"
            ]
          },
          "metadata": {},
          "execution_count": 15
        }
      ]
    },
    {
      "cell_type": "code",
      "source": [
        "train['word_count'].describe()"
      ],
      "metadata": {
        "id": "COCdwXn_gKfF",
        "colab": {
          "base_uri": "https://localhost:8080/"
        },
        "outputId": "071fd3c7-6d1a-498c-a2c3-4a4c9aa1c2be"
      },
      "execution_count": null,
      "outputs": [
        {
          "output_type": "execute_result",
          "data": {
            "text/plain": [
              "count    40000.000000\n",
              "mean       231.328975\n",
              "std        171.178333\n",
              "min          4.000000\n",
              "25%        126.000000\n",
              "50%        173.000000\n",
              "75%        282.000000\n",
              "max       2470.000000\n",
              "Name: word_count, dtype: float64"
            ]
          },
          "metadata": {},
          "execution_count": 16
        }
      ]
    },
    {
      "cell_type": "markdown",
      "source": [
        "#char_count"
      ],
      "metadata": {
        "id": "EEuD3l4dgWpr"
      }
    },
    {
      "cell_type": "code",
      "source": [
        "train['char_count']=train['text'].apply(len)\n",
        "train['char_count']"
      ],
      "metadata": {
        "id": "DEYgHl9DgWMf",
        "colab": {
          "base_uri": "https://localhost:8080/"
        },
        "outputId": "0d300e67-c2ac-468d-eecf-a57fad0a23aa"
      },
      "execution_count": null,
      "outputs": [
        {
          "output_type": "execute_result",
          "data": {
            "text/plain": [
              "0         874\n",
              "1        1811\n",
              "2         983\n",
              "3         351\n",
              "4         983\n",
              "         ... \n",
              "39995    3111\n",
              "39996     291\n",
              "39997    1092\n",
              "39998    1045\n",
              "39999     727\n",
              "Name: char_count, Length: 40000, dtype: int64"
            ]
          },
          "metadata": {},
          "execution_count": 17
        }
      ]
    },
    {
      "cell_type": "code",
      "source": [
        "train['char_count'].describe()"
      ],
      "metadata": {
        "id": "s-DivH5_gk2u",
        "colab": {
          "base_uri": "https://localhost:8080/"
        },
        "outputId": "a854ef60-2c7e-42d7-86af-142fbec1a8e0"
      },
      "execution_count": null,
      "outputs": [
        {
          "output_type": "execute_result",
          "data": {
            "text/plain": [
              "count    40000.000000\n",
              "mean      1310.293250\n",
              "std        988.358599\n",
              "min         32.000000\n",
              "25%        698.000000\n",
              "50%        973.000000\n",
              "75%       1596.000000\n",
              "max      13704.000000\n",
              "Name: char_count, dtype: float64"
            ]
          },
          "metadata": {},
          "execution_count": 18
        }
      ]
    },
    {
      "cell_type": "markdown",
      "source": [
        "#vocab"
      ],
      "metadata": {
        "id": "6ekDQI7bgzqN"
      }
    },
    {
      "cell_type": "code",
      "source": [
        "vocab=[word for text in train['text'] for word in text.split(\" \")]\n",
        "vocab=Counter(vocab)"
      ],
      "metadata": {
        "id": "hZg7TeaBg1BC"
      },
      "execution_count": null,
      "outputs": []
    },
    {
      "cell_type": "markdown",
      "source": [
        "#least common"
      ],
      "metadata": {
        "id": "7AaAikGAo9IF"
      }
    },
    {
      "cell_type": "code",
      "source": [
        "vocab.most_common()[:-10]"
      ],
      "metadata": {
        "id": "57nkdhXMgzR3",
        "colab": {
          "base_uri": "https://localhost:8080/"
        },
        "outputId": "cef48ab6-50aa-4a2d-8181-142070984ce0"
      },
      "execution_count": null,
      "outputs": [
        {
          "output_type": "execute_result",
          "data": {
            "text/plain": [
              "[('the', 454993),\n",
              " ('a', 246017),\n",
              " ('and', 242020),\n",
              " ('of', 226960),\n",
              " ('to', 209658),\n",
              " ('is', 162520),\n",
              " ('in', 135736),\n",
              " ('I', 106137),\n",
              " ('that', 101520),\n",
              " ('this', 91009),\n",
              " ('it', 86574),\n",
              " ('/><br', 80731),\n",
              " ('was', 74145),\n",
              " ('as', 66676),\n",
              " ('with', 65924),\n",
              " ('for', 64868),\n",
              " ('The', 53803),\n",
              " ('but', 53203),\n",
              " ('on', 48932),\n",
              " ('movie', 48764),\n",
              " ('are', 45121),\n",
              " ('have', 43348),\n",
              " ('film', 43320),\n",
              " ('his', 43094),\n",
              " ('not', 41672),\n",
              " ('you', 40940),\n",
              " ('be', 40431),\n",
              " ('at', 33972),\n",
              " ('by', 33712),\n",
              " ('he', 33550),\n",
              " ('one', 33087),\n",
              " ('an', 32890),\n",
              " ('from', 30458),\n",
              " ('who', 29869),\n",
              " ('like', 28925),\n",
              " ('all', 28222),\n",
              " ('they', 28079),\n",
              " ('just', 25995),\n",
              " ('has', 25966),\n",
              " ('so', 25890),\n",
              " ('or', 25863),\n",
              " ('about', 25776),\n",
              " ('her', 23871),\n",
              " ('out', 23025),\n",
              " ('some', 22502),\n",
              " ('very', 20573),\n",
              " ('more', 20349),\n",
              " ('This', 19533),\n",
              " ('would', 18856),\n",
              " ('what', 18603),\n",
              " ('good', 18180),\n",
              " ('when', 18084),\n",
              " ('if', 17639),\n",
              " ('their', 17447),\n",
              " ('only', 17372),\n",
              " ('It', 17276),\n",
              " ('really', 17130),\n",
              " ('had', 17109),\n",
              " ('up', 16929),\n",
              " ('even', 16862),\n",
              " (\"it's\", 16713),\n",
              " ('can', 16644),\n",
              " ('which', 16590),\n",
              " ('were', 16490),\n",
              " ('see', 16252),\n",
              " ('my', 16223),\n",
              " ('no', 16064),\n",
              " ('than', 15185),\n",
              " ('she', 15089),\n",
              " ('-', 14757),\n",
              " ('there', 14460),\n",
              " ('been', 14380),\n",
              " ('into', 14062),\n",
              " ('get', 13931),\n",
              " ('will', 13637),\n",
              " ('much', 13462),\n",
              " ('story', 13135),\n",
              " ('because', 13104),\n",
              " ('other', 12623),\n",
              " ('most', 12430),\n",
              " ('time', 12265),\n",
              " ('we', 12116),\n",
              " ('me', 12096),\n",
              " ('make', 11956),\n",
              " ('also', 11825),\n",
              " ('could', 11791),\n",
              " ('do', 11772),\n",
              " ('how', 11759),\n",
              " ('people', 11563),\n",
              " ('/>The', 11546),\n",
              " ('great', 11513),\n",
              " ('its', 11444),\n",
              " ('any', 11387),\n",
              " ('first', 11366),\n",
              " (\"don't\", 11147),\n",
              " ('made', 10628),\n",
              " ('think', 10441),\n",
              " ('bad', 10253),\n",
              " ('him', 10024),\n",
              " ('being', 9851),\n",
              " ('many', 9669),\n",
              " ('never', 9622),\n",
              " ('<br', 9600),\n",
              " ('then', 9564),\n",
              " ('two', 9174),\n",
              " ('too', 9170),\n",
              " ('where', 9110),\n",
              " ('But', 9081),\n",
              " ('little', 9071),\n",
              " ('after', 8991),\n",
              " ('way', 8907),\n",
              " ('it.', 8861),\n",
              " ('And', 8828),\n",
              " ('your', 8754),\n",
              " ('them', 8744),\n",
              " ('well', 8616),\n",
              " ('know', 8539),\n",
              " ('watch', 8523),\n",
              " ('movie.', 8502),\n",
              " ('seen', 8500),\n",
              " ('did', 8400),\n",
              " ('does', 8385),\n",
              " ('characters', 8383),\n",
              " ('character', 8272),\n",
              " (\"It's\", 8155),\n",
              " ('love', 8143),\n",
              " ('movies', 8101),\n",
              " ('ever', 7937),\n",
              " ('best', 7914),\n",
              " ('A', 7678),\n",
              " ('still', 7573),\n",
              " ('films', 7572),\n",
              " ('over', 7556),\n",
              " ('In', 7526),\n",
              " ('plot', 7457),\n",
              " ('i', 7430),\n",
              " ('should', 7400),\n",
              " ('acting', 7385),\n",
              " ('these', 7293),\n",
              " ('such', 7277),\n",
              " ('show', 7266),\n",
              " ('off', 7177),\n",
              " ('He', 7135),\n",
              " ('better', 7108),\n",
              " ('film.', 7033),\n",
              " ('If', 7021),\n",
              " ('those', 6983),\n",
              " ('say', 6965),\n",
              " (\"doesn't\", 6887),\n",
              " ('through', 6785),\n",
              " ('something', 6737),\n",
              " ('go', 6702),\n",
              " (\"didn't\", 6650),\n",
              " ('scene', 6540),\n",
              " ('makes', 6536),\n",
              " ('film,', 6485),\n",
              " ('movie,', 6371),\n",
              " ('find', 6336),\n",
              " (\"I'm\", 6309),\n",
              " ('There', 6288),\n",
              " ('watching', 6236),\n",
              " ('real', 6226),\n",
              " ('back', 6161),\n",
              " ('actually', 6156),\n",
              " ('scenes', 6135),\n",
              " ('few', 6071),\n",
              " ('going', 6051),\n",
              " ('same', 5970),\n",
              " ('/>I', 5928),\n",
              " ('life', 5803),\n",
              " ('lot', 5802),\n",
              " ('look', 5771),\n",
              " ('&', 5634),\n",
              " ('thing', 5614),\n",
              " ('while', 5612),\n",
              " ('quite', 5581),\n",
              " ('every', 5540),\n",
              " ('want', 5523),\n",
              " ('seems', 5450),\n",
              " ('end', 5438),\n",
              " ('why', 5409),\n",
              " ('pretty', 5400),\n",
              " (\"can't\", 5337),\n",
              " ('man', 5332),\n",
              " ('old', 5285),\n",
              " ('got', 5279),\n",
              " ('nothing', 5267),\n",
              " ('actors', 5236),\n",
              " ('another', 5166),\n",
              " ('give', 5101),\n",
              " ('years', 5093),\n",
              " ('before', 5079),\n",
              " ('take', 5029),\n",
              " ('between', 5001),\n",
              " ('part', 4970),\n",
              " ('thought', 4942),\n",
              " ('it,', 4866),\n",
              " ('gets', 4855),\n",
              " ('may', 4846),\n",
              " ('around', 4845),\n",
              " (\"I've\", 4766),\n",
              " ('things', 4732),\n",
              " ('young', 4727),\n",
              " ('saw', 4695),\n",
              " (\"isn't\", 4691),\n",
              " ('without', 4648),\n",
              " ('always', 4636),\n",
              " ('almost', 4624),\n",
              " ('whole', 4592),\n",
              " ('must', 4576),\n",
              " ('down', 4527),\n",
              " ('work', 4525),\n",
              " ('might', 4508),\n",
              " ('own', 4501),\n",
              " ('both', 4459),\n",
              " ('They', 4436),\n",
              " ('us', 4406),\n",
              " ('cast', 4402),\n",
              " ('horror', 4352),\n",
              " ('come', 4345),\n",
              " ('new', 4324),\n",
              " ('enough', 4316),\n",
              " ('am', 4294),\n",
              " ('bit', 4290),\n",
              " ('least', 4286),\n",
              " ('big', 4279),\n",
              " ('though', 4276),\n",
              " ('director', 4257),\n",
              " ('feel', 4251),\n",
              " ('here', 4192),\n",
              " ('probably', 4132),\n",
              " ('As', 4024),\n",
              " ('kind', 4016),\n",
              " ('funny', 4011),\n",
              " ('found', 3983),\n",
              " ('far', 3983),\n",
              " ('fact', 3983),\n",
              " ('last', 3957),\n",
              " ('long', 3935),\n",
              " ('rather', 3913),\n",
              " ('\"The', 3906),\n",
              " ('original', 3896),\n",
              " (\"that's\", 3880),\n",
              " ('since', 3795),\n",
              " ('each', 3781),\n",
              " ('anything', 3773),\n",
              " ('trying', 3755),\n",
              " ('done', 3743),\n",
              " ('You', 3734),\n",
              " ('comes', 3727),\n",
              " ('now', 3723),\n",
              " ('interesting', 3708),\n",
              " ('What', 3675),\n",
              " ('our', 3657),\n",
              " ('making', 3645),\n",
              " ('action', 3627),\n",
              " ('worst', 3612),\n",
              " ('guy', 3598),\n",
              " ('main', 3584),\n",
              " (\"he's\", 3584),\n",
              " ('played', 3582),\n",
              " ('believe', 3573),\n",
              " ('put', 3562),\n",
              " ('right', 3561),\n",
              " ('music', 3532),\n",
              " ('/>This', 3521),\n",
              " ('She', 3505),\n",
              " ('point', 3480),\n",
              " ('role', 3459),\n",
              " ('goes', 3455),\n",
              " ('worth', 3415),\n",
              " ('looks', 3394),\n",
              " (\"wasn't\", 3392),\n",
              " ('series', 3386),\n",
              " ('looking', 3381),\n",
              " ('watched', 3373),\n",
              " ('seem', 3352),\n",
              " ('having', 3350),\n",
              " ('plays', 3331),\n",
              " ('minutes', 3324),\n",
              " ('anyone', 3318),\n",
              " ('hard', 3301),\n",
              " ('TV', 3293),\n",
              " ('takes', 3282),\n",
              " ('When', 3277),\n",
              " ('script', 3263),\n",
              " ('world', 3253),\n",
              " ('performance', 3252),\n",
              " ('shows', 3227),\n",
              " ('especially', 3200),\n",
              " ('different', 3200),\n",
              " ('family', 3164),\n",
              " ('during', 3163),\n",
              " ('away', 3128),\n",
              " ('time.', 3096),\n",
              " ('times', 3086),\n",
              " ('someone', 3075),\n",
              " ('yet', 3068),\n",
              " ('comedy', 3046),\n",
              " ('sure', 3035),\n",
              " ('set', 3031),\n",
              " ('three', 3029),\n",
              " ('woman', 3020),\n",
              " ('left', 3007),\n",
              " ('American', 2972),\n",
              " (\"there's\", 2951),\n",
              " ('fun', 2916),\n",
              " ('girl', 2887),\n",
              " ('completely', 2860),\n",
              " ('used', 2856),\n",
              " ('seeing', 2854),\n",
              " ('simply', 2832),\n",
              " ('play', 2832),\n",
              " (\"you're\", 2814),\n",
              " ('John', 2794),\n",
              " ('One', 2771),\n",
              " ('reason', 2757),\n",
              " ('special', 2752),\n",
              " ('--', 2734),\n",
              " ('everything', 2729),\n",
              " ('For', 2724),\n",
              " ('Not', 2707),\n",
              " ('read', 2693),\n",
              " ('true', 2691),\n",
              " ('use', 2673),\n",
              " ('sense', 2673),\n",
              " ('So', 2660),\n",
              " ('need', 2650),\n",
              " ('idea', 2646),\n",
              " ('again', 2629),\n",
              " ('DVD', 2622),\n",
              " ('help', 2598),\n",
              " ('until', 2591),\n",
              " ('recommend', 2589),\n",
              " ('truly', 2566),\n",
              " ('given', 2565),\n",
              " ('place', 2542),\n",
              " ('beautiful', 2531),\n",
              " ('try', 2527),\n",
              " ('rest', 2526),\n",
              " ('nice', 2519),\n",
              " ('ending', 2517),\n",
              " ('came', 2513),\n",
              " ('getting', 2508),\n",
              " ('couple', 2503),\n",
              " ('job', 2503),\n",
              " ('version', 2485),\n",
              " ('once', 2485),\n",
              " ('We', 2471),\n",
              " ('everyone', 2466),\n",
              " ('high', 2463),\n",
              " ('keep', 2448),\n",
              " ('less', 2446),\n",
              " ('said', 2442),\n",
              " ('tell', 2434),\n",
              " ('effects', 2422),\n",
              " ('shot', 2416),\n",
              " ('money', 2412),\n",
              " ('gives', 2399),\n",
              " ('understand', 2394),\n",
              " ('half', 2393),\n",
              " ('actor', 2392),\n",
              " ('enjoy', 2391),\n",
              " ('That', 2389),\n",
              " ('All', 2377),\n",
              " ('audience', 2375),\n",
              " ('My', 2373),\n",
              " ('excellent', 2352),\n",
              " ('fan', 2349),\n",
              " ('himself', 2343),\n",
              " ('poor', 2334),\n",
              " ('second', 2331),\n",
              " ('along', 2323),\n",
              " ('playing', 2323),\n",
              " (\"couldn't\", 2314),\n",
              " ('went', 2305),\n",
              " ('full', 2291),\n",
              " ('small', 2279),\n",
              " ('entire', 2274),\n",
              " ('early', 2273),\n",
              " ('screen', 2266),\n",
              " ('liked', 2261),\n",
              " ('(and', 2261),\n",
              " ('THE', 2260),\n",
              " ('felt', 2258),\n",
              " ('start', 2255),\n",
              " ('become', 2252),\n",
              " ('all,', 2248),\n",
              " ('supposed', 2248),\n",
              " ('2', 2226),\n",
              " ('let', 2215),\n",
              " ('doing', 2215),\n",
              " ('short', 2215),\n",
              " ('together', 2212),\n",
              " ('definitely', 2211),\n",
              " ('However,', 2206),\n",
              " ('absolutely', 2200),\n",
              " ('book', 2193),\n",
              " ('remember', 2186),\n",
              " ('sort', 2173),\n",
              " ('seemed', 2162),\n",
              " ('wife', 2159),\n",
              " ('certainly', 2159),\n",
              " ('Hollywood', 2151),\n",
              " ('often', 2146),\n",
              " ('is,', 2137),\n",
              " ('piece', 2137),\n",
              " ('maybe', 2136),\n",
              " ('Even', 2131),\n",
              " ('10', 2129),\n",
              " ('At', 2128),\n",
              " ('time,', 2124),\n",
              " ('next', 2117),\n",
              " ('several', 2116),\n",
              " ('After', 2113),\n",
              " ('loved', 2107),\n",
              " ('human', 2107),\n",
              " ('black', 2100),\n",
              " ('.', 2092),\n",
              " ('becomes', 2086),\n",
              " ('later', 2077),\n",
              " ('against', 2075),\n",
              " ('kids', 2073),\n",
              " ('totally', 2067),\n",
              " ('day', 2067),\n",
              " ('year', 2066),\n",
              " ('else', 2065),\n",
              " ('wanted', 2048),\n",
              " ('waste', 2047),\n",
              " ('His', 2046),\n",
              " ('course', 2032),\n",
              " ('able', 2031),\n",
              " ('camera', 2029),\n",
              " ('men', 2017),\n",
              " ('production', 2015),\n",
              " ('although', 2014),\n",
              " ('them.', 2009),\n",
              " ('instead', 1981),\n",
              " ('performances', 1974),\n",
              " ('To', 1971),\n",
              " ('wonderful', 1958),\n",
              " ('friends', 1957),\n",
              " ('classic', 1929),\n",
              " ('wants', 1928),\n",
              " ('that,', 1927),\n",
              " ('person', 1921),\n",
              " ('hope', 1920),\n",
              " ('live', 1915),\n",
              " ('called', 1913),\n",
              " ('top', 1907),\n",
              " ('home', 1904),\n",
              " ('women', 1902),\n",
              " ('line', 1897),\n",
              " ('video', 1891),\n",
              " ('gave', 1890),\n",
              " ('tries', 1887),\n",
              " (\"I'd\", 1879),\n",
              " ('name', 1877),\n",
              " ('\\x96', 1876),\n",
              " ('perfect', 1874),\n",
              " (\"won't\", 1871),\n",
              " ('based', 1870),\n",
              " ('mind', 1868),\n",
              " ('final', 1860),\n",
              " ('lead', 1860),\n",
              " ('low', 1860),\n",
              " ('one.', 1853),\n",
              " ('already', 1850),\n",
              " ('story,', 1845),\n",
              " ('stupid', 1825),\n",
              " ('care', 1821),\n",
              " ('budget', 1819),\n",
              " ('enjoyed', 1815),\n",
              " ('school', 1814),\n",
              " ('sex', 1813),\n",
              " ('turn', 1806),\n",
              " ('this,', 1799),\n",
              " ('turns', 1789),\n",
              " ('sound', 1786),\n",
              " ('under', 1785),\n",
              " ('this.', 1784),\n",
              " ('(the', 1783),\n",
              " ('him.', 1781),\n",
              " ('mean', 1780),\n",
              " ('took', 1773),\n",
              " ('moments', 1773),\n",
              " (\"you'll\", 1769),\n",
              " ('While', 1742),\n",
              " ('lines', 1741),\n",
              " ('father', 1740),\n",
              " ('face', 1738),\n",
              " ('guess', 1731),\n",
              " ('problem', 1727),\n",
              " ('starts', 1725),\n",
              " ('finally', 1722),\n",
              " ('death', 1721),\n",
              " ('No', 1720),\n",
              " ('either', 1716),\n",
              " ('lost', 1715),\n",
              " ('well.', 1711),\n",
              " ('episode', 1709),\n",
              " ('Of', 1708),\n",
              " ('written', 1701),\n",
              " ('behind', 1686),\n",
              " ('favorite', 1683),\n",
              " ('me,', 1682),\n",
              " ('itself', 1680),\n",
              " ('title', 1672),\n",
              " ('me.', 1668),\n",
              " ('Michael', 1668),\n",
              " ('head', 1666),\n",
              " (\"they're\", 1666),\n",
              " ('New', 1664),\n",
              " ('story.', 1652),\n",
              " ('night', 1652),\n",
              " ('boring', 1651),\n",
              " ('Some', 1632),\n",
              " ('lack', 1631),\n",
              " ('dialogue', 1629),\n",
              " ('friend', 1626),\n",
              " ('cannot', 1622),\n",
              " ('looked', 1620),\n",
              " ('heard', 1611),\n",
              " ('all.', 1610),\n",
              " ('extremely', 1609),\n",
              " (\"she's\", 1608),\n",
              " ('terrible', 1607),\n",
              " ('beginning', 1600),\n",
              " ('kill', 1592),\n",
              " ('guys', 1590),\n",
              " ('good.', 1584),\n",
              " ('war', 1583),\n",
              " ('expect', 1580),\n",
              " ('laugh', 1574),\n",
              " ('fine', 1572),\n",
              " ('/>In', 1572),\n",
              " ('attempt', 1568),\n",
              " ('Mr.', 1568),\n",
              " ('style', 1565),\n",
              " ('well,', 1562),\n",
              " (\"There's\", 1562),\n",
              " ('taken', 1561),\n",
              " ('group', 1558),\n",
              " ('stars', 1556),\n",
              " ('How', 1555),\n",
              " (\"wouldn't\", 1554),\n",
              " ('good,', 1553),\n",
              " ('life.', 1545),\n",
              " ('perhaps', 1545),\n",
              " ('quality', 1544),\n",
              " ('complete', 1538),\n",
              " (\"film's\", 1537),\n",
              " ('lives', 1534),\n",
              " ('decent', 1533),\n",
              " ('wrong', 1528),\n",
              " ('late', 1518),\n",
              " ('entertaining', 1516),\n",
              " ('With', 1515),\n",
              " ('works', 1513),\n",
              " ('feeling', 1510),\n",
              " ('case', 1509),\n",
              " ('highly', 1508),\n",
              " ('house', 1504),\n",
              " ('others', 1500),\n",
              " ('star', 1499),\n",
              " ('obviously', 1498),\n",
              " ('particularly', 1491),\n",
              " ('/>It', 1490),\n",
              " ('mother', 1489),\n",
              " ('run', 1487),\n",
              " ('fans', 1486),\n",
              " ('3', 1483),\n",
              " ('exactly', 1479),\n",
              " ('Then', 1479),\n",
              " ('movies,', 1477),\n",
              " ('course,', 1476),\n",
              " ('leave', 1476),\n",
              " ('Just', 1476),\n",
              " ('Why', 1474),\n",
              " ('type', 1472),\n",
              " ('throughout', 1471),\n",
              " ('shown', 1470),\n",
              " ('writing', 1466),\n",
              " ('whose', 1465),\n",
              " ('/>If', 1460),\n",
              " ('directed', 1457),\n",
              " ('save', 1456),\n",
              " ('across', 1455),\n",
              " ('says', 1452),\n",
              " ('movies.', 1450),\n",
              " ('wonder', 1448),\n",
              " ('told', 1446),\n",
              " ('fight', 1446),\n",
              " ('viewer', 1440),\n",
              " ('however,', 1439),\n",
              " ('films,', 1433),\n",
              " ('thinking', 1433),\n",
              " ('awful', 1432),\n",
              " ('opening', 1431),\n",
              " ('boy', 1419),\n",
              " ('known', 1410),\n",
              " ('car', 1408),\n",
              " (',', 1406),\n",
              " ('acting,', 1405),\n",
              " ('knew', 1401),\n",
              " ('turned', 1400),\n",
              " ('coming', 1400),\n",
              " ('stop', 1399),\n",
              " ('parts', 1399),\n",
              " ('finds', 1395),\n",
              " ('worse', 1395),\n",
              " ('game', 1395),\n",
              " ('picture', 1394),\n",
              " ('killed', 1393),\n",
              " ('close', 1390),\n",
              " ('local', 1388),\n",
              " ('Robert', 1387),\n",
              " ('somewhat', 1387),\n",
              " ('huge', 1385),\n",
              " ('despite', 1384),\n",
              " ('dead', 1380),\n",
              " ('taking', 1380),\n",
              " ('matter', 1378),\n",
              " ('happens', 1374),\n",
              " ('wish', 1373),\n",
              " ('myself', 1373),\n",
              " ('David', 1373),\n",
              " ('amazing', 1372),\n",
              " ('obvious', 1367),\n",
              " ('act', 1366),\n",
              " ('number', 1362),\n",
              " ('running', 1361),\n",
              " ('past', 1356),\n",
              " ('started', 1345),\n",
              " ('tells', 1344),\n",
              " ('side', 1343),\n",
              " ('it.<br', 1342),\n",
              " ('James', 1341),\n",
              " ('usually', 1341),\n",
              " ('serious', 1338),\n",
              " ('soon', 1336),\n",
              " ('except', 1336),\n",
              " ('that.', 1333),\n",
              " ('dark', 1330),\n",
              " ('characters,', 1329),\n",
              " ('brilliant', 1328),\n",
              " ('sometimes', 1325),\n",
              " ('call', 1324),\n",
              " ('female', 1324),\n",
              " ('humor', 1319),\n",
              " ('strong', 1319),\n",
              " ('evil', 1317),\n",
              " ('fact,', 1315),\n",
              " ('children', 1312),\n",
              " (\"aren't\", 1312),\n",
              " ('direction', 1311),\n",
              " ('single', 1306),\n",
              " ('white', 1306),\n",
              " ('Well,', 1305),\n",
              " (\"Don't\", 1304),\n",
              " ('horrible', 1303),\n",
              " ('hour', 1303),\n",
              " ('involved', 1302),\n",
              " ('including', 1295),\n",
              " ('way,', 1294),\n",
              " ('hit', 1293),\n",
              " ('bad.', 1289),\n",
              " ('order', 1288),\n",
              " ('killer', 1280),\n",
              " ('saying', 1279),\n",
              " ('living', 1278),\n",
              " ('voice', 1276),\n",
              " ('giving', 1275),\n",
              " ('drama', 1271),\n",
              " ('due', 1270),\n",
              " ('son', 1266),\n",
              " ('seen.', 1265),\n",
              " ('relationship', 1265),\n",
              " ('/>There', 1264),\n",
              " ('British', 1263),\n",
              " ('here.', 1261),\n",
              " ('major', 1259),\n",
              " ('mostly', 1257),\n",
              " ('out.', 1255),\n",
              " ('end,', 1252),\n",
              " ('ends', 1249),\n",
              " ('talking', 1249),\n",
              " ('girls', 1248),\n",
              " ('themselves', 1244),\n",
              " ('bad,', 1238),\n",
              " ('beyond', 1237),\n",
              " (\"I'll\", 1236),\n",
              " ('clearly', 1236),\n",
              " ('town', 1232),\n",
              " ('released', 1230),\n",
              " (\"haven't\", 1225),\n",
              " ('chance', 1223),\n",
              " ('knows', 1221),\n",
              " ('supporting', 1221),\n",
              " ('stuff', 1220),\n",
              " ('bring', 1219),\n",
              " ('again.', 1210),\n",
              " ('appears', 1210),\n",
              " ('stories', 1206),\n",
              " ('simple', 1205),\n",
              " ('falls', 1205),\n",
              " ('actress', 1203),\n",
              " ('certain', 1202),\n",
              " ('upon', 1201),\n",
              " ('important', 1201),\n",
              " ('police', 1200),\n",
              " ('one,', 1199),\n",
              " ('similar', 1197),\n",
              " ('films.', 1196),\n",
              " ('end.', 1195),\n",
              " ('moment', 1195),\n",
              " ('again,', 1194),\n",
              " ('needs', 1192),\n",
              " ('eyes', 1192),\n",
              " ('On', 1191),\n",
              " ('example', 1190),\n",
              " ('feels', 1186),\n",
              " ('him,', 1186),\n",
              " ('cut', 1185),\n",
              " ('and,', 1185),\n",
              " ('cinema', 1183),\n",
              " ('English', 1182),\n",
              " ('is.', 1182),\n",
              " ('Although', 1181),\n",
              " ('showing', 1178),\n",
              " ('modern', 1175),\n",
              " ('kept', 1175),\n",
              " ('tried', 1175),\n",
              " ('score', 1174),\n",
              " ('kid', 1173),\n",
              " ('plot,', 1172),\n",
              " ('change', 1170),\n",
              " ('actual', 1168),\n",
              " ('musical', 1165),\n",
              " (\"That's\", 1163),\n",
              " ('mention', 1163),\n",
              " ('here,', 1163),\n",
              " ('easily', 1160),\n",
              " ('happened', 1159),\n",
              " ('her.', 1155),\n",
              " ('way.', 1153),\n",
              " ('named', 1150),\n",
              " ('fall', 1149),\n",
              " ('movie.<br', 1148),\n",
              " ('/>But', 1144),\n",
              " ('bunch', 1140),\n",
              " ('child', 1138),\n",
              " ('near', 1138),\n",
              " ('brought', 1136),\n",
              " ('Jack', 1135),\n",
              " ('heart', 1133),\n",
              " ('comic', 1131),\n",
              " ('nearly', 1130),\n",
              " ('shots', 1129),\n",
              " ('using', 1128),\n",
              " ('within', 1127),\n",
              " ('typical', 1125),\n",
              " ('interest', 1121),\n",
              " ('history', 1120),\n",
              " ('film.<br', 1120),\n",
              " ('life,', 1119),\n",
              " ('song', 1116),\n",
              " ('/>A', 1115),\n",
              " ('slow', 1115),\n",
              " ('whether', 1109),\n",
              " ('four', 1107),\n",
              " ('days', 1106),\n",
              " ('daughter', 1103),\n",
              " ('George', 1103),\n",
              " ('decided', 1101),\n",
              " ('yourself', 1101),\n",
              " ('cheap', 1101),\n",
              " ('usual', 1100),\n",
              " ('romantic', 1099),\n",
              " ('working', 1098),\n",
              " ('/>As', 1098),\n",
              " ('on.', 1094),\n",
              " ('Now', 1094),\n",
              " ('too.', 1090),\n",
              " ('greatest', 1090),\n",
              " ('art', 1088),\n",
              " ('happen', 1087),\n",
              " ('jokes', 1086),\n",
              " ('hours', 1085),\n",
              " ('hate', 1085),\n",
              " ('strange', 1085),\n",
              " ('(I', 1082),\n",
              " ('surprised', 1081),\n",
              " ('Maybe', 1080),\n",
              " ('sad', 1079),\n",
              " ('among', 1079),\n",
              " ('events', 1078),\n",
              " ('basically', 1074),\n",
              " ('buy', 1068),\n",
              " ('stay', 1062),\n",
              " ('From', 1062),\n",
              " ('experience', 1060),\n",
              " ('none', 1058),\n",
              " ('funny.', 1057),\n",
              " ('above', 1054),\n",
              " ('body', 1053),\n",
              " ('flick', 1052),\n",
              " ('middle', 1052),\n",
              " ('silly', 1051),\n",
              " ('became', 1050),\n",
              " ('them,', 1050),\n",
              " ('sit', 1050),\n",
              " ('annoying', 1050),\n",
              " ('add', 1049),\n",
              " ('characters.', 1048),\n",
              " ('5', 1046),\n",
              " ('hear', 1046),\n",
              " ('learn', 1045),\n",
              " ('lots', 1045),\n",
              " ('happy', 1042),\n",
              " ('murder', 1038),\n",
              " ('(as', 1036),\n",
              " ('French', 1035),\n",
              " ('easy', 1034),\n",
              " ('word', 1032),\n",
              " ('clear', 1031),\n",
              " ('sets', 1031),\n",
              " ('sequence', 1031),\n",
              " ('view', 1028),\n",
              " ('famous', 1028),\n",
              " ('begins', 1026),\n",
              " ('cool', 1023),\n",
              " ('(which', 1022),\n",
              " ('five', 1022),\n",
              " ('killing', 1022),\n",
              " ('attention', 1020),\n",
              " ('deal', 1016),\n",
              " ('documentary', 1016),\n",
              " ('/>And', 1016),\n",
              " ('genre', 1015),\n",
              " ('talent', 1013),\n",
              " ('cinematography', 1013),\n",
              " (\"you've\", 1012),\n",
              " ('means', 1009),\n",
              " ('light', 1007),\n",
              " ('talk', 1007),\n",
              " ('reality', 1007),\n",
              " ('meets', 1006),\n",
              " ('/>', 1005),\n",
              " ('Her', 1003),\n",
              " ('ten', 1002),\n",
              " ('doubt', 1000),\n",
              " ('episodes', 998),\n",
              " ('leaves', 998),\n",
              " ('emotional', 996),\n",
              " ('keeps', 995),\n",
              " ('Is', 994),\n",
              " ('husband', 993),\n",
              " ('ones', 993),\n",
              " ('funny,', 993),\n",
              " ('These', 991),\n",
              " ('filmed', 989),\n",
              " ('Peter', 989),\n",
              " ('character,', 989),\n",
              " ('Its', 988),\n",
              " ('difficult', 986),\n",
              " ('roles', 985),\n",
              " ('out,', 984),\n",
              " ('(or', 983),\n",
              " ('on,', 983),\n",
              " (\"/>It's\", 982),\n",
              " ('write', 981),\n",
              " ('elements', 981),\n",
              " ('apparently', 981),\n",
              " ('realize', 980),\n",
              " ('previous', 977),\n",
              " ('move', 973),\n",
              " ('1', 971),\n",
              " ('problems', 970),\n",
              " ('violence', 968),\n",
              " ('leads', 967),\n",
              " ('An', 965),\n",
              " ('poorly', 965),\n",
              " ('ridiculous', 964),\n",
              " ('songs', 963),\n",
              " ('Richard', 963),\n",
              " ('Most', 963),\n",
              " ('review', 961),\n",
              " ('figure', 959),\n",
              " ('moving', 958),\n",
              " ('television', 957),\n",
              " ('Like', 956),\n",
              " ('4', 955),\n",
              " ('NOT', 953),\n",
              " ('age', 953),\n",
              " ('personal', 951),\n",
              " ('straight', 951),\n",
              " (\"who's\", 949),\n",
              " ('brother', 947),\n",
              " ('enjoyable', 947),\n",
              " ('Tom', 946),\n",
              " ('theme', 945),\n",
              " ('brings', 945),\n",
              " ('stand', 945),\n",
              " ('alone', 945),\n",
              " ('incredibly', 944),\n",
              " ('sexual', 944),\n",
              " ('hand', 943),\n",
              " ('blood', 943),\n",
              " ('possible', 943),\n",
              " ('fairly', 941),\n",
              " ('!', 941),\n",
              " ('subject', 940),\n",
              " ('possibly', 937),\n",
              " ('forced', 936),\n",
              " ('reading', 936),\n",
              " ('comments', 935),\n",
              " ('feature', 934),\n",
              " ('show.', 933),\n",
              " ('career', 932),\n",
              " ('work.', 932),\n",
              " ('various', 930),\n",
              " ('hilarious', 929),\n",
              " ('team', 929),\n",
              " ('level', 926),\n",
              " ('particular', 922),\n",
              " ('country', 922),\n",
              " ('whom', 922),\n",
              " ('overall', 920),\n",
              " ('power', 920),\n",
              " ('dialog', 918),\n",
              " ('hero', 917),\n",
              " ('scenes,', 915),\n",
              " ('room', 914),\n",
              " ('novel', 914),\n",
              " ('towards', 914),\n",
              " ('Also', 913),\n",
              " ('rent', 911),\n",
              " ('spent', 910),\n",
              " ('say,', 908),\n",
              " ('hell', 908),\n",
              " ('meant', 908),\n",
              " ('there.', 908),\n",
              " ('watch.', 907),\n",
              " ('better.', 906),\n",
              " ('reviews', 905),\n",
              " ('needed', 905),\n",
              " ('gore', 905),\n",
              " ('Dr.', 903),\n",
              " ('leading', 902),\n",
              " ('somehow', 897),\n",
              " ('appear', 897),\n",
              " ('form', 896),\n",
              " ('message', 895),\n",
              " ('though,', 895),\n",
              " ('nor', 894),\n",
              " ('Paul', 894),\n",
              " ('features', 893),\n",
              " ('Japanese', 891),\n",
              " ('First', 890),\n",
              " ('scene,', 890),\n",
              " ('begin', 888),\n",
              " ('effort', 888),\n",
              " ('up.', 887),\n",
              " ('soundtrack', 885),\n",
              " ('eventually', 885),\n",
              " ('interested', 884),\n",
              " ('total', 883),\n",
              " ('create', 880),\n",
              " ('words', 880),\n",
              " ('manages', 878),\n",
              " ('you.', 878),\n",
              " ('worked', 877),\n",
              " ('...', 877),\n",
              " ('follow', 876),\n",
              " ('storyline', 870),\n",
              " ('imagine', 868),\n",
              " (\"He's\", 868),\n",
              " ('crap', 867),\n",
              " ('gone', 867),\n",
              " ('attempts', 864),\n",
              " ('writer', 863),\n",
              " ('Also,', 863),\n",
              " ('expecting', 862),\n",
              " ('political', 862),\n",
              " ('20', 859),\n",
              " ('viewers', 859),\n",
              " ('tale', 859),\n",
              " ('meet', 858),\n",
              " ('open', 856),\n",
              " ('up,', 854),\n",
              " ('average', 853),\n",
              " ('minute', 852),\n",
              " ('forget', 851),\n",
              " ('pay', 850),\n",
              " ('points', 849),\n",
              " ('however', 848),\n",
              " ('hardly', 847),\n",
              " ('premise', 845),\n",
              " ('male', 843),\n",
              " ...]"
            ]
          },
          "metadata": {},
          "execution_count": 20
        }
      ]
    },
    {
      "cell_type": "code",
      "source": [
        "vocab.most_common(n=10)"
      ],
      "metadata": {
        "id": "QAA2CsOrpAnC",
        "colab": {
          "base_uri": "https://localhost:8080/"
        },
        "outputId": "cd8e29af-0a50-46e3-d5bd-281f671d5e29"
      },
      "execution_count": null,
      "outputs": [
        {
          "output_type": "execute_result",
          "data": {
            "text/plain": [
              "[('the', 454993),\n",
              " ('a', 246017),\n",
              " ('and', 242020),\n",
              " ('of', 226960),\n",
              " ('to', 209658),\n",
              " ('is', 162520),\n",
              " ('in', 135736),\n",
              " ('I', 106137),\n",
              " ('that', 101520),\n",
              " ('this', 91009)]"
            ]
          },
          "metadata": {},
          "execution_count": 21
        }
      ]
    },
    {
      "cell_type": "code",
      "source": [
        "plt.hist(train['word_count'])"
      ],
      "metadata": {
        "id": "jcDwvvAppqhR",
        "colab": {
          "base_uri": "https://localhost:8080/",
          "height": 517
        },
        "outputId": "e1b54cf7-e17d-40fe-f121-90839dcb4d66"
      },
      "execution_count": null,
      "outputs": [
        {
          "output_type": "execute_result",
          "data": {
            "text/plain": [
              "(array([2.8097e+04, 8.6960e+03, 2.2510e+03, 8.0100e+02, 1.3900e+02,\n",
              "        7.0000e+00, 3.0000e+00, 3.0000e+00, 1.0000e+00, 2.0000e+00]),\n",
              " array([   4. ,  250.6,  497.2,  743.8,  990.4, 1237. , 1483.6, 1730.2,\n",
              "        1976.8, 2223.4, 2470. ]),\n",
              " <BarContainer object of 10 artists>)"
            ]
          },
          "metadata": {},
          "execution_count": 22
        },
        {
          "output_type": "display_data",
          "data": {
            "text/plain": [
              "<Figure size 640x480 with 1 Axes>"
            ],
            "image/png": "[encoded data removed]"
          },
          "metadata": {}
        }
      ]
    },
    {
      "cell_type": "code",
      "source": [
        "plt.hist(train['char_count'])"
      ],
      "metadata": {
        "id": "Hv15JmNjpzN-",
        "colab": {
          "base_uri": "https://localhost:8080/",
          "height": 517
        },
        "outputId": "9feeb5ce-465b-4b7c-ea84-e687b5922824"
      },
      "execution_count": null,
      "outputs": [
        {
          "output_type": "execute_result",
          "data": {
            "text/plain": [
              "(array([2.7856e+04, 8.7030e+03, 2.3780e+03, 8.0900e+02, 2.3600e+02,\n",
              "        9.0000e+00, 3.0000e+00, 3.0000e+00, 1.0000e+00, 2.0000e+00]),\n",
              " array([   32. ,  1399.2,  2766.4,  4133.6,  5500.8,  6868. ,  8235.2,\n",
              "         9602.4, 10969.6, 12336.8, 13704. ]),\n",
              " <BarContainer object of 10 artists>)"
            ]
          },
          "metadata": {},
          "execution_count": 23
        },
        {
          "output_type": "display_data",
          "data": {
            "text/plain": [
              "<Figure size 640x480 with 1 Axes>"
            ],
            "image/png": "[encoded data removed]"
          },
          "metadata": {}
        }
      ]
    },
    {
      "cell_type": "markdown",
      "source": [
        "#Lemmatizer"
      ],
      "metadata": {
        "id": "uIYTUbWuRESa"
      }
    },
    {
      "cell_type": "code",
      "source": [
        "# Load lemmatizer\n",
        "# from nltk.stem.wordnet import WordNetLemmatizer\n",
        "# nltk.download('wordnet')\n",
        "# lemmatizer = WordNetLemmatizer()"
      ],
      "metadata": {
        "id": "FDfwX6jHRIdp"
      },
      "execution_count": null,
      "outputs": []
    },
    {
      "cell_type": "code",
      "source": [
        "# Lemmatize text\n",
        "# train['text'] = train['text'].apply(lambda x: lemmatizer.lemmatize(x))\n",
        "# valid['text'] = valid['text'].apply(lambda x: lemmatizer.lemmatize(x))\n",
        "# test['text'] = test['text'].apply(lambda x: lemmatizer.lemmatize(x))"
      ],
      "metadata": {
        "id": "OSrO_VBtRJPV"
      },
      "execution_count": null,
      "outputs": []
    },
    {
      "cell_type": "markdown",
      "source": [
        "#Tokininzer\n",
        "# vectorize text "
      ],
      "metadata": {
        "id": "pXU9sIwbbfn7"
      }
    },
    {
      "cell_type": "code",
      "source": [
        "vocab_size=5000\n",
        "batch_size=64\n",
        "max_length=400\n",
        "# max_sequence=24 #max number of word in each text\n",
        "embeding_dim=128 #dimention of embedded  layers"
      ],
      "metadata": {
        "id": "o5fpe2yIXSx2"
      },
      "execution_count": null,
      "outputs": []
    },
    {
      "cell_type": "code",
      "source": [
        "## create tokinizer object\n",
        "tokenizer=tf.keras.preprocessing.text.Tokenizer(num_words=vocab_size,\n",
        "                                                filters='!\"#$%&()*+,-./:;<=>?@[\\\\]^_`{|}~\\t\\n',\n",
        "                                                lower=True,\n",
        "                                                split=' ',\n",
        "                                                oov_token=True,\n",
        "                                                )\n",
        "\n",
        "tokenizer.fit_on_texts(train['text'])\n",
        "\n",
        "##preview the word index\n",
        "word_index=tokenizer.word_index\n",
        "print({k:word_index[k] for  k in list(word_index)[:10]})"
      ],
      "metadata": {
        "id": "bqU-iC_RN5X4",
        "colab": {
          "base_uri": "https://localhost:8080/"
        },
        "outputId": "a216114d-11f8-4ad2-a227-cc7e02d26079"
      },
      "execution_count": null,
      "outputs": [
        {
          "output_type": "stream",
          "name": "stdout",
          "text": [
            "{True: 1, 'the': 2, 'and': 3, 'a': 4, 'of': 5, 'to': 6, 'is': 7, 'br': 8, 'in': 9, 'it': 10}\n"
          ]
        }
      ]
    },
    {
      "cell_type": "markdown",
      "source": [
        "#test"
      ],
      "metadata": {
        "id": "2Tu-yN5julX2"
      }
    },
    {
      "cell_type": "code",
      "source": [
        "## let see how tokinizer work\n",
        "text=\"thinking of you everything crossed turn\"\n",
        "seq=tokenizer.texts_to_sequences([text])\n",
        "print(seq)"
      ],
      "metadata": {
        "id": "VSAxo6IEN5ah",
        "colab": {
          "base_uri": "https://localhost:8080/"
        },
        "outputId": "86b3b0ad-88ad-468e-ddda-47e0b85b4b44"
      },
      "execution_count": null,
      "outputs": [
        {
          "output_type": "stream",
          "name": "stdout",
          "text": [
            "[[535, 5, 22, 267, 1, 482]]\n"
          ]
        }
      ]
    },
    {
      "cell_type": "markdown",
      "source": [
        "#Sequences"
      ],
      "metadata": {
        "id": "ytrgA5xsS7MO"
      }
    },
    {
      "cell_type": "code",
      "source": [
        "seqv=tokenizer.texts_to_sequences(train['text'])\n",
        "sequ=tokenizer.texts_to_sequences(valid['text'])\n",
        "seqt=tokenizer.texts_to_sequences(test['text'])"
      ],
      "metadata": {
        "id": "wuFBJ3HoDZbo"
      },
      "execution_count": null,
      "outputs": []
    },
    {
      "cell_type": "markdown",
      "source": [
        "##Padding NLP"
      ],
      "metadata": {
        "id": "OTOJnJC-ZXua"
      }
    },
    {
      "cell_type": "code",
      "source": [
        "padded_seq=tf.keras.preprocessing.sequence.pad_sequences(seqv,maxlen=max_length,\n",
        "                                                         padding='post')\n",
        "padded_seqv=tf.keras.preprocessing.sequence.pad_sequences(sequ,maxlen=max_length,\n",
        "                                                          padding='post')\n",
        "padded_seqt=tf.keras.preprocessing.sequence.pad_sequences(seqt,maxlen=max_length,\n",
        "                                                          padding='post')"
      ],
      "metadata": {
        "id": "2-NXPKF6ZafF"
      },
      "execution_count": null,
      "outputs": []
    },
    {
      "cell_type": "markdown",
      "source": [
        "##standered preprocess steps"
      ],
      "metadata": {
        "id": "_GdHXdVYcvoF"
      }
    },
    {
      "cell_type": "code",
      "source": [
        "x_train=padded_seq\n",
        "y_train=train.label\n",
        "x_valid=padded_seqv\n",
        "y_valid=valid.label"
      ],
      "metadata": {
        "id": "yLLACUYeEZqh"
      },
      "execution_count": null,
      "outputs": []
    },
    {
      "cell_type": "code",
      "source": [
        "y_train=train['label'].tolist()\n",
        "y_valid=valid['label'].tolist()\n",
        "y_train = np.array(y_train)\n",
        "y_valid = np.array(y_valid)"
      ],
      "metadata": {
        "id": "8BqU_tJ9cUcb"
      },
      "execution_count": null,
      "outputs": []
    },
    {
      "cell_type": "markdown",
      "source": [
        "#test"
      ],
      "metadata": {
        "id": "s9nukB31v3Yc"
      }
    },
    {
      "cell_type": "code",
      "execution_count": null,
      "metadata": {
        "id": "5RVexIANtvh7"
      },
      "outputs": [],
      "source": [
        "def dataset_creator(x, y):\n",
        "    dataset = tf.data.Dataset.from_tensor_slices((x, y))\n",
        "    dataset = dataset.shuffle(1000)\n",
        "    dataset = dataset.batch(batch_size)\n",
        "    dataset = dataset.prefetch(tf.data.experimental.AUTOTUNE)\n",
        "    return dataset\n",
        "\n",
        "\n",
        "train_dataset = dataset_creator(x_train, y_train)\n",
        "test_dataset = dataset_creator(x_valid, y_valid)"
      ]
    },
    {
      "cell_type": "code",
      "execution_count": null,
      "metadata": {
        "id": "cy1oJJb3tvh7",
        "colab": {
          "base_uri": "https://localhost:8080/"
        },
        "outputId": "07bc6228-b2be-4251-e3fa-af09b0fa8cd8"
      },
      "outputs": [
        {
          "output_type": "stream",
          "name": "stdout",
          "text": [
            "(64, 400) (64,)\n",
            "tf.Tensor(\n",
            "[   1 1223  326  266    6 1116   86    6    1   41   31    1   12  827\n",
            "    6  164   19 1629  176   18   28    5    2 1537  412    5  410    9\n",
            "    2  225   20   11   90   94  283   22   90   94  283  198   36  163\n",
            "  283  511    8    8   92  222    2  114   61    7   40 2665   10  209\n",
            "   27  107    6   27 2382   58  933 1679    7    2  684    1 2760 2595\n",
            " 2742  257   36    7  699  880   41  412  124    5  138  245  130    1\n",
            "    6  978   91   54  191  303    2  908  372  416   27  345 1101  222\n",
            "    2 4908 1635    3  338    1  218    3   25 1369   36  285   38   13\n",
            "  118 1034    1  129    5    2    1    1   62    1    3  345 1028    8\n",
            "    8    2   20   46   79   75  741   32  298   36    7    1    5 2390\n",
            "    4  360   57 2565  130    3    2  626    5 2602  472    7  489    2\n",
            "  225  149 3443  124   18    2 1746  281  218    9 1244   18    4 2009\n",
            "    5    1   21    1    8    8   19 3596   74   30  120   87  383   12\n",
            "  149    7   35  480   38    6 2599   48    5    2   89 4470  207  390\n",
            "   13    2   20 1629    8    8   52    2 1746  218  729    2 1651   21\n",
            "  953    3   92    1   38    4 1430  306  158  249  622    2  528 1250\n",
            "    6   94   25 1046  592    8    8    1   55  321   49 4801   60    7\n",
            "    6    2  281  103  539   34  120   41  539   34   90   19   60 4453\n",
            "   54    9    4  372    5  137 2729  592    8    8    2    1 2742  475\n",
            " 1064   41   19  467   35  156  467  278  161  762    8    8    2  476\n",
            " 1219 2813    5    1   13   29    1   21   16   25 4601    8    8    2\n",
            "  476    1 1089  908    1    8    8    2  476    1 3740    8    8    2\n",
            "  269   61   11  503  196  243   85   10  209   27  107    6   27 2382\n",
            "   11 3190   22  153   94  250  336   23 1902   31    2   56    2    1\n",
            "    5    1  281  109  165 1313  215 1271   45 4173    8    8  676 1291\n",
            "    3 1928    7    1   77   19 3652    2   89 2839  149  466   64   16\n",
            "    4  195   56 1204  164    7   50   42   12 1382   16    4   20    2\n",
            "    1    5    4  165   57 1056    6   94    2  623  883   83    4  986\n",
            "   32  487   25  205  391   42 1132  211], shape=(400,), dtype=int32)\n",
            "tf.Tensor(0, shape=(), dtype=int64)\n",
            "Train dataset size:  625\n",
            "Test dataset size:  79\n"
          ]
        }
      ],
      "source": [
        "# preview dataset\n",
        "for x, y in train_dataset.take(1):\n",
        "    print(x.shape, y.shape)\n",
        "    print(x[0])\n",
        "    print(y[0])\n",
        "\n",
        "# preview dataset size\n",
        "print(\"Train dataset size: \", len(train_dataset))\n",
        "print(\"Test dataset size: \", len(test_dataset))"
      ]
    },
    {
      "cell_type": "markdown",
      "source": [
        "#Modeling"
      ],
      "metadata": {
        "id": "dNKPKH7gd44r"
      }
    },
    {
      "cell_type": "code",
      "source": [
        "lr_reduce = tf.keras.callbacks.ReduceLROnPlateau(monitor='val_loss', factor=0.5, min_delta=0.0001, patience=3, verbose=0)\n",
        "es_callback = tf.keras.callbacks.EarlyStopping(monitor='val_loss', patience=3, verbose=0)"
      ],
      "metadata": {
        "id": "fMyq8VfkITqn"
      },
      "execution_count": null,
      "outputs": []
    },
    {
      "cell_type": "code",
      "source": [
        "bilstm_model = tf.keras.Sequential([\n",
        "    tf.keras.layers.Embedding(vocab_size, embeding_dim, input_length=max_length),\n",
        "    tf.keras.layers.Bidirectional(tf.keras.layers.LSTM(128, return_sequences=True)),\n",
        "    # tf.keras.layers.Dropout(0.2),\n",
        "    tf.keras.layers.GlobalAveragePooling1D(),\n",
        "    # tf.keras.layers.Dense(64, activation='relu'),\n",
        "    tf.keras.layers.Dense(1, activation='sigmoid')\n",
        "])"
      ],
      "metadata": {
        "id": "RrT1TzYPH2z5"
      },
      "execution_count": null,
      "outputs": []
    },
    {
      "cell_type": "code",
      "source": [
        "# Define the checkpoint callback\n",
        "checkpoint_path = '/content/drive/MyDrive/SHAI/bilstm_2.h5'\n",
        "checkpoint_callback = tf.keras.callbacks.ModelCheckpoint(checkpoint_path, monitor='binary_accuracy', save_best_only=True, mode='max', verbose=1)\n",
        "\n",
        "bilstm_model.compile(optimizer='RMSprop', loss='binary_crossentropy', metrics=['binary_accuracy'])\n",
        "bilstm_model.fit(train_dataset, epochs=10, validation_data=test_dataset, callbacks=[lr_reduce, es_callback, checkpoint_callback])"
      ],
      "metadata": {
        "id": "xYixPMOhH2kR",
        "colab": {
          "base_uri": "https://localhost:8080/"
        },
        "outputId": "2fbe2942-a0dc-40b7-f2cf-24e4451b90fd"
      },
      "execution_count": null,
      "outputs": [
        {
          "output_type": "stream",
          "name": "stdout",
          "text": [
            "Epoch 1/10\n",
            "624/625 [============================>.] - ETA: 0s - loss: 0.1043 - binary_accuracy: 0.9632\n",
            "Epoch 1: binary_accuracy improved from -inf to 0.96328, saving model to /content/drive/MyDrive/SHAI/bilstm_2.h5\n",
            "625/625 [==============================] - 76s 113ms/step - loss: 0.1043 - binary_accuracy: 0.9633 - val_loss: 0.3393 - val_binary_accuracy: 0.8868 - lr: 0.0010\n",
            "Epoch 2/10\n",
            "624/625 [============================>.] - ETA: 0s - loss: 0.0945 - binary_accuracy: 0.9672\n",
            "Epoch 2: binary_accuracy improved from 0.96328 to 0.96718, saving model to /content/drive/MyDrive/SHAI/bilstm_2.h5\n",
            "625/625 [==============================] - 36s 58ms/step - loss: 0.0947 - binary_accuracy: 0.9672 - val_loss: 0.3358 - val_binary_accuracy: 0.8870 - lr: 0.0010\n",
            "Epoch 3/10\n",
            "624/625 [============================>.] - ETA: 0s - loss: 0.0877 - binary_accuracy: 0.9699\n",
            "Epoch 3: binary_accuracy improved from 0.96718 to 0.96992, saving model to /content/drive/MyDrive/SHAI/bilstm_2.h5\n",
            "625/625 [==============================] - 31s 50ms/step - loss: 0.0876 - binary_accuracy: 0.9699 - val_loss: 0.5076 - val_binary_accuracy: 0.8796 - lr: 0.0010\n",
            "Epoch 4/10\n",
            "625/625 [==============================] - ETA: 0s - loss: 0.0810 - binary_accuracy: 0.9740\n",
            "Epoch 4: binary_accuracy improved from 0.96992 to 0.97395, saving model to /content/drive/MyDrive/SHAI/bilstm_2.h5\n",
            "625/625 [==============================] - 28s 45ms/step - loss: 0.0810 - binary_accuracy: 0.9740 - val_loss: 0.4097 - val_binary_accuracy: 0.8810 - lr: 0.0010\n",
            "Epoch 5/10\n",
            "624/625 [============================>.] - ETA: 0s - loss: 0.0724 - binary_accuracy: 0.9767\n",
            "Epoch 5: binary_accuracy improved from 0.97395 to 0.97677, saving model to /content/drive/MyDrive/SHAI/bilstm_2.h5\n",
            "625/625 [==============================] - 28s 45ms/step - loss: 0.0724 - binary_accuracy: 0.9768 - val_loss: 0.4336 - val_binary_accuracy: 0.8852 - lr: 0.0010\n"
          ]
        },
        {
          "output_type": "execute_result",
          "data": {
            "text/plain": [
              "<keras.callbacks.History at 0x7f0f90387e20>"
            ]
          },
          "metadata": {},
          "execution_count": 48
        }
      ]
    },
    {
      "cell_type": "code",
      "source": [
        "x_test=padded_seqt"
      ],
      "metadata": {
        "id": "hhr2p5uyi8zm"
      },
      "execution_count": null,
      "outputs": []
    },
    {
      "cell_type": "code",
      "source": [
        "pre = np.array(bilstm_model.predict(x_test))"
      ],
      "metadata": {
        "id": "L8xGlK0Hye9x",
        "colab": {
          "base_uri": "https://localhost:8080/"
        },
        "outputId": "20b6697d-424e-49a2-f27e-5980bb2dfa4b"
      },
      "execution_count": null,
      "outputs": [
        {
          "output_type": "stream",
          "name": "stdout",
          "text": [
            "157/157 [==============================] - 3s 13ms/step\n"
          ]
        }
      ]
    },
    {
      "cell_type": "code",
      "source": [
        "pred=np.round(pre,0)"
      ],
      "metadata": {
        "id": "kStZFIo1-7YS"
      },
      "execution_count": null,
      "outputs": []
    },
    {
      "cell_type": "code",
      "source": [
        "predi=pred.astype(int)"
      ],
      "metadata": {
        "id": "Yb2FjKXbN5rK"
      },
      "execution_count": null,
      "outputs": []
    },
    {
      "cell_type": "code",
      "source": [
        "predi"
      ],
      "metadata": {
        "id": "EjjMrv11_L0O",
        "colab": {
          "base_uri": "https://localhost:8080/"
        },
        "outputId": "2370039a-cb30-4834-840e-531e25535a65"
      },
      "execution_count": null,
      "outputs": [
        {
          "output_type": "execute_result",
          "data": {
            "text/plain": [
              "array([[0],\n",
              "       [1],\n",
              "       [0],\n",
              "       ...,\n",
              "       [0],\n",
              "       [0],\n",
              "       [0]])"
            ]
          },
          "metadata": {},
          "execution_count": 45
        }
      ]
    },
    {
      "cell_type": "code",
      "source": [
        "df = pd.DataFrame({\n",
        "    'id':test['id'],\n",
        "    'Label':predi[:,0],\n",
        "})\n",
        "df"
      ],
      "metadata": {
        "id": "Q9naIX0F_REe",
        "colab": {
          "base_uri": "https://localhost:8080/",
          "height": 424
        },
        "outputId": "8288f52c-71aa-4658-f951-1563d73c7c3d"
      },
      "execution_count": null,
      "outputs": [
        {
          "output_type": "execute_result",
          "data": {
            "text/plain": [
              "        id  Label\n",
              "0        0      0\n",
              "1        1      1\n",
              "2        2      0\n",
              "3        3      0\n",
              "4        4      0\n",
              "...    ...    ...\n",
              "4995  4995      0\n",
              "4996  4996      1\n",
              "4997  4997      0\n",
              "4998  4998      0\n",
              "4999  4999      0\n",
              "\n",
              "[5000 rows x 2 columns]"
            ],
            "text/html": [
              "\n",
              "  <div id=\"df-ecb8b16e-f4c2-4c63-b2c6-e48d1fb7c7d1\">\n",
              "    <div class=\"colab-df-container\">\n",
              "      <div>\n",
              "<style scoped>\n",
              "    .dataframe tbody tr th:only-of-type {\n",
              "        vertical-align: middle;\n",
              "    }\n",
              "\n",
              "    .dataframe tbody tr th {\n",
              "        vertical-align: top;\n",
              "    }\n",
              "\n",
              "    .dataframe thead th {\n",
              "        text-align: right;\n",
              "    }\n",
              "</style>\n",
              "<table border=\"1\" class=\"dataframe\">\n",
              "  <thead>\n",
              "    <tr style=\"text-align: right;\">\n",
              "      <th></th>\n",
              "      <th>id</th>\n",
              "      <th>Label</th>\n",
              "    </tr>\n",
              "  </thead>\n",
              "  <tbody>\n",
              "    <tr>\n",
              "      <th>0</th>\n",
              "      <td>0</td>\n",
              "      <td>0</td>\n",
              "    </tr>\n",
              "    <tr>\n",
              "      <th>1</th>\n",
              "      <td>1</td>\n",
              "      <td>1</td>\n",
              "    </tr>\n",
              "    <tr>\n",
              "      <th>2</th>\n",
              "      <td>2</td>\n",
              "      <td>0</td>\n",
              "    </tr>\n",
              "    <tr>\n",
              "      <th>3</th>\n",
              "      <td>3</td>\n",
              "      <td>0</td>\n",
              "    </tr>\n",
              "    <tr>\n",
              "      <th>4</th>\n",
              "      <td>4</td>\n",
              "      <td>0</td>\n",
              "    </tr>\n",
              "    <tr>\n",
              "      <th>...</th>\n",
              "      <td>...</td>\n",
              "      <td>...</td>\n",
              "    </tr>\n",
              "    <tr>\n",
              "      <th>4995</th>\n",
              "      <td>4995</td>\n",
              "      <td>0</td>\n",
              "    </tr>\n",
              "    <tr>\n",
              "      <th>4996</th>\n",
              "      <td>4996</td>\n",
              "      <td>1</td>\n",
              "    </tr>\n",
              "    <tr>\n",
              "      <th>4997</th>\n",
              "      <td>4997</td>\n",
              "      <td>0</td>\n",
              "    </tr>\n",
              "    <tr>\n",
              "      <th>4998</th>\n",
              "      <td>4998</td>\n",
              "      <td>0</td>\n",
              "    </tr>\n",
              "    <tr>\n",
              "      <th>4999</th>\n",
              "      <td>4999</td>\n",
              "      <td>0</td>\n",
              "    </tr>\n",
              "  </tbody>\n",
              "</table>\n",
              "<p>5000 rows × 2 columns</p>\n",
              "</div>\n",
              "      <button class=\"colab-df-convert\" onclick=\"convertToInteractive('df-ecb8b16e-f4c2-4c63-b2c6-e48d1fb7c7d1')\"\n",
              "              title=\"Convert this dataframe to an interactive table.\"\n",
              "              style=\"display:none;\">\n",
              "        \n",
              "  <svg xmlns=\"http://www.w3.org/2000/svg\" height=\"24px\"viewBox=\"0 0 24 24\"\n",
              "       width=\"24px\">\n",
              "    <path d=\"M0 0h24v24H0V0z\" fill=\"none\"/>\n",
              "    <path d=\"M18.56 5.44l.94 2.06.94-2.06 2.06-.94-2.06-.94-.94-2.06-.94 2.06-2.06.94zm-11 1L8.5 8.5l.94-2.06 2.06-.94-2.06-.94L8.5 2.5l-.94 2.06-2.06.94zm10 10l.94 2.06.94-2.06 2.06-.94-2.06-.94-.94-2.06-.94 2.06-2.06.94z\"/><path d=\"M17.41 7.96l-1.37-1.37c-.4-.4-.92-.59-1.43-.59-.52 0-1.04.2-1.43.59L10.3 9.45l-7.72 7.72c-.78.78-.78 2.05 0 2.83L4 21.41c.39.39.9.59 1.41.59.51 0 1.02-.2 1.41-.59l7.78-7.78 2.81-2.81c.8-.78.8-2.07 0-2.86zM5.41 20L4 18.59l7.72-7.72 1.47 1.35L5.41 20z\"/>\n",
              "  </svg>\n",
              "      </button>\n",
              "      \n",
              "  <style>\n",
              "    .colab-df-container {\n",
              "      display:flex;\n",
              "      flex-wrap:wrap;\n",
              "      gap: 12px;\n",
              "    }\n",
              "\n",
              "    .colab-df-convert {\n",
              "      background-color: #E8F0FE;\n",
              "      border: none;\n",
              "      border-radius: 50%;\n",
              "      cursor: pointer;\n",
              "      display: none;\n",
              "      fill: #1967D2;\n",
              "      height: 32px;\n",
              "      padding: 0 0 0 0;\n",
              "      width: 32px;\n",
              "    }\n",
              "\n",
              "    .colab-df-convert:hover {\n",
              "      background-color: #E2EBFA;\n",
              "      box-shadow: 0px 1px 2px rgba(60, 64, 67, 0.3), 0px 1px 3px 1px rgba(60, 64, 67, 0.15);\n",
              "      fill: #174EA6;\n",
              "    }\n",
              "\n",
              "    [theme=dark] .colab-df-convert {\n",
              "      background-color: #3B4455;\n",
              "      fill: #D2E3FC;\n",
              "    }\n",
              "\n",
              "    [theme=dark] .colab-df-convert:hover {\n",
              "      background-color: #434B5C;\n",
              "      box-shadow: 0px 1px 3px 1px rgba(0, 0, 0, 0.15);\n",
              "      filter: drop-shadow(0px 1px 2px rgba(0, 0, 0, 0.3));\n",
              "      fill: #FFFFFF;\n",
              "    }\n",
              "  </style>\n",
              "\n",
              "      <script>\n",
              "        const buttonEl =\n",
              "          document.querySelector('#df-ecb8b16e-f4c2-4c63-b2c6-e48d1fb7c7d1 button.colab-df-convert');\n",
              "        buttonEl.style.display =\n",
              "          google.colab.kernel.accessAllowed ? 'block' : 'none';\n",
              "\n",
              "        async function convertToInteractive(key) {\n",
              "          const element = document.querySelector('#df-ecb8b16e-f4c2-4c63-b2c6-e48d1fb7c7d1');\n",
              "          const dataTable =\n",
              "            await google.colab.kernel.invokeFunction('convertToInteractive',\n",
              "                                                     [key], {});\n",
              "          if (!dataTable) return;\n",
              "\n",
              "          const docLinkHtml = 'Like what you see? Visit the ' +\n",
              "            '<a target=\"_blank\" href=https://colab.research.google.com/notebooks/data_table.ipynb>data table notebook</a>'\n",
              "            + ' to learn more about interactive tables.';\n",
              "          element.innerHTML = '';\n",
              "          dataTable['output_type'] = 'display_data';\n",
              "          await google.colab.output.renderOutput(dataTable, element);\n",
              "          const docLink = document.createElement('div');\n",
              "          docLink.innerHTML = docLinkHtml;\n",
              "          element.appendChild(docLink);\n",
              "        }\n",
              "      </script>\n",
              "    </div>\n",
              "  </div>\n",
              "  "
            ]
          },
          "metadata": {},
          "execution_count": 46
        }
      ]
    },
    {
      "cell_type": "code",
      "source": [
        "df.to_csv(\"/content/drive/MyDrive/SHAI/submission_bilstm_2.csv\",index=False ,header = 1)"
      ],
      "metadata": {
        "id": "Ji78J-AG_tci"
      },
      "execution_count": null,
      "outputs": []
    }
  ]
}