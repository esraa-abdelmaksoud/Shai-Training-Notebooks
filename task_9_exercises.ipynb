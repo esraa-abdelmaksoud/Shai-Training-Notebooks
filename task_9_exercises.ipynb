{
  "nbformat": 4,
  "nbformat_minor": 0,
  "metadata": {
    "kernelspec": {
      "display_name": "Python 3",
      "language": "python",
      "name": "python3"
    },
    "language_info": {
      "codemirror_mode": {
        "name": "ipython",
        "version": 3
      },
      "file_extension": ".py",
      "mimetype": "text/x-python",
      "name": "python",
      "nbconvert_exporter": "python",
      "pygments_lexer": "ipython3",
      "version": "3.8.5"
    },
    "colab": {
      "provenance": [],
      "collapsed_sections": [
        "ujnFWm-RrTBx",
        "ds_FKkd8rTB1",
        "-jzw9z22rTB2",
        "oJRRCJzXrTB4",
        "hBHF2iJWrTB5",
        "Xm6cFW72rTB6",
        "7wdHyF8urTB6",
        "CRVGta9irTB9",
        "nJcwu7UfrTB-",
        "ymiEXPfprTB-",
        "7kqvQk1qrTB_"
      ],
      "include_colab_link": true
    }
  },
  "cells": [
    {
      "cell_type": "markdown",
      "metadata": {
        "id": "view-in-github",
        "colab_type": "text"
      },
      "source": [
        "<a href=\"https://colab.research.google.com/github/esraa-abdelmaksoud/Shai-Training-Notebooks/blob/main/task_9_exercises.ipynb\" target=\"_parent\"><img src=\"https://colab.research.google.com/assets/colab-badge.svg\" alt=\"Open In Colab\"/></a>"
      ]
    },
    {
      "cell_type": "markdown",
      "metadata": {
        "id": "vxs2h6RArTBa"
      },
      "source": [
        "# shAI Training 2022 | Level 1\n",
        "\n",
        "\n",
        "## Task#9 (MNIST Project part 2)\n",
        "\n",
        "### Classification\n",
        "\n",
        "- Before you start make sure you have latest Jupyter notebook version \n",
        "- <font color= red> If you have older version fetching the data might be different  </font>  \n"
      ]
    },
    {
      "cell_type": "code",
      "metadata": {
        "id": "dR41tAaxrTBi"
      },
      "source": [
        "import sklearn.datasets\n",
        "from sklearn.datasets import fetch_openml\n",
        "mnist =fetch_openml('mnist_784', as_frame=False)\n",
        "x, y = mnist[\"data\"], mnist[\"target\"]"
      ],
      "execution_count": 3,
      "outputs": []
    },
    {
      "cell_type": "markdown",
      "metadata": {
        "id": "cNzsxLvArTBk"
      },
      "source": [
        "#### peek at one digit"
      ]
    },
    {
      "cell_type": "code",
      "metadata": {
        "colab": {
          "base_uri": "https://localhost:8080/",
          "height": 248
        },
        "id": "DXg7k2bXrTBl",
        "outputId": "4025253e-df51-45e6-eae5-bfb3c1e30d79"
      },
      "source": [
        "import matplotlib\n",
        "import matplotlib.pyplot as plt\n",
        "some_digit = x[40000]\n",
        "some_digit_image = some_digit.reshape(28, 28)\n",
        "plt.imshow(some_digit_image, cmap = matplotlib.cm.binary,\n",
        "interpolation=\"nearest\")\n",
        "plt.axis(\"off\")\n",
        "plt.show()"
      ],
      "execution_count": 4,
      "outputs": [
        {
          "output_type": "display_data",
          "data": {
            "text/plain": [
              "<Figure size 432x288 with 1 Axes>"
            ],
            "image/png": "[encoded data removed]"
          },
          "metadata": {
            "needs_background": "light"
          }
        }
      ]
    },
    {
      "cell_type": "code",
      "metadata": {
        "id": "DLJfdeOprTBn"
      },
      "source": [
        "import numpy as np \n",
        "x_train, x_test, y_train, y_test = x[:60000], x[60000:], y[:60000], y[60000:]\n",
        "shuffle_index = np.random.permutation(60000)\n",
        "x_train, y_train = x_train[shuffle_index], y_train[shuffle_index]"
      ],
      "execution_count": 5,
      "outputs": []
    },
    {
      "cell_type": "code",
      "metadata": {
        "id": "CNjuU8EvrTBo"
      },
      "source": [
        "from sklearn.linear_model import SGDClassifier\n",
        "sgd_clf = SGDClassifier(random_state=42)"
      ],
      "execution_count": 6,
      "outputs": []
    },
    {
      "cell_type": "markdown",
      "metadata": {
        "id": "BVw_S__2rTBp"
      },
      "source": [
        "#### Try SGDCClassifier with multiple calss"
      ]
    },
    {
      "cell_type": "code",
      "source": [
        "# CODE HERE\n",
        "sgd_clf.fit(x_train, y_train)\n",
        "sgd_clf.predict([some_digit])"
      ],
      "metadata": {
        "colab": {
          "base_uri": "https://localhost:8080/"
        },
        "id": "sK3QkinUMP0m",
        "outputId": "887c6d9d-5892-49e5-c7ba-0cd162ed6d9c"
      },
      "execution_count": 7,
      "outputs": [
        {
          "output_type": "execute_result",
          "data": {
            "text/plain": [
              "array(['7'], dtype='<U1')"
            ]
          },
          "metadata": {},
          "execution_count": 7
        }
      ]
    },
    {
      "cell_type": "markdown",
      "metadata": {
        "id": "kE7UFx7OrTBr"
      },
      "source": [
        "#### Call decision_function() method to return score for each instance "
      ]
    },
    {
      "cell_type": "code",
      "source": [
        "# CODE HERE\n",
        "des_arr = sgd_clf.decision_function([some_digit])\n",
        "des_arr"
      ],
      "metadata": {
        "colab": {
          "base_uri": "https://localhost:8080/"
        },
        "id": "_9a88Dj0Oq47",
        "outputId": "afc6483a-affe-48d7-ea0b-13562d3e23ae"
      },
      "execution_count": 9,
      "outputs": [
        {
          "output_type": "execute_result",
          "data": {
            "text/plain": [
              "array([[-46963.3014845 , -36956.8667103 , -14390.73165525,\n",
              "        -13246.56826449, -23608.46555151, -14753.19730241,\n",
              "        -37490.67249474,  10134.92485388,  -5475.38036705,\n",
              "        -10971.45906423]])"
            ]
          },
          "metadata": {},
          "execution_count": 9
        }
      ]
    },
    {
      "cell_type": "markdown",
      "metadata": {
        "id": "qORDmctWrTBt"
      },
      "source": [
        "#### find highest score "
      ]
    },
    {
      "cell_type": "code",
      "metadata": {
        "id": "snNAridYrTBu",
        "outputId": "ccd7124a-000d-4cd5-f465-250023df500e",
        "colab": {
          "base_uri": "https://localhost:8080/"
        }
      },
      "source": [
        "# CODE HERE\n",
        "np.argmax(des_arr)"
      ],
      "execution_count": 11,
      "outputs": [
        {
          "output_type": "execute_result",
          "data": {
            "text/plain": [
              "7"
            ]
          },
          "metadata": {},
          "execution_count": 11
        }
      ]
    },
    {
      "cell_type": "markdown",
      "metadata": {
        "id": "FPz3QrbArTBu"
      },
      "source": [
        "#### list the target classes"
      ]
    },
    {
      "cell_type": "code",
      "metadata": {
        "id": "qrS46yuirTBv",
        "outputId": "95b264f4-5084-4a9e-c355-f18c5333a4b8",
        "colab": {
          "base_uri": "https://localhost:8080/"
        }
      },
      "source": [
        "# CODE HERE\n",
        "np.unique(y_train)"
      ],
      "execution_count": 19,
      "outputs": [
        {
          "output_type": "execute_result",
          "data": {
            "text/plain": [
              "array(['0', '1', '2', '3', '4', '5', '6', '7', '8', '9'], dtype=object)"
            ]
          },
          "metadata": {},
          "execution_count": 19
        }
      ]
    },
    {
      "cell_type": "markdown",
      "metadata": {
        "id": "2TbllQderTBv"
      },
      "source": [
        "#### Find the the target class for 7"
      ]
    },
    {
      "cell_type": "code",
      "metadata": {
        "id": "lfAWQnVprTBw",
        "outputId": "4c72e51f-5cb8-42db-b99c-2c7c03ff0976",
        "colab": {
          "base_uri": "https://localhost:8080/",
          "height": 35
        }
      },
      "source": [
        "# CODE HERE\n",
        "# if you got stuck use GOOGLE\n",
        "y[40000]"
      ],
      "execution_count": 20,
      "outputs": [
        {
          "output_type": "execute_result",
          "data": {
            "text/plain": [
              "'7'"
            ],
            "application/vnd.google.colaboratory.intrinsic+json": {
              "type": "string"
            }
          },
          "metadata": {},
          "execution_count": 20
        }
      ]
    },
    {
      "cell_type": "markdown",
      "metadata": {
        "id": "ujnFWm-RrTBx"
      },
      "source": [
        "#### Force ScikitLearn to use one-versus-one"
      ]
    },
    {
      "cell_type": "code",
      "metadata": {
        "id": "6zN2QYJ0rTBx"
      },
      "source": [
        "from sklearn.multiclass import OneVsOneClassifier"
      ],
      "execution_count": 21,
      "outputs": []
    },
    {
      "cell_type": "code",
      "metadata": {
        "id": "iI43bCZnrTBx",
        "outputId": "4bc7e16e-912f-49fe-b1d2-0229dfb586ad",
        "colab": {
          "base_uri": "https://localhost:8080/"
        }
      },
      "source": [
        "# CODE HERE\n",
        "ovo_clf = OneVsOneClassifier(SGDClassifier())\n",
        "ovo_clf.fit(x_train, y_train)\n",
        "ovo_clf.predict([some_digit])"
      ],
      "execution_count": 22,
      "outputs": [
        {
          "output_type": "execute_result",
          "data": {
            "text/plain": [
              "array(['7'], dtype=object)"
            ]
          },
          "metadata": {},
          "execution_count": 22
        }
      ]
    },
    {
      "cell_type": "markdown",
      "metadata": {
        "id": "kZcNpAenrTBy"
      },
      "source": [
        "#### find how many classifier OvO used"
      ]
    },
    {
      "cell_type": "code",
      "metadata": {
        "id": "Qj-h_2kOrTBy",
        "outputId": "1dd95455-3eee-4a99-c801-f96c221e7717",
        "colab": {
          "base_uri": "https://localhost:8080/"
        }
      },
      "source": [
        "# CODE HERE\n",
        "len(ovo_clf.estimators_)"
      ],
      "execution_count": 23,
      "outputs": [
        {
          "output_type": "execute_result",
          "data": {
            "text/plain": [
              "45"
            ]
          },
          "metadata": {},
          "execution_count": 23
        }
      ]
    },
    {
      "cell_type": "markdown",
      "metadata": {
        "id": "jY_URTfErTBz"
      },
      "source": [
        "#### Train  RandomForestClassifier "
      ]
    },
    {
      "cell_type": "code",
      "metadata": {
        "id": "ij6mGZvWrTBz"
      },
      "source": [
        "from sklearn.ensemble import RandomForestClassifier\n",
        "forest_clf = RandomForestClassifier(random_state=42)"
      ],
      "execution_count": 24,
      "outputs": []
    },
    {
      "cell_type": "code",
      "metadata": {
        "id": "mLvACTVkrTB0",
        "outputId": "df524940-b9b5-425b-a04f-0f10b4d946df",
        "colab": {
          "base_uri": "https://localhost:8080/"
        }
      },
      "source": [
        "# CODE HERE\n",
        "forest_clf.fit(x_train, y_train)\n",
        "forest_clf.predict([some_digit])"
      ],
      "execution_count": 26,
      "outputs": [
        {
          "output_type": "execute_result",
          "data": {
            "text/plain": [
              "array(['7'], dtype=object)"
            ]
          },
          "metadata": {},
          "execution_count": 26
        }
      ]
    },
    {
      "cell_type": "markdown",
      "metadata": {
        "id": "RAF55oQtrTB1"
      },
      "source": [
        "#### call predict_proba() to get the list of probabilities that the classifier assigned to each instance for each class"
      ]
    },
    {
      "cell_type": "code",
      "metadata": {
        "id": "Irh9e-QbrTB1",
        "colab": {
          "base_uri": "https://localhost:8080/"
        },
        "outputId": "3a38eb18-9e4d-4bf5-d9a6-49cc64f4d069"
      },
      "source": [
        "forest_clf.predict_proba([some_digit])"
      ],
      "execution_count": 27,
      "outputs": [
        {
          "output_type": "execute_result",
          "data": {
            "text/plain": [
              "array([[0.  , 0.02, 0.  , 0.  , 0.  , 0.  , 0.  , 0.97, 0.  , 0.01]])"
            ]
          },
          "metadata": {},
          "execution_count": 27
        }
      ]
    },
    {
      "cell_type": "markdown",
      "metadata": {
        "id": "ds_FKkd8rTB1"
      },
      "source": [
        "#### Find accurcy using cross validation score ()"
      ]
    },
    {
      "cell_type": "code",
      "metadata": {
        "id": "R4OUbQutrTB2"
      },
      "source": [
        "from sklearn.model_selection import cross_val_score"
      ],
      "execution_count": 28,
      "outputs": []
    },
    {
      "cell_type": "code",
      "metadata": {
        "id": "r33tbcVurTB2",
        "outputId": "7b735034-5a5f-4efb-fcd8-57cedaa8153a",
        "colab": {
          "base_uri": "https://localhost:8080/"
        }
      },
      "source": [
        "# CODE HERE\n",
        "cross_val_score(forest_clf, x_train, y_train, cv=3, scoring=\"accuracy\")"
      ],
      "execution_count": 30,
      "outputs": [
        {
          "output_type": "execute_result",
          "data": {
            "text/plain": [
              "array([0.96625, 0.96715, 0.96515])"
            ]
          },
          "metadata": {},
          "execution_count": 30
        }
      ]
    },
    {
      "cell_type": "code",
      "source": [
        "cross_val_score(sgd_clf, x_train, y_train, cv=3, scoring=\"accuracy\")"
      ],
      "metadata": {
        "id": "sE_Bh0oRu6dm",
        "outputId": "d4eec23c-4d3d-4090-9a6a-01a621752e5f",
        "colab": {
          "base_uri": "https://localhost:8080/"
        }
      },
      "execution_count": 32,
      "outputs": [
        {
          "output_type": "execute_result",
          "data": {
            "text/plain": [
              "array([0.86385, 0.8656 , 0.8719 ])"
            ]
          },
          "metadata": {},
          "execution_count": 32
        }
      ]
    },
    {
      "cell_type": "markdown",
      "metadata": {
        "id": "-jzw9z22rTB2"
      },
      "source": [
        "#### to get better accurcy try scaling input"
      ]
    },
    {
      "cell_type": "code",
      "metadata": {
        "id": "Z87Bmth8rTB3"
      },
      "source": [
        "from sklearn.preprocessing import StandardScaler"
      ],
      "execution_count": 33,
      "outputs": []
    },
    {
      "cell_type": "code",
      "metadata": {
        "id": "ahuwFw8GrTB3",
        "outputId": "da386cda-4f37-4c68-fdfb-a151c8b3a868",
        "colab": {
          "base_uri": "https://localhost:8080/"
        }
      },
      "source": [
        "# CODE HERE\n",
        "scaler = StandardScaler()\n",
        "x_train_scaled = scaler.fit_transform(x_train.astype(np.float64))\n",
        "cross_val_score(sgd_clf, x_train_scaled, y_train, cv=3, scoring=\"accuracy\")"
      ],
      "execution_count": 34,
      "outputs": [
        {
          "output_type": "execute_result",
          "data": {
            "text/plain": [
              "array([0.89795, 0.9022 , 0.8962 ])"
            ]
          },
          "metadata": {},
          "execution_count": 34
        }
      ]
    },
    {
      "cell_type": "markdown",
      "metadata": {
        "id": "hoevqgexrTB4"
      },
      "source": [
        "## Error Analysis"
      ]
    },
    {
      "cell_type": "markdown",
      "metadata": {
        "id": "oJRRCJzXrTB4"
      },
      "source": [
        "#### Take a look at the confusion matrix"
      ]
    },
    {
      "cell_type": "code",
      "metadata": {
        "id": "QjEb7wMMrTB4"
      },
      "source": [
        "from sklearn.model_selection import cross_val_predict\n",
        "from sklearn.metrics import confusion_matrix"
      ],
      "execution_count": 35,
      "outputs": []
    },
    {
      "cell_type": "code",
      "metadata": {
        "id": "dCNsUwlXrTB4",
        "outputId": "76c85cd1-14d1-44d7-c278-53b0f07e7958",
        "colab": {
          "base_uri": "https://localhost:8080/"
        }
      },
      "source": [
        "# CODE HERE\n",
        "y_train_pred = cross_val_predict(sgd_clf, x_train_scaled, y_train, cv=3)\n",
        "conf_mx = confusion_matrix(y_train, y_train_pred)\n",
        "conf_mx"
      ],
      "execution_count": 36,
      "outputs": [
        {
          "output_type": "execute_result",
          "data": {
            "text/plain": [
              "array([[5586,    0,   11,    8,    8,   40,   29,    4,  236,    1],\n",
              "       [   0, 6413,   43,   22,    3,   42,    5,    7,  197,   10],\n",
              "       [  19,   27, 5248,   87,   67,   20,   59,   41,  381,    9],\n",
              "       [  27,   20,  110, 5244,    0,  191,   21,   41,  409,   68],\n",
              "       [  10,   16,   40,    8, 5204,   11,   36,   22,  343,  152],\n",
              "       [  27,   16,   26,  148,   46, 4454,   82,   17,  545,   60],\n",
              "       [  32,   17,   39,    1,   43,   88, 5548,    7,  142,    1],\n",
              "       [  23,   10,   51,   25,   52,   13,    4, 5694,  192,  201],\n",
              "       [  18,   64,   41,   91,    3,  120,   27,    9, 5441,   37],\n",
              "       [  25,   20,   29,   60,  118,   33,    1,  172,  396, 5095]])"
            ]
          },
          "metadata": {},
          "execution_count": 36
        }
      ]
    },
    {
      "cell_type": "markdown",
      "metadata": {
        "id": "hBHF2iJWrTB5"
      },
      "source": [
        "#### using Matplotlib’s matshow() function look at an image representation of the confusion matrix"
      ]
    },
    {
      "cell_type": "code",
      "metadata": {
        "id": "_nMxOLjtrTB5",
        "outputId": "de6d1ff1-bed4-4fc5-c8e7-33813a1e3bc6",
        "colab": {
          "base_uri": "https://localhost:8080/",
          "height": 275
        }
      },
      "source": [
        "# CODE HERE\n",
        "import matplotlib.pyplot as plt\n",
        "plt.matshow(conf_mx, cmap=plt.cm.gray)\n",
        "plt.show()\n"
      ],
      "execution_count": 37,
      "outputs": [
        {
          "output_type": "display_data",
          "data": {
            "text/plain": [
              "<Figure size 288x288 with 1 Axes>"
            ],
            "image/png": "[encoded data removed]"
          },
          "metadata": {
            "needs_background": "light"
          }
        }
      ]
    },
    {
      "cell_type": "markdown",
      "metadata": {
        "id": "Xm6cFW72rTB6"
      },
      "source": [
        "#### Dividing each value in the confusion matrix by the number of images in the corresponding class"
      ]
    },
    {
      "cell_type": "code",
      "metadata": {
        "id": "hNDkHceZrTB6"
      },
      "source": [
        "row_sums = conf_mx.sum(axis=1, keepdims=True)\n",
        "norm_conf_mx = conf_mx / row_sums"
      ],
      "execution_count": 38,
      "outputs": []
    },
    {
      "cell_type": "markdown",
      "metadata": {
        "id": "7wdHyF8urTB6"
      },
      "source": [
        "#### fill the diagonal with zeros to keep only the errors"
      ]
    },
    {
      "cell_type": "code",
      "metadata": {
        "scrolled": true,
        "id": "oSWl-lE7rTB7",
        "outputId": "f31dab4d-d3a2-4c1e-a267-bd130e1dceaf",
        "colab": {
          "base_uri": "https://localhost:8080/",
          "height": 275
        }
      },
      "source": [
        "# CODE HERE\n",
        "np.fill_diagonal(norm_conf_mx, 0)\n",
        "plt.matshow(norm_conf_mx, cmap=plt.cm.gray)\n",
        "plt.show()"
      ],
      "execution_count": 39,
      "outputs": [
        {
          "output_type": "display_data",
          "data": {
            "text/plain": [
              "<Figure size 288x288 with 1 Axes>"
            ],
            "image/png": "[encoded data removed]"
          },
          "metadata": {
            "needs_background": "light"
          }
        }
      ]
    },
    {
      "cell_type": "code",
      "metadata": {
        "id": "D0l_VaVgrTB7"
      },
      "source": [
        "def plot_digits(instances, images_per_row=10, **options):\n",
        "    size = 28\n",
        "    images_per_row = min(len(instances), images_per_row)\n",
        "    images = [instance.reshape(size,size) for instance in instances]\n",
        "    n_rows = (len(instances) - 1) // images_per_row + 1\n",
        "    row_images = []\n",
        "    n_empty = n_rows * images_per_row - len(instances)\n",
        "    images.append(np.zeros((size, size * n_empty)))\n",
        "    for row in range(n_rows):\n",
        "        rimages = images[row * images_per_row : (row + 1) * images_per_row]\n",
        "        row_images.append(np.concatenate(rimages, axis=1))\n",
        "    image = np.concatenate(row_images, axis=0)\n",
        "    plt.imshow(image, cmap = matplotlib.cm.binary, **options)\n",
        "    plt.axis(\"off\")"
      ],
      "execution_count": 40,
      "outputs": []
    },
    {
      "cell_type": "code",
      "metadata": {
        "id": "2H_6XdKerTB8",
        "outputId": "6c46b56d-6888-49dc-b376-e0ffdccab49f",
        "colab": {
          "base_uri": "https://localhost:8080/",
          "height": 466
        }
      },
      "source": [
        "cl_a, cl_b = '3', '5'\n",
        "X_aa = x_train[(y_train == cl_a) & (y_train_pred == cl_a)]\n",
        "X_ab = x_train[(y_train == cl_a) & (y_train_pred == cl_b)]\n",
        "X_ba = x_train[(y_train == cl_b) & (y_train_pred == cl_a)]\n",
        "X_bb = x_train[(y_train == cl_b) & (y_train_pred == cl_b)]\n",
        "plt.figure(figsize=(8,8))\n",
        "plt.subplot(221); plot_digits(X_aa[:25], images_per_row=5)\n",
        "plt.subplot(222); plot_digits(X_ab[:25], images_per_row=5)\n",
        "plt.subplot(223); plot_digits(X_ba[:25], images_per_row=5)\n",
        "plt.subplot(224); plot_digits(X_bb[:25], images_per_row=5)\n",
        "plt.show()\n"
      ],
      "execution_count": 41,
      "outputs": [
        {
          "output_type": "display_data",
          "data": {
            "text/plain": [
              "<Figure size 576x576 with 4 Axes>"
            ],
            "image/png": "[encoded data removed]"
          },
          "metadata": {
            "needs_background": "light"
          }
        }
      ]
    },
    {
      "cell_type": "markdown",
      "metadata": {
        "id": "dCLTtG50rTB9"
      },
      "source": [
        "## Multilabel Classification"
      ]
    },
    {
      "cell_type": "markdown",
      "metadata": {
        "id": "CRVGta9irTB9"
      },
      "source": [
        "#### creates a y_multilabel array containing two target labels for each digit image"
      ]
    },
    {
      "cell_type": "code",
      "metadata": {
        "id": "ImrC91BPrTB9",
        "outputId": "fd35cc2e-4e88-46a0-8ce7-096931b01ba1",
        "colab": {
          "base_uri": "https://localhost:8080/"
        }
      },
      "source": [
        "from sklearn.neighbors import KNeighborsClassifier\n",
        "y_train_large = (y_train >= '7')\n",
        "y_train_odd = (y_train == '1')\n",
        "y_multilabel = np.c_[y_train_large, y_train_odd]\n",
        "knn_clf = KNeighborsClassifier()\n",
        "knn_clf.fit(x_train, y_multilabel)"
      ],
      "execution_count": 42,
      "outputs": [
        {
          "output_type": "execute_result",
          "data": {
            "text/plain": [
              "KNeighborsClassifier()"
            ]
          },
          "metadata": {},
          "execution_count": 42
        }
      ]
    },
    {
      "cell_type": "markdown",
      "metadata": {
        "id": "nJcwu7UfrTB-"
      },
      "source": [
        "#### find the prediction"
      ]
    },
    {
      "cell_type": "code",
      "metadata": {
        "id": "0n2fcDbArTB-",
        "outputId": "28cd4af9-8743-440c-b2ef-33ae773f2747",
        "colab": {
          "base_uri": "https://localhost:8080/"
        }
      },
      "source": [
        "# CODE HERE\n",
        "knn_clf.predict([some_digit])"
      ],
      "execution_count": 43,
      "outputs": [
        {
          "output_type": "execute_result",
          "data": {
            "text/plain": [
              "array([[ True, False]])"
            ]
          },
          "metadata": {},
          "execution_count": 43
        }
      ]
    },
    {
      "cell_type": "markdown",
      "metadata": {
        "id": "ymiEXPfprTB-"
      },
      "source": [
        "#### computes the average F1 score across all labels\n",
        "***Warning: the following cell may take a very long time (possibly hours depending on your hardware)***"
      ]
    },
    {
      "cell_type": "code",
      "metadata": {
        "id": "tOrUjiMgrTB-"
      },
      "source": [
        "#y_train_knn_pred = cross_val_predict(knn_clf, X_train, y_train, cv=3)\n",
        "#f1_score(y_train, y_train_knn_pred, average=\"macro\")"
      ],
      "execution_count": null,
      "outputs": []
    },
    {
      "cell_type": "markdown",
      "metadata": {
        "id": "cWLtvNU5rTB_"
      },
      "source": [
        "## Multioutput Classification\n"
      ]
    },
    {
      "cell_type": "code",
      "metadata": {
        "id": "2FS4erJ1rTB_"
      },
      "source": [
        "noise = np.random.randint(0, 100, (len(x_train), 784))\n",
        "X_train_mod = x_train + noise\n",
        "noise = np.random.randint(0, 100, (len(x_test), 784))\n",
        "X_test_mod = x_test + noise\n",
        "y_train_mod = x_train\n",
        "y_test_mod = x_test"
      ],
      "execution_count": 44,
      "outputs": []
    },
    {
      "cell_type": "markdown",
      "metadata": {
        "id": "7kqvQk1qrTB_"
      },
      "source": [
        "#### Let’s take a peek at an image from the test set"
      ]
    },
    {
      "cell_type": "code",
      "metadata": {
        "id": "jzaG_GAArTCA",
        "outputId": "568f9404-7ad2-4349-ed3a-0838db9c2fd2",
        "colab": {
          "base_uri": "https://localhost:8080/",
          "height": 248
        }
      },
      "source": [
        "# CODE HERE\n",
        "knn_clf.fit(X_train_mod, y_train_mod)\n",
        "clean_digit = knn_clf.predict([X_test_mod[1000]])\n",
        "plot_digits(clean_digit)"
      ],
      "execution_count": 46,
      "outputs": [
        {
          "output_type": "display_data",
          "data": {
            "text/plain": [
              "<Figure size 432x288 with 1 Axes>"
            ],
            "image/png": "[encoded data removed]"
          },
          "metadata": {
            "needs_background": "light"
          }
        }
      ]
    },
    {
      "cell_type": "markdown",
      "metadata": {
        "id": "IsM8nCFCrTCA"
      },
      "source": [
        "# Congrats you've finished your first classification Project🥳 !\n",
        "# #shAI_Club"
      ]
    }
  ]
}